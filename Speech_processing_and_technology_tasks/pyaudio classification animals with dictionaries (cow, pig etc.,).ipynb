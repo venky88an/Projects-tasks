{
 "cells": [
  {
   "cell_type": "code",
   "execution_count": 1,
   "metadata": {},
   "outputs": [
    {
     "name": "stderr",
     "output_type": "stream",
     "text": [
      "G:\\New folder\\lib\\site-packages\\h5py\\__init__.py:36: FutureWarning: Conversion of the second argument of issubdtype from `float` to `np.floating` is deprecated. In future, it will be treated as `np.float64 == np.dtype(float).type`.\n",
      "  from ._conv import register_converters as _register_converters\n",
      "Using TensorFlow backend.\n"
     ]
    }
   ],
   "source": [
    "import numpy as np\n",
    "from pyaudioclassification import feature_extraction, train, predict, print_leaderboard"
   ]
  },
  {
   "cell_type": "code",
   "execution_count": 2,
   "metadata": {},
   "outputs": [
    {
     "name": "stdout",
     "output_type": "stream",
     "text": [
      "Reading G:\\speech recognition\\pyAudioClassification-master\\pyAudioClassification-master\\example\\data\\101 - Dog\\*.ogg ...\n"
     ]
    },
    {
     "name": "stderr",
     "output_type": "stream",
     "text": [
      "100%|██████████| 40/40 [00:50<00:00,  1.10it/s]\n"
     ]
    },
    {
     "name": "stdout",
     "output_type": "stream",
     "text": [
      "Reading G:\\speech recognition\\pyAudioClassification-master\\pyAudioClassification-master\\example\\data\\102 - Rooster\\*.ogg ...\n"
     ]
    },
    {
     "name": "stderr",
     "output_type": "stream",
     "text": [
      "100%|██████████| 40/40 [00:33<00:00,  1.19it/s]\n"
     ]
    },
    {
     "name": "stdout",
     "output_type": "stream",
     "text": [
      "Reading G:\\speech recognition\\pyAudioClassification-master\\pyAudioClassification-master\\example\\data\\103 - Pig\\*.ogg ...\n"
     ]
    },
    {
     "name": "stderr",
     "output_type": "stream",
     "text": [
      "100%|██████████| 40/40 [00:39<00:00,  1.18it/s]\n"
     ]
    },
    {
     "name": "stdout",
     "output_type": "stream",
     "text": [
      "Reading G:\\speech recognition\\pyAudioClassification-master\\pyAudioClassification-master\\example\\data\\104 - Cow\\*.ogg ...\n"
     ]
    },
    {
     "name": "stderr",
     "output_type": "stream",
     "text": [
      "100%|██████████| 40/40 [00:38<00:00,  1.00it/s]\n"
     ]
    },
    {
     "name": "stdout",
     "output_type": "stream",
     "text": [
      "Reading G:\\speech recognition\\pyAudioClassification-master\\pyAudioClassification-master\\example\\data\\105 - Frog\\*.ogg ...\n"
     ]
    },
    {
     "name": "stderr",
     "output_type": "stream",
     "text": [
      "100%|██████████| 40/40 [00:40<00:00,  1.00it/s]\n"
     ]
    }
   ],
   "source": [
    "features, labels = feature_extraction('G:\\\\speech recognition\\\\pyAudioClassification-master\\\\pyAudioClassification-master\\\\example\\\\data\\\\')"
   ]
  },
  {
   "cell_type": "code",
   "execution_count": 3,
   "metadata": {},
   "outputs": [],
   "source": [
    "parent_dir = '.'\n",
    "\n",
    "# step 1: preprocessing\n",
    "if np.DataSource().exists(\"G:\\\\speech recognition\\\\pyAudioClassification-master\\\\pyAudioClassification-master\\\\example\\\\feat.npy\") and np.DataSource().exists(\"G:\\\\speech recognition\\\\pyAudioClassification-master\\\\pyAudioClassification-master\\\\example\\\\label.npy\"):\n",
    "    features, labels = np.load('G:\\\\speech recognition\\\\pyAudioClassification-master\\\\pyAudioClassification-master\\\\example\\\\feat.npy'), np.load('G:\\\\speech recognition\\\\pyAudioClassification-master\\\\pyAudioClassification-master\\\\example\\\\label.npy')\n",
    "else:\n",
    "    features, labels = feature_extraction('./data/') # we can use this as above execution and for save the model\n",
    "    np.save('./feat.npy', features)\n",
    "    np.save('./label.npy', labels)"
   ]
  },
  {
   "cell_type": "code",
   "execution_count": 4,
   "metadata": {},
   "outputs": [],
   "source": [
    "# step 2: training\n",
    "if np.DataSource().exists(\"G:\\\\speech recognition\\\\pyAudioClassification-master\\\\pyAudioClassification-master\\\\example\\\\model.h5\"):\n",
    "    from keras.models import load_model\n",
    "    model = load_model('G:\\\\speech recognition\\\\pyAudioClassification-master\\\\pyAudioClassification-master\\\\example\\\\model.h5')\n",
    "else:\n",
    "    model = train(features, labels, epochs=100)\n",
    "    model.save('./model.h5') # we can use this as above execution and for save the model"
   ]
  },
  {
   "cell_type": "code",
   "execution_count": 26,
   "metadata": {},
   "outputs": [],
   "source": [
    "# step 3: prediction\n",
    "pred = predict(model, 'G:\\\\speech recognition\\\\ESC-50-master-animal sounds\\\\ESC-50-master\\\\audio\\\\1-26806-A-1.wav')"
   ]
  },
  {
   "cell_type": "code",
   "execution_count": 27,
   "metadata": {},
   "outputs": [
    {
     "data": {
      "text/plain": [
       "array([[9.1013098e-01, 5.4777181e-04, 3.8293585e-02, 5.1027589e-02]],\n",
       "      dtype=float32)"
      ]
     },
     "execution_count": 27,
     "metadata": {},
     "output_type": "execute_result"
    }
   ],
   "source": [
    "pred"
   ]
  },
  {
   "cell_type": "code",
   "execution_count": 28,
   "metadata": {},
   "outputs": [
    {
     "name": "stdout",
     "output_type": "stream",
     "text": [
      "0\n"
     ]
    }
   ],
   "source": [
    "import matplotlib.pyplot as plt\n",
    "import numpy as np\n",
    "print(np.argmax(pred))"
   ]
  },
  {
   "cell_type": "code",
   "execution_count": 29,
   "metadata": {},
   "outputs": [],
   "source": [
    "#Frog means index 3\n",
    "#cow means index 2\n",
    "\n",
    "#refer pyaudioclassification\n",
    "\n",
    "#To run the program\n",
    "\n",
    "#refer segregated audio in G:\\speech recognition\\pyAudioClassification-master\\pyAudioClassification-master\\example\\data\\ (e.g:cow,dog, etc.,)\n",
    "#choose the same number G:\\\\speech recognition\\\\ESC-50-master-animal sounds\\\\ESC-50-master\\\\audio\\\\\n",
    "#finally we can predict it using index"
   ]
  },
  {
   "cell_type": "code",
   "execution_count": 30,
   "metadata": {},
   "outputs": [
    {
     "name": "stdout",
     "output_type": "stream",
     "text": [
      "Rooster\n"
     ]
    }
   ],
   "source": [
    "room_num = { 3:\"Frog\", 2:\"cow\", 1:\"Pig\", 0:\"Rooster\"}\n",
    "print(room_num [np.argmax(pred)])"
   ]
  },
  {
   "cell_type": "code",
   "execution_count": null,
   "metadata": {},
   "outputs": [],
   "source": []
  }
 ],
 "metadata": {
  "kernelspec": {
   "display_name": "Python 3",
   "language": "python",
   "name": "python3"
  },
  "language_info": {
   "codemirror_mode": {
    "name": "ipython",
    "version": 3
   },
   "file_extension": ".py",
   "mimetype": "text/x-python",
   "name": "python",
   "nbconvert_exporter": "python",
   "pygments_lexer": "ipython3",
   "version": "3.6.5"
  }
 },
 "nbformat": 4,
 "nbformat_minor": 2
}
