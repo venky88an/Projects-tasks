{
  "nbformat": 4,
  "nbformat_minor": 0,
  "metadata": {
    "accelerator": "GPU",
    "colab": {
      "name": "BERT_pytorch_Yelp_sentimental_analysis.ipynb",
      "provenance": [],
      "collapsed_sections": []
    },
    "kernelspec": {
      "display_name": "Python 3",
      "name": "python3"
    },
    "language_info": {
      "name": "python"
    }
  },
  "cells": [
    {
      "cell_type": "code",
      "metadata": {
        "colab": {
          "background_save": true,
          "base_uri": "https://localhost:8080/"
        },
        "id": "ktn_mYw7yeTn",
        "outputId": "337db144-3dd3-4f52-804f-f43f033f6a1d"
      },
      "source": [
        "!pip install torch==1.8.1+cu111 torchvision==0.9.1+cu111 torchaudio===0.8.1 -f https://download.pytorch.org/whl/torch_stable.html"
      ],
      "execution_count": null,
      "outputs": [
        {
          "name": "stdout",
          "output_type": "stream",
          "text": [
            "Looking in links: https://download.pytorch.org/whl/torch_stable.html\n",
            "Collecting torch==1.8.1+cu111\n",
            "  Downloading https://download.pytorch.org/whl/cu111/torch-1.8.1%2Bcu111-cp37-cp37m-linux_x86_64.whl (1982.2 MB)\n",
            "\u001b[K     |█████████████▌                  | 834.1 MB 42.0 MB/s eta 0:00:28tcmalloc: large alloc 1147494400 bytes == 0x5619e526c000 @  0x7fd0f67a7615 0x5619ab51b4cc 0x5619ab5fb47a 0x5619ab51e2ed 0x5619ab60fe1d 0x5619ab591e99 0x5619ab58c9ee 0x5619ab51fbda 0x5619ab591d00 0x5619ab58c9ee 0x5619ab51fbda 0x5619ab58e737 0x5619ab610c66 0x5619ab58ddaf 0x5619ab610c66 0x5619ab58ddaf 0x5619ab610c66 0x5619ab58ddaf 0x5619ab520039 0x5619ab563409 0x5619ab51ec52 0x5619ab591c25 0x5619ab58c9ee 0x5619ab51fbda 0x5619ab58e737 0x5619ab58c9ee 0x5619ab51fbda 0x5619ab58d915 0x5619ab51fafa 0x5619ab58dc0d 0x5619ab58c9ee\n",
            "\u001b[K     |█████████████████               | 1055.7 MB 20.7 MB/s eta 0:00:45tcmalloc: large alloc 1434370048 bytes == 0x561a298c2000 @  0x7fd0f67a7615 0x5619ab51b4cc 0x5619ab5fb47a 0x5619ab51e2ed 0x5619ab60fe1d 0x5619ab591e99 0x5619ab58c9ee 0x5619ab51fbda 0x5619ab591d00 0x5619ab58c9ee 0x5619ab51fbda 0x5619ab58e737 0x5619ab610c66 0x5619ab58ddaf 0x5619ab610c66 0x5619ab58ddaf 0x5619ab610c66 0x5619ab58ddaf 0x5619ab520039 0x5619ab563409 0x5619ab51ec52 0x5619ab591c25 0x5619ab58c9ee 0x5619ab51fbda 0x5619ab58e737 0x5619ab58c9ee 0x5619ab51fbda 0x5619ab58d915 0x5619ab51fafa 0x5619ab58dc0d 0x5619ab58c9ee\n",
            "\u001b[K     |█████████████████████▋          | 1336.2 MB 1.6 MB/s eta 0:06:43tcmalloc: large alloc 1792966656 bytes == 0x5619ae6f4000 @  0x7fd0f67a7615 0x5619ab51b4cc 0x5619ab5fb47a 0x5619ab51e2ed 0x5619ab60fe1d 0x5619ab591e99 0x5619ab58c9ee 0x5619ab51fbda 0x5619ab591d00 0x5619ab58c9ee 0x5619ab51fbda 0x5619ab58e737 0x5619ab610c66 0x5619ab58ddaf 0x5619ab610c66 0x5619ab58ddaf 0x5619ab610c66 0x5619ab58ddaf 0x5619ab520039 0x5619ab563409 0x5619ab51ec52 0x5619ab591c25 0x5619ab58c9ee 0x5619ab51fbda 0x5619ab58e737 0x5619ab58c9ee 0x5619ab51fbda 0x5619ab58d915 0x5619ab51fafa 0x5619ab58dc0d 0x5619ab58c9ee\n",
            "\u001b[K     |███████████████████████████▎    | 1691.1 MB 1.5 MB/s eta 0:03:15tcmalloc: large alloc 2241208320 bytes == 0x561a194dc000 @  0x7fd0f67a7615 0x5619ab51b4cc 0x5619ab5fb47a 0x5619ab51e2ed 0x5619ab60fe1d 0x5619ab591e99 0x5619ab58c9ee 0x5619ab51fbda 0x5619ab591d00 0x5619ab58c9ee 0x5619ab51fbda 0x5619ab58e737 0x5619ab610c66 0x5619ab58ddaf 0x5619ab610c66 0x5619ab58ddaf 0x5619ab610c66 0x5619ab58ddaf 0x5619ab520039 0x5619ab563409 0x5619ab51ec52 0x5619ab591c25 0x5619ab58c9ee 0x5619ab51fbda 0x5619ab58e737 0x5619ab58c9ee 0x5619ab51fbda 0x5619ab58d915 0x5619ab51fafa 0x5619ab58dc0d 0x5619ab58c9ee\n",
            "\u001b[K     |████████████████████████████████| 1982.2 MB 1.3 MB/s eta 0:00:01tcmalloc: large alloc 1982177280 bytes == 0x561a9ee3e000 @  0x7fd0f67a61e7 0x5619ab551067 0x5619ab51b4cc 0x5619ab5fb47a 0x5619ab51e2ed 0x5619ab60fe1d 0x5619ab591e99 0x5619ab58c9ee 0x5619ab51fbda 0x5619ab58dc0d 0x5619ab58c9ee 0x5619ab51fbda 0x5619ab58dc0d 0x5619ab58c9ee 0x5619ab51fbda 0x5619ab58dc0d 0x5619ab58c9ee 0x5619ab51fbda 0x5619ab58dc0d 0x5619ab58c9ee 0x5619ab51fbda 0x5619ab58dc0d 0x5619ab51fafa 0x5619ab58dc0d 0x5619ab58c9ee 0x5619ab51fbda 0x5619ab58e737 0x5619ab58c9ee 0x5619ab51fbda 0x5619ab58e737 0x5619ab58c9ee\n",
            "tcmalloc: large alloc 2477727744 bytes == 0x561b15098000 @  0x7fd0f67a7615 0x5619ab51b4cc 0x5619ab5fb47a 0x5619ab51e2ed 0x5619ab60fe1d 0x5619ab591e99 0x5619ab58c9ee 0x5619ab51fbda 0x5619ab58dc0d 0x5619ab58c9ee 0x5619ab51fbda 0x5619ab58dc0d 0x5619ab58c9ee 0x5619ab51fbda 0x5619ab58dc0d 0x5619ab58c9ee 0x5619ab51fbda 0x5619ab58dc0d 0x5619ab58c9ee 0x5619ab51fbda 0x5619ab58dc0d 0x5619ab51fafa 0x5619ab58dc0d 0x5619ab58c9ee 0x5619ab51fbda 0x5619ab58e737 0x5619ab58c9ee 0x5619ab51fbda 0x5619ab58e737 0x5619ab58c9ee 0x5619ab520271\n",
            "\u001b[K     |████████████████████████████████| 1982.2 MB 1.4 kB/s \n",
            "\u001b[?25hCollecting torchvision==0.9.1+cu111\n",
            "  Downloading https://download.pytorch.org/whl/cu111/torchvision-0.9.1%2Bcu111-cp37-cp37m-linux_x86_64.whl (17.6 MB)\n",
            "\u001b[K     |████████████████████████████████| 17.6 MB 23.4 MB/s \n",
            "\u001b[?25hCollecting torchaudio===0.8.1\n",
            "  Downloading torchaudio-0.8.1-cp37-cp37m-manylinux1_x86_64.whl (1.9 MB)\n",
            "\u001b[K     |████████████████████████████████| 1.9 MB 5.3 MB/s \n",
            "\u001b[?25hRequirement already satisfied: typing-extensions in /usr/local/lib/python3.7/dist-packages (from torch==1.8.1+cu111) (3.10.0.2)\n",
            "Requirement already satisfied: numpy in /usr/local/lib/python3.7/dist-packages (from torch==1.8.1+cu111) (1.19.5)\n",
            "Requirement already satisfied: pillow>=4.1.1 in /usr/local/lib/python3.7/dist-packages (from torchvision==0.9.1+cu111) (7.1.2)\n",
            "Installing collected packages: torch, torchvision, torchaudio\n",
            "  Attempting uninstall: torch\n",
            "    Found existing installation: torch 1.10.0+cu111\n",
            "    Uninstalling torch-1.10.0+cu111:\n",
            "      Successfully uninstalled torch-1.10.0+cu111\n",
            "  Attempting uninstall: torchvision\n",
            "    Found existing installation: torchvision 0.11.1+cu111\n",
            "    Uninstalling torchvision-0.11.1+cu111:\n",
            "      Successfully uninstalled torchvision-0.11.1+cu111\n",
            "\u001b[31mERROR: pip's dependency resolver does not currently take into account all the packages that are installed. This behaviour is the source of the following dependency conflicts.\n",
            "torchtext 0.11.0 requires torch==1.10.0, but you have torch 1.8.1+cu111 which is incompatible.\u001b[0m\n",
            "Successfully installed torch-1.8.1+cu111 torchaudio-0.8.1 torchvision-0.9.1+cu111\n"
          ]
        }
      ]
    },
    {
      "cell_type": "code",
      "metadata": {
        "id": "c7b8of34y5Ie"
      },
      "source": [
        "!pip install transformers requests beautifulsoup4 pandas numpy"
      ],
      "execution_count": null,
      "outputs": []
    },
    {
      "cell_type": "code",
      "metadata": {
        "id": "qSG0gwQQy_mj"
      },
      "source": [
        "from transformers import AutoTokenizer, AutoModelForSequenceClassification\n",
        "import torch\n",
        "import requests\n",
        "from bs4 import BeautifulSoup\n",
        "import re"
      ],
      "execution_count": null,
      "outputs": []
    },
    {
      "cell_type": "code",
      "metadata": {
        "id": "Iar0r2B_8WM1"
      },
      "source": [
        "#BERT-Tokenization/collecting tokenizers"
      ],
      "execution_count": null,
      "outputs": []
    },
    {
      "cell_type": "markdown",
      "metadata": {
        "id": "87alYpQF8iZh"
      },
      "source": [
        "#BERT-Tokenization/collecting tokenizers"
      ]
    },
    {
      "cell_type": "code",
      "metadata": {
        "id": "VY4hHKlazEo7"
      },
      "source": [
        "tokenizer = AutoTokenizer.from_pretrained('nlptown/bert-base-multilingual-uncased-sentiment')\n",
        "\n",
        "model = AutoModelForSequenceClassification.from_pretrained('nlptown/bert-base-multilingual-uncased-sentiment')"
      ],
      "execution_count": null,
      "outputs": []
    },
    {
      "cell_type": "code",
      "metadata": {
        "id": "S7vNSa4O8BGW"
      },
      "source": [
        "#Testing with own sentences/reviews"
      ],
      "execution_count": null,
      "outputs": []
    },
    {
      "cell_type": "markdown",
      "metadata": {
        "id": "hvrJdWlY8Kkk"
      },
      "source": [
        "#Testing with own sentences/reviews"
      ]
    },
    {
      "cell_type": "code",
      "metadata": {
        "id": "K5C6vg5LzKKo"
      },
      "source": [
        "tokens = tokenizer.encode('It was good but couldve been better. Great', return_tensors='pt')"
      ],
      "execution_count": 5,
      "outputs": []
    },
    {
      "cell_type": "code",
      "metadata": {
        "id": "rrPySKfw5aty"
      },
      "source": [
        "tokens = tokenizer.encode('It was worst service', return_tensors='pt')"
      ],
      "execution_count": 18,
      "outputs": []
    },
    {
      "cell_type": "code",
      "metadata": {
        "id": "k8PxysFe5l6_"
      },
      "source": [
        "tokens = tokenizer.encode('It was great service', return_tensors='pt')"
      ],
      "execution_count": 22,
      "outputs": []
    },
    {
      "cell_type": "code",
      "metadata": {
        "id": "pXSkATqD86XK"
      },
      "source": [
        "tokens = tokenizer.encode('It was disgusting service', return_tensors='pt')"
      ],
      "execution_count": 43,
      "outputs": []
    },
    {
      "cell_type": "code",
      "metadata": {
        "id": "FEZZ3oVPzSFK"
      },
      "source": [
        "result = model(tokens)"
      ],
      "execution_count": 44,
      "outputs": []
    },
    {
      "cell_type": "code",
      "metadata": {
        "id": "yTi8lanq6JAF"
      },
      "source": [
        "#Probability scores as the output/doing argmax to pick the most higher probability"
      ],
      "execution_count": 45,
      "outputs": []
    },
    {
      "cell_type": "markdown",
      "metadata": {
        "id": "52qwiUN_6YnC"
      },
      "source": [
        "#Probability scores as the output/doing argmax to pick the most higher probability"
      ]
    },
    {
      "cell_type": "markdown",
      "metadata": {
        "id": "lYEQuVzG6WZS"
      },
      "source": [
        ""
      ]
    },
    {
      "cell_type": "code",
      "metadata": {
        "id": "R04GCurGzXSa",
        "colab": {
          "base_uri": "https://localhost:8080/"
        },
        "outputId": "f5b4d4e8-b375-4aa2-b879-73a0a34bbcf6"
      },
      "source": [
        "result.logits"
      ],
      "execution_count": 46,
      "outputs": [
        {
          "output_type": "execute_result",
          "data": {
            "text/plain": [
              "tensor([[ 3.0481,  1.3916,  0.1251, -1.7785, -2.0451]],\n",
              "       grad_fn=<AddmmBackward>)"
            ]
          },
          "metadata": {},
          "execution_count": 46
        }
      ]
    },
    {
      "cell_type": "code",
      "metadata": {
        "id": "4La_BmKl5szn"
      },
      "source": [
        "#Sentiment Score\n",
        "#lower the score : negative review\n",
        "#Higher the score : positive review"
      ],
      "execution_count": 47,
      "outputs": []
    },
    {
      "cell_type": "markdown",
      "metadata": {
        "id": "M4b4a-t66Eif"
      },
      "source": [
        "#Sentiment Score\n",
        "#lower the score : negative review\n",
        "#Higher the score : positive review"
      ]
    },
    {
      "cell_type": "code",
      "metadata": {
        "id": "o4MEsaWCzbue",
        "colab": {
          "base_uri": "https://localhost:8080/"
        },
        "outputId": "f33779fa-9b5b-420e-f545-76dff616258e"
      },
      "source": [
        "int(torch.argmax(result.logits))+1"
      ],
      "execution_count": 48,
      "outputs": [
        {
          "output_type": "execute_result",
          "data": {
            "text/plain": [
              "1"
            ]
          },
          "metadata": {},
          "execution_count": 48
        }
      ]
    },
    {
      "cell_type": "code",
      "metadata": {
        "id": "1FOIcw-y7zFe"
      },
      "source": [
        "#Scraping/collecting reviews from the website"
      ],
      "execution_count": null,
      "outputs": []
    },
    {
      "cell_type": "code",
      "metadata": {
        "id": "BEm0KeOAzfpk"
      },
      "source": [
        "r = requests.get('https://www.yelp.com/biz/social-brew-cafe-pyrmont')\n",
        "r = requests.get('https://www.yelp.com/biz/mejico-sydney-2')\n",
        "soup = BeautifulSoup(r.text, 'html.parser')\n",
        "regex = re.compile('.*comment.*')\n",
        "results = soup.find_all('p', {'class':regex})\n",
        "reviews = [result.text for result in results]"
      ],
      "execution_count": 33,
      "outputs": []
    },
    {
      "cell_type": "code",
      "metadata": {
        "id": "RCCAVHdrzlv9"
      },
      "source": [
        "import numpy as np\n",
        "import pandas as pd"
      ],
      "execution_count": 34,
      "outputs": []
    },
    {
      "cell_type": "code",
      "metadata": {
        "id": "cxjYmkYyzyXq"
      },
      "source": [
        "df = pd.DataFrame(np.array(reviews), columns=['review'])"
      ],
      "execution_count": 35,
      "outputs": []
    },
    {
      "cell_type": "code",
      "metadata": {
        "colab": {
          "base_uri": "https://localhost:8080/",
          "height": 359
        },
        "id": "W4qbZpGh7LX3",
        "outputId": "c45acf54-4d6d-40c1-bdbd-740709676e71"
      },
      "source": [
        "df"
      ],
      "execution_count": 36,
      "outputs": [
        {
          "output_type": "execute_result",
          "data": {
            "text/html": [
              "<div>\n",
              "<style scoped>\n",
              "    .dataframe tbody tr th:only-of-type {\n",
              "        vertical-align: middle;\n",
              "    }\n",
              "\n",
              "    .dataframe tbody tr th {\n",
              "        vertical-align: top;\n",
              "    }\n",
              "\n",
              "    .dataframe thead th {\n",
              "        text-align: right;\n",
              "    }\n",
              "</style>\n",
              "<table border=\"1\" class=\"dataframe\">\n",
              "  <thead>\n",
              "    <tr style=\"text-align: right;\">\n",
              "      <th></th>\n",
              "      <th>review</th>\n",
              "    </tr>\n",
              "  </thead>\n",
              "  <tbody>\n",
              "    <tr>\n",
              "      <th>0</th>\n",
              "      <td>The food is fresh and tasty.  The scallop cevi...</td>\n",
              "    </tr>\n",
              "    <tr>\n",
              "      <th>1</th>\n",
              "      <td>Don't come here expecting legit Mexican food b...</td>\n",
              "    </tr>\n",
              "    <tr>\n",
              "      <th>2</th>\n",
              "      <td>Out of all the restaurants that I tried in Syd...</td>\n",
              "    </tr>\n",
              "    <tr>\n",
              "      <th>3</th>\n",
              "      <td>I was pleasantly surprised at what a great job...</td>\n",
              "    </tr>\n",
              "    <tr>\n",
              "      <th>4</th>\n",
              "      <td>Really nice (upmarket) Mexican restaurant. Goo...</td>\n",
              "    </tr>\n",
              "    <tr>\n",
              "      <th>5</th>\n",
              "      <td>We came here on a Thursday night @ 5pm and by ...</td>\n",
              "    </tr>\n",
              "    <tr>\n",
              "      <th>6</th>\n",
              "      <td>Ordered feed me for $59 along with that.. Food...</td>\n",
              "    </tr>\n",
              "    <tr>\n",
              "      <th>7</th>\n",
              "      <td>The best tasting cauliflower taco, mushroom ce...</td>\n",
              "    </tr>\n",
              "    <tr>\n",
              "      <th>8</th>\n",
              "      <td>Have been here twice and have absolutely loved...</td>\n",
              "    </tr>\n",
              "    <tr>\n",
              "      <th>9</th>\n",
              "      <td>Why is it that all Mexican food outside of Mex...</td>\n",
              "    </tr>\n",
              "  </tbody>\n",
              "</table>\n",
              "</div>"
            ],
            "text/plain": [
              "                                              review\n",
              "0  The food is fresh and tasty.  The scallop cevi...\n",
              "1  Don't come here expecting legit Mexican food b...\n",
              "2  Out of all the restaurants that I tried in Syd...\n",
              "3  I was pleasantly surprised at what a great job...\n",
              "4  Really nice (upmarket) Mexican restaurant. Goo...\n",
              "5  We came here on a Thursday night @ 5pm and by ...\n",
              "6  Ordered feed me for $59 along with that.. Food...\n",
              "7  The best tasting cauliflower taco, mushroom ce...\n",
              "8  Have been here twice and have absolutely loved...\n",
              "9  Why is it that all Mexican food outside of Mex..."
            ]
          },
          "metadata": {},
          "execution_count": 36
        }
      ]
    },
    {
      "cell_type": "code",
      "metadata": {
        "id": "aKKttZ0Iz3Rx",
        "colab": {
          "base_uri": "https://localhost:8080/",
          "height": 137
        },
        "outputId": "e1f34345-b90f-47ae-ce2e-721663aedee8"
      },
      "source": [
        "df['review'].iloc[1]"
      ],
      "execution_count": 37,
      "outputs": [
        {
          "output_type": "execute_result",
          "data": {
            "application/vnd.google.colaboratory.intrinsic+json": {
              "type": "string"
            },
            "text/plain": [
              "\"Don't come here expecting legit Mexican food but a modern twist on some staples. Loud party area, fun drinks and friendly staff make this a hip meeting area for large groups. Drinks were better than the food. They stuff the families toward the back but lack any amenities (no changing table) except a high chair. Service started off friendly but it took a while to get someone to take our order and then they forgot our dish which came out cold when we asked for it. Then we had to flag someone down to pay the bill. The watermelon salad was tasty but not complex, tossed with a few cucumbers and pistachios. The corn lollipops with spicy mayo sauce were probably the best dish. The beef empanadas were cold and average though the salsa was an interesting pickled onion. Definitely skip the octopus dish- it was dry, over cooked and lacked flavor though the presentation looked promising. It came with squares of polenta and dallops of potato mash with a dramatic squid ink streak across the dish but no interesting flavors stood out. All those dishes and still left hungry. The Guadalajara passion fruit drink was easy to sip and not too strong. The beer was average. This is more of a spot to grab some mixed cocktails and a few snacks but not meal worthy.\""
            ]
          },
          "metadata": {},
          "execution_count": 37
        }
      ]
    },
    {
      "cell_type": "code",
      "metadata": {
        "id": "hEKUDLJh1RHx"
      },
      "source": [
        "def sentiment_score(review):\n",
        "    tokens = tokenizer.encode(review, return_tensors='pt')\n",
        "    result = model(tokens)\n",
        "    return int(torch.argmax(result.logits))+1"
      ],
      "execution_count": 38,
      "outputs": []
    },
    {
      "cell_type": "code",
      "metadata": {
        "colab": {
          "base_uri": "https://localhost:8080/"
        },
        "id": "CIDuG43v1VC8",
        "outputId": "66c804fc-7691-47d5-b1a1-d8b35eeedabd"
      },
      "source": [
        "sentiment_score(df['review'].iloc[1])"
      ],
      "execution_count": 39,
      "outputs": [
        {
          "output_type": "execute_result",
          "data": {
            "text/plain": [
              "3"
            ]
          },
          "metadata": {},
          "execution_count": 39
        }
      ]
    },
    {
      "cell_type": "code",
      "metadata": {
        "id": "c-CvXG3i7h-w"
      },
      "source": [
        "# having review and sentiment score"
      ],
      "execution_count": null,
      "outputs": []
    },
    {
      "cell_type": "markdown",
      "metadata": {
        "id": "K8t1PFOO7n2g"
      },
      "source": [
        "#having reviews and sentiment scores using dataframe"
      ]
    },
    {
      "cell_type": "code",
      "metadata": {
        "id": "wCOS2jRj1Y-1"
      },
      "source": [
        "\n",
        "df['sentiment'] = df['review'].apply(lambda x: sentiment_score(x[:512]))"
      ],
      "execution_count": 40,
      "outputs": []
    },
    {
      "cell_type": "code",
      "metadata": {
        "id": "GDqpumaT8xh3"
      },
      "source": [
        "#Sentiment Score\n",
        "#lower the score : negative review\n",
        "#Higher the score : positive review"
      ],
      "execution_count": null,
      "outputs": []
    },
    {
      "cell_type": "markdown",
      "metadata": {
        "id": "4Wnxe5CL8zSh"
      },
      "source": [
        "#Sentiment Score\n",
        "#lower the score : negative review\n",
        "#Higher the score : positive review"
      ]
    },
    {
      "cell_type": "code",
      "metadata": {
        "colab": {
          "base_uri": "https://localhost:8080/",
          "height": 359
        },
        "id": "4g16aL_G1eDx",
        "outputId": "db40de72-c76b-47b9-d846-6bbb4b458322"
      },
      "source": [
        "df\n"
      ],
      "execution_count": 41,
      "outputs": [
        {
          "output_type": "execute_result",
          "data": {
            "text/html": [
              "<div>\n",
              "<style scoped>\n",
              "    .dataframe tbody tr th:only-of-type {\n",
              "        vertical-align: middle;\n",
              "    }\n",
              "\n",
              "    .dataframe tbody tr th {\n",
              "        vertical-align: top;\n",
              "    }\n",
              "\n",
              "    .dataframe thead th {\n",
              "        text-align: right;\n",
              "    }\n",
              "</style>\n",
              "<table border=\"1\" class=\"dataframe\">\n",
              "  <thead>\n",
              "    <tr style=\"text-align: right;\">\n",
              "      <th></th>\n",
              "      <th>review</th>\n",
              "      <th>sentiment</th>\n",
              "    </tr>\n",
              "  </thead>\n",
              "  <tbody>\n",
              "    <tr>\n",
              "      <th>0</th>\n",
              "      <td>The food is fresh and tasty.  The scallop cevi...</td>\n",
              "      <td>4</td>\n",
              "    </tr>\n",
              "    <tr>\n",
              "      <th>1</th>\n",
              "      <td>Don't come here expecting legit Mexican food b...</td>\n",
              "      <td>3</td>\n",
              "    </tr>\n",
              "    <tr>\n",
              "      <th>2</th>\n",
              "      <td>Out of all the restaurants that I tried in Syd...</td>\n",
              "      <td>5</td>\n",
              "    </tr>\n",
              "    <tr>\n",
              "      <th>3</th>\n",
              "      <td>I was pleasantly surprised at what a great job...</td>\n",
              "      <td>5</td>\n",
              "    </tr>\n",
              "    <tr>\n",
              "      <th>4</th>\n",
              "      <td>Really nice (upmarket) Mexican restaurant. Goo...</td>\n",
              "      <td>4</td>\n",
              "    </tr>\n",
              "    <tr>\n",
              "      <th>5</th>\n",
              "      <td>We came here on a Thursday night @ 5pm and by ...</td>\n",
              "      <td>4</td>\n",
              "    </tr>\n",
              "    <tr>\n",
              "      <th>6</th>\n",
              "      <td>Ordered feed me for $59 along with that.. Food...</td>\n",
              "      <td>2</td>\n",
              "    </tr>\n",
              "    <tr>\n",
              "      <th>7</th>\n",
              "      <td>The best tasting cauliflower taco, mushroom ce...</td>\n",
              "      <td>5</td>\n",
              "    </tr>\n",
              "    <tr>\n",
              "      <th>8</th>\n",
              "      <td>Have been here twice and have absolutely loved...</td>\n",
              "      <td>5</td>\n",
              "    </tr>\n",
              "    <tr>\n",
              "      <th>9</th>\n",
              "      <td>Why is it that all Mexican food outside of Mex...</td>\n",
              "      <td>3</td>\n",
              "    </tr>\n",
              "  </tbody>\n",
              "</table>\n",
              "</div>"
            ],
            "text/plain": [
              "                                              review  sentiment\n",
              "0  The food is fresh and tasty.  The scallop cevi...          4\n",
              "1  Don't come here expecting legit Mexican food b...          3\n",
              "2  Out of all the restaurants that I tried in Syd...          5\n",
              "3  I was pleasantly surprised at what a great job...          5\n",
              "4  Really nice (upmarket) Mexican restaurant. Goo...          4\n",
              "5  We came here on a Thursday night @ 5pm and by ...          4\n",
              "6  Ordered feed me for $59 along with that.. Food...          2\n",
              "7  The best tasting cauliflower taco, mushroom ce...          5\n",
              "8  Have been here twice and have absolutely loved...          5\n",
              "9  Why is it that all Mexican food outside of Mex...          3"
            ]
          },
          "metadata": {},
          "execution_count": 41
        }
      ]
    },
    {
      "cell_type": "code",
      "metadata": {
        "id": "U2PUJMtS7XfG"
      },
      "source": [
        "#Manual checking using dataframe"
      ],
      "execution_count": null,
      "outputs": []
    },
    {
      "cell_type": "code",
      "metadata": {
        "colab": {
          "base_uri": "https://localhost:8080/",
          "height": 52
        },
        "id": "imhE9Aq91jA7",
        "outputId": "b3ac7945-be91-494e-e2b5-ea458196b9b3"
      },
      "source": [
        "df['review'].iloc[3]"
      ],
      "execution_count": 42,
      "outputs": [
        {
          "output_type": "execute_result",
          "data": {
            "application/vnd.google.colaboratory.intrinsic+json": {
              "type": "string"
            },
            "text/plain": [
              "\"I was pleasantly surprised at what a great job they did with Mexican food at this downtown Sydney eatery. Very friendly staff, a substantial bar area, and yummy cocktails round out this dining experience in a superb way. Try the watermelon salad, and ANY of the tacos. You won't be disappointed!\""
            ]
          },
          "metadata": {},
          "execution_count": 42
        }
      ]
    },
    {
      "cell_type": "code",
      "metadata": {
        "id": "ijaXyoaZ1qOz"
      },
      "source": [
        ""
      ],
      "execution_count": null,
      "outputs": []
    }
  ]
}