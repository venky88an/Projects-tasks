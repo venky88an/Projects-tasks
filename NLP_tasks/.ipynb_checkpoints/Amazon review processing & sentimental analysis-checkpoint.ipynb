{
 "cells": [
  {
   "cell_type": "code",
   "execution_count": 1,
   "metadata": {},
   "outputs": [],
   "source": [
    "import json\n",
    "import pandas as pd"
   ]
  },
  {
   "cell_type": "code",
   "execution_count": 2,
   "metadata": {},
   "outputs": [],
   "source": [
    "data = []\n",
    "\n",
    "for line in open('G:\\\\Datascience_experiments\\\\reviews_Cell_Phones_and_Accessories_5.json\\\\Cell_Phones_and_Accessories_5.json','r') :\n",
    "    data.append(json.loads(line))"
   ]
  },
  {
   "cell_type": "code",
   "execution_count": 4,
   "metadata": {},
   "outputs": [
    {
     "name": "stdout",
     "output_type": "stream",
     "text": [
      "{'reviewerID': 'A30TL5EWN6DFXT', 'asin': '120401325X', 'reviewerName': 'christina', 'helpful': [0, 0], 'reviewText': \"They look good and stick good! I just don't like the rounded shape because I was always bumping it and Siri kept popping up and it was irritating. I just won't buy a product like this again\", 'overall': 4.0, 'summary': 'Looks Good', 'unixReviewTime': 1400630400, 'reviewTime': '05 21, 2014'}\n",
      "194439\n"
     ]
    }
   ],
   "source": [
    "print(data[0])\n",
    "df = pd.DataFrame(data)\n",
    "print(len(data))"
   ]
  },
  {
   "cell_type": "code",
   "execution_count": 6,
   "metadata": {},
   "outputs": [
    {
     "data": {
      "text/html": [
       "<div>\n",
       "<style scoped>\n",
       "    .dataframe tbody tr th:only-of-type {\n",
       "        vertical-align: middle;\n",
       "    }\n",
       "\n",
       "    .dataframe tbody tr th {\n",
       "        vertical-align: top;\n",
       "    }\n",
       "\n",
       "    .dataframe thead th {\n",
       "        text-align: right;\n",
       "    }\n",
       "</style>\n",
       "<table border=\"1\" class=\"dataframe\">\n",
       "  <thead>\n",
       "    <tr style=\"text-align: right;\">\n",
       "      <th></th>\n",
       "      <th>reviewerID</th>\n",
       "      <th>asin</th>\n",
       "      <th>reviewerName</th>\n",
       "      <th>helpful</th>\n",
       "      <th>reviewText</th>\n",
       "      <th>overall</th>\n",
       "      <th>summary</th>\n",
       "      <th>unixReviewTime</th>\n",
       "      <th>reviewTime</th>\n",
       "    </tr>\n",
       "  </thead>\n",
       "  <tbody>\n",
       "    <tr>\n",
       "      <th>0</th>\n",
       "      <td>A30TL5EWN6DFXT</td>\n",
       "      <td>120401325X</td>\n",
       "      <td>christina</td>\n",
       "      <td>[0, 0]</td>\n",
       "      <td>They look good and stick good! I just don't li...</td>\n",
       "      <td>4.0</td>\n",
       "      <td>Looks Good</td>\n",
       "      <td>1400630400</td>\n",
       "      <td>05 21, 2014</td>\n",
       "    </tr>\n",
       "    <tr>\n",
       "      <th>1</th>\n",
       "      <td>ASY55RVNIL0UD</td>\n",
       "      <td>120401325X</td>\n",
       "      <td>emily l.</td>\n",
       "      <td>[0, 0]</td>\n",
       "      <td>These stickers work like the review says they ...</td>\n",
       "      <td>5.0</td>\n",
       "      <td>Really great product.</td>\n",
       "      <td>1389657600</td>\n",
       "      <td>01 14, 2014</td>\n",
       "    </tr>\n",
       "    <tr>\n",
       "      <th>2</th>\n",
       "      <td>A2TMXE2AFO7ONB</td>\n",
       "      <td>120401325X</td>\n",
       "      <td>Erica</td>\n",
       "      <td>[0, 0]</td>\n",
       "      <td>These are awesome and make my phone look so st...</td>\n",
       "      <td>5.0</td>\n",
       "      <td>LOVE LOVE LOVE</td>\n",
       "      <td>1403740800</td>\n",
       "      <td>06 26, 2014</td>\n",
       "    </tr>\n",
       "    <tr>\n",
       "      <th>3</th>\n",
       "      <td>AWJ0WZQYMYFQ4</td>\n",
       "      <td>120401325X</td>\n",
       "      <td>JM</td>\n",
       "      <td>[4, 4]</td>\n",
       "      <td>Item arrived in great time and was in perfect ...</td>\n",
       "      <td>4.0</td>\n",
       "      <td>Cute!</td>\n",
       "      <td>1382313600</td>\n",
       "      <td>10 21, 2013</td>\n",
       "    </tr>\n",
       "    <tr>\n",
       "      <th>4</th>\n",
       "      <td>ATX7CZYFXI1KW</td>\n",
       "      <td>120401325X</td>\n",
       "      <td>patrice m rogoza</td>\n",
       "      <td>[2, 3]</td>\n",
       "      <td>awesome! stays on, and looks great. can be use...</td>\n",
       "      <td>5.0</td>\n",
       "      <td>leopard home button sticker for iphone 4s</td>\n",
       "      <td>1359849600</td>\n",
       "      <td>02 3, 2013</td>\n",
       "    </tr>\n",
       "    <tr>\n",
       "      <th>5</th>\n",
       "      <td>APX47D16JOP7H</td>\n",
       "      <td>120401325X</td>\n",
       "      <td>RLH</td>\n",
       "      <td>[1, 2]</td>\n",
       "      <td>These make using the home button easy. My daug...</td>\n",
       "      <td>3.0</td>\n",
       "      <td>Cute</td>\n",
       "      <td>1381536000</td>\n",
       "      <td>10 12, 2013</td>\n",
       "    </tr>\n",
       "    <tr>\n",
       "      <th>6</th>\n",
       "      <td>A1JVVYYO7G56DS</td>\n",
       "      <td>120401325X</td>\n",
       "      <td>Tyler Evans</td>\n",
       "      <td>[0, 0]</td>\n",
       "      <td>Came just as described.. It doesn't come unstu...</td>\n",
       "      <td>5.0</td>\n",
       "      <td>best thing ever..</td>\n",
       "      <td>1377129600</td>\n",
       "      <td>08 22, 2013</td>\n",
       "    </tr>\n",
       "    <tr>\n",
       "      <th>7</th>\n",
       "      <td>A6FGO4TBZ3QFZ</td>\n",
       "      <td>3998899561</td>\n",
       "      <td>Abdullah Albyati</td>\n",
       "      <td>[1, 2]</td>\n",
       "      <td>it worked for the first week then it only char...</td>\n",
       "      <td>1.0</td>\n",
       "      <td>not a good Idea</td>\n",
       "      <td>1384992000</td>\n",
       "      <td>11 21, 2013</td>\n",
       "    </tr>\n",
       "    <tr>\n",
       "      <th>8</th>\n",
       "      <td>A2JWEDW5FSVB0F</td>\n",
       "      <td>3998899561</td>\n",
       "      <td>Adam</td>\n",
       "      <td>[2, 3]</td>\n",
       "      <td>Good case, solid build. Protects phone all aro...</td>\n",
       "      <td>5.0</td>\n",
       "      <td>Solid Case</td>\n",
       "      <td>1380067200</td>\n",
       "      <td>09 25, 2013</td>\n",
       "    </tr>\n",
       "    <tr>\n",
       "      <th>9</th>\n",
       "      <td>A8AJS1DW7L3JJ</td>\n",
       "      <td>3998899561</td>\n",
       "      <td>Agata Majchrzak</td>\n",
       "      <td>[1, 1]</td>\n",
       "      <td>This is a fantastic case. Very stylish and pro...</td>\n",
       "      <td>5.0</td>\n",
       "      <td>Perfect Case</td>\n",
       "      <td>1396483200</td>\n",
       "      <td>04 3, 2014</td>\n",
       "    </tr>\n",
       "  </tbody>\n",
       "</table>\n",
       "</div>"
      ],
      "text/plain": [
       "       reviewerID        asin      reviewerName helpful  \\\n",
       "0  A30TL5EWN6DFXT  120401325X         christina  [0, 0]   \n",
       "1   ASY55RVNIL0UD  120401325X          emily l.  [0, 0]   \n",
       "2  A2TMXE2AFO7ONB  120401325X             Erica  [0, 0]   \n",
       "3   AWJ0WZQYMYFQ4  120401325X                JM  [4, 4]   \n",
       "4   ATX7CZYFXI1KW  120401325X  patrice m rogoza  [2, 3]   \n",
       "5   APX47D16JOP7H  120401325X               RLH  [1, 2]   \n",
       "6  A1JVVYYO7G56DS  120401325X       Tyler Evans  [0, 0]   \n",
       "7   A6FGO4TBZ3QFZ  3998899561  Abdullah Albyati  [1, 2]   \n",
       "8  A2JWEDW5FSVB0F  3998899561              Adam  [2, 3]   \n",
       "9   A8AJS1DW7L3JJ  3998899561   Agata Majchrzak  [1, 1]   \n",
       "\n",
       "                                          reviewText  overall  \\\n",
       "0  They look good and stick good! I just don't li...      4.0   \n",
       "1  These stickers work like the review says they ...      5.0   \n",
       "2  These are awesome and make my phone look so st...      5.0   \n",
       "3  Item arrived in great time and was in perfect ...      4.0   \n",
       "4  awesome! stays on, and looks great. can be use...      5.0   \n",
       "5  These make using the home button easy. My daug...      3.0   \n",
       "6  Came just as described.. It doesn't come unstu...      5.0   \n",
       "7  it worked for the first week then it only char...      1.0   \n",
       "8  Good case, solid build. Protects phone all aro...      5.0   \n",
       "9  This is a fantastic case. Very stylish and pro...      5.0   \n",
       "\n",
       "                                     summary  unixReviewTime   reviewTime  \n",
       "0                                 Looks Good      1400630400  05 21, 2014  \n",
       "1                      Really great product.      1389657600  01 14, 2014  \n",
       "2                             LOVE LOVE LOVE      1403740800  06 26, 2014  \n",
       "3                                      Cute!      1382313600  10 21, 2013  \n",
       "4  leopard home button sticker for iphone 4s      1359849600   02 3, 2013  \n",
       "5                                       Cute      1381536000  10 12, 2013  \n",
       "6                          best thing ever..      1377129600  08 22, 2013  \n",
       "7                            not a good Idea      1384992000  11 21, 2013  \n",
       "8                                 Solid Case      1380067200  09 25, 2013  \n",
       "9                               Perfect Case      1396483200   04 3, 2014  "
      ]
     },
     "execution_count": 6,
     "metadata": {},
     "output_type": "execute_result"
    }
   ],
   "source": [
    "df.head(10)"
   ]
  },
  {
   "cell_type": "code",
   "execution_count": 7,
   "metadata": {},
   "outputs": [],
   "source": [
    "df.head(10)\n",
    "#df = df.drop(columns=['reviewerName', 'vote','image','style'])\n",
    "df1 = df.rename(columns = {'overall': 'rating', 'asin': 'productID'}, inplace = False)"
   ]
  },
  {
   "cell_type": "code",
   "execution_count": 8,
   "metadata": {},
   "outputs": [],
   "source": [
    "df1.dropna(axis = 0, how ='any',inplace=True) \n",
    "df1.drop_duplicates(subset=['rating','reviewText'],keep='first',inplace=True)"
   ]
  },
  {
   "cell_type": "code",
   "execution_count": 10,
   "metadata": {},
   "outputs": [
    {
     "name": "stdout",
     "output_type": "stream",
     "text": [
      "190722\n"
     ]
    }
   ],
   "source": [
    "print(len(df1))\n",
    "df1.to_csv('G:\\\\Datascience_experiments\\\\reviews_Cell_Phones_and_Accessories_5.json\\\\CellPhonesRating.csv')"
   ]
  },
  {
   "cell_type": "markdown",
   "metadata": {},
   "source": [
    "# Csv loading and classification"
   ]
  },
  {
   "cell_type": "code",
   "execution_count": 11,
   "metadata": {},
   "outputs": [],
   "source": [
    "import matplotlib as mpl\n",
    "import matplotlib.pyplot as plt\n",
    "import os\n",
    "import re\n",
    "import shutil\n",
    "import string\n",
    "import tensorflow as tf\n",
    "from tensorflow.keras import regularizers\n",
    "\n",
    "from tensorflow.keras import layers\n",
    "from tensorflow.keras import losses\n",
    "\n",
    "from collections import Counter\n",
    "\n",
    "\n",
    "import pandas as pd\n",
    "import numpy as np\n",
    "\n",
    "import sklearn\n",
    "\n",
    "\n",
    "from sklearn.model_selection import train_test_split\n",
    "from sklearn.metrics import classification_report\n",
    "\n",
    "from tensorflow.keras import preprocessing\n",
    "from tensorflow.keras.preprocessing.text import Tokenizer\n",
    "from tensorflow.keras.preprocessing.sequence import pad_sequences"
   ]
  },
  {
   "cell_type": "code",
   "execution_count": 12,
   "metadata": {},
   "outputs": [
    {
     "name": "stdout",
     "output_type": "stream",
     "text": [
      "2.1.0\n"
     ]
    }
   ],
   "source": [
    "print(tf.__version__)"
   ]
  },
  {
   "cell_type": "code",
   "execution_count": 13,
   "metadata": {},
   "outputs": [],
   "source": [
    "def clean_text(text ): \n",
    "    delete_dict = {sp_character: '' for sp_character in string.punctuation} \n",
    "    delete_dict[' '] = ' ' \n",
    "    table = str.maketrans(delete_dict)\n",
    "    text1 = text.translate(table)\n",
    "    #print('cleaned:'+text1)\n",
    "    textArr= text1.split()\n",
    "    text2 = ' '.join([w for w in textArr if ( not w.isdigit() and  ( not w.isdigit() and len(w)>2))]) \n",
    "    \n",
    "    return text2.lower()"
   ]
  },
  {
   "cell_type": "code",
   "execution_count": 14,
   "metadata": {},
   "outputs": [
    {
     "name": "stdout",
     "output_type": "stream",
     "text": [
      "   Unnamed: 0      reviewerID   productID      reviewerName helpful  \\\n",
      "0           0  A30TL5EWN6DFXT  120401325X         christina  [0, 0]   \n",
      "1           1   ASY55RVNIL0UD  120401325X          emily l.  [0, 0]   \n",
      "2           2  A2TMXE2AFO7ONB  120401325X             Erica  [0, 0]   \n",
      "3           3   AWJ0WZQYMYFQ4  120401325X                JM  [4, 4]   \n",
      "4           4   ATX7CZYFXI1KW  120401325X  patrice m rogoza  [2, 3]   \n",
      "5           5   APX47D16JOP7H  120401325X               RLH  [1, 2]   \n",
      "6           6  A1JVVYYO7G56DS  120401325X       Tyler Evans  [0, 0]   \n",
      "7           7   A6FGO4TBZ3QFZ  3998899561  Abdullah Albyati  [1, 2]   \n",
      "8           8  A2JWEDW5FSVB0F  3998899561              Adam  [2, 3]   \n",
      "9           9   A8AJS1DW7L3JJ  3998899561   Agata Majchrzak  [1, 1]   \n",
      "\n",
      "                                          reviewText  rating  \\\n",
      "0  They look good and stick good! I just don't li...     4.0   \n",
      "1  These stickers work like the review says they ...     5.0   \n",
      "2  These are awesome and make my phone look so st...     5.0   \n",
      "3  Item arrived in great time and was in perfect ...     4.0   \n",
      "4  awesome! stays on, and looks great. can be use...     5.0   \n",
      "5  These make using the home button easy. My daug...     3.0   \n",
      "6  Came just as described.. It doesn't come unstu...     5.0   \n",
      "7  it worked for the first week then it only char...     1.0   \n",
      "8  Good case, solid build. Protects phone all aro...     5.0   \n",
      "9  This is a fantastic case. Very stylish and pro...     5.0   \n",
      "\n",
      "                                     summary  unixReviewTime   reviewTime  \n",
      "0                                 Looks Good      1400630400  05 21, 2014  \n",
      "1                      Really great product.      1389657600  01 14, 2014  \n",
      "2                             LOVE LOVE LOVE      1403740800  06 26, 2014  \n",
      "3                                      Cute!      1382313600  10 21, 2013  \n",
      "4  leopard home button sticker for iphone 4s      1359849600   02 3, 2013  \n",
      "5                                       Cute      1381536000  10 12, 2013  \n",
      "6                          best thing ever..      1377129600  08 22, 2013  \n",
      "7                            not a good Idea      1384992000  11 21, 2013  \n",
      "8                                 Solid Case      1380067200  09 25, 2013  \n",
      "9                               Perfect Case      1396483200   04 3, 2014  \n",
      "190722\n",
      "Unique Products\n",
      "10420\n",
      "Unique Users\n",
      "27873\n"
     ]
    }
   ],
   "source": [
    "review_data= pd.read_csv(\"G:\\\\Datascience_experiments\\\\reviews_Cell_Phones_and_Accessories_5.json\\\\CellPhonesRating.csv\")\n",
    "print(review_data.head(10))\n",
    "print(len(review_data))\n",
    "print('Unique Products')\n",
    "print(len(review_data.groupby('productID')))\n",
    "print('Unique Users')\n",
    "print(len(review_data.groupby('reviewerID')))"
   ]
  },
  {
   "cell_type": "code",
   "execution_count": 15,
   "metadata": {},
   "outputs": [
    {
     "name": "stdout",
     "output_type": "stream",
     "text": [
      "-------Dataset --------\n",
      "5.0    106417\n",
      "4.0     39275\n",
      "3.0     21068\n",
      "1.0     13066\n",
      "2.0     10884\n",
      "Name: rating, dtype: int64\n",
      "190710\n",
      "-------------------------\n",
      "Train Max Sentence Length :4236\n"
     ]
    }
   ],
   "source": [
    "review_data.dropna(axis = 0, how ='any',inplace=True) \n",
    "#review_data['reviewText'] = review_data['reviewText'].apply(remove_url)\n",
    "review_data['reviewText'] = review_data['reviewText'].apply(clean_text)\n",
    "review_data['Num_words_text'] = review_data['reviewText'].apply(lambda x:len(str(x).split())) \n",
    "\n",
    "print('-------Dataset --------')\n",
    "print(review_data['rating'].value_counts())\n",
    "print(len(review_data))\n",
    "print('-------------------------')\n",
    "max_review_data_sentence_length  = review_data['Num_words_text'].max()\n",
    "\n",
    "print('Train Max Sentence Length :'+str(max_review_data_sentence_length))\n",
    "\n",
    "\n",
    "#all_sentences = train_data['text'].tolist() + test_data['text'].tolist()"
   ]
  },
  {
   "cell_type": "code",
   "execution_count": 16,
   "metadata": {},
   "outputs": [
    {
     "data": {
      "text/plain": [
       "count    190710.000000\n",
       "mean         70.462042\n",
       "std         104.659018\n",
       "min           0.000000\n",
       "25%          21.000000\n",
       "50%          36.000000\n",
       "75%          77.000000\n",
       "max        4236.000000\n",
       "Name: Num_words_text, dtype: float64"
      ]
     },
     "execution_count": 16,
     "metadata": {},
     "output_type": "execute_result"
    }
   ],
   "source": [
    "review_data['Num_words_text'].describe()"
   ]
  },
  {
   "cell_type": "markdown",
   "metadata": {},
   "source": [
    "# Let us create a dataset having reviews of 100 words or less"
   ]
  },
  {
   "cell_type": "code",
   "execution_count": 17,
   "metadata": {},
   "outputs": [
    {
     "name": "stdout",
     "output_type": "stream",
     "text": [
      "No of Short reviews\n",
      "116296\n",
      "No of Long reviews\n",
      "35896\n"
     ]
    }
   ],
   "source": [
    "mask = (review_data['Num_words_text'] < 100) & (review_data['Num_words_text'] >=20)\n",
    "df_short_reviews = review_data[mask]\n",
    "print('No of Short reviews')\n",
    "print(len(df_short_reviews))\n",
    "\n",
    "mask = review_data['Num_words_text'] >= 100\n",
    "df_long_reviews = review_data[mask]\n",
    "print('No of Long reviews')\n",
    "print(len(df_long_reviews))"
   ]
  },
  {
   "cell_type": "code",
   "execution_count": 18,
   "metadata": {},
   "outputs": [
    {
     "name": "stdout",
     "output_type": "stream",
     "text": [
      "99\n"
     ]
    }
   ],
   "source": [
    "print(df_short_reviews['Num_words_text'].max())"
   ]
  },
  {
   "cell_type": "code",
   "execution_count": 19,
   "metadata": {},
   "outputs": [],
   "source": [
    "def get_sentiment(rating):\n",
    "    if rating == 5 or rating == 4 or rating ==3:\n",
    "        return 1\n",
    "    else:\n",
    "        return 0"
   ]
  },
  {
   "cell_type": "code",
   "execution_count": 20,
   "metadata": {},
   "outputs": [
    {
     "name": "stdout",
     "output_type": "stream",
     "text": [
      "58116\n",
      "5.0    33409\n",
      "4.0    11404\n",
      "3.0     6187\n",
      "1.0     3952\n",
      "2.0     3164\n",
      "Name: rating, dtype: int64\n",
      "Train data\n",
      "1    51000\n",
      "0     7116\n",
      "Name: sentiment, dtype: int64\n",
      "119446\n",
      "5.0    69204\n",
      "4.0    22604\n",
      "3.0    12808\n",
      "1.0     8397\n",
      "2.0     6433\n",
      "Name: rating, dtype: int64\n",
      "Test data\n",
      "1    104616\n",
      "0     14830\n",
      "Name: sentiment, dtype: int64\n"
     ]
    }
   ],
   "source": [
    "filtered_data = df_short_reviews.groupby('productID').filter(lambda x: len(x) >= 20)\n",
    "print(len(filtered_data))\n",
    "print(filtered_data ['rating'].value_counts())\n",
    "filtered_data ['sentiment'] = filtered_data ['rating'].apply(get_sentiment)\n",
    "#train_data = df_short_reviews.sample(n=200000, random_state =0)\n",
    "train_data = filtered_data[['reviewText','sentiment']]\n",
    "print('Train data')\n",
    "print(train_data['sentiment'].value_counts())\n",
    "\n",
    "#Create Test Data\n",
    "mask = review_data['Num_words_text'] < 100 \n",
    "df_short_reviews = review_data[mask]\n",
    "filtered_data = df_short_reviews.groupby('productID').filter(lambda x: len(x) >= 10)\n",
    "print(len(filtered_data))\n",
    "print(filtered_data ['rating'].value_counts())\n",
    "filtered_data ['sentiment'] = filtered_data ['rating'].apply(get_sentiment)\n",
    "#train_data = df_short_reviews.sample(n=200000, random_state =0)\n",
    "test_data = filtered_data[['reviewText','sentiment']]\n",
    "print('Test data')\n",
    "print(test_data['sentiment'].value_counts())"
   ]
  },
  {
   "cell_type": "code",
   "execution_count": 21,
   "metadata": {},
   "outputs": [
    {
     "data": {
      "text/plain": [
       "1    51000\n",
       "0     7116\n",
       "Name: sentiment, dtype: int64"
      ]
     },
     "execution_count": 21,
     "metadata": {},
     "output_type": "execute_result"
    }
   ],
   "source": [
    "train_data['sentiment'].value_counts()"
   ]
  },
  {
   "cell_type": "code",
   "execution_count": 22,
   "metadata": {},
   "outputs": [
    {
     "name": "stdout",
     "output_type": "stream",
     "text": [
      "Train data len:29058\n",
      "Class distributionCounter({1: 25500, 0: 3558})\n",
      "Valid data len:29058\n",
      "Class distributionCounter({1: 25500, 0: 3558})\n"
     ]
    }
   ],
   "source": [
    "X_train, X_valid, y_train, y_valid = train_test_split(train_data['reviewText'].tolist(),\\\n",
    "                                                      train_data['sentiment'].tolist(),\\\n",
    "                                                      test_size=0.5,\\\n",
    "                                                      stratify = train_data['sentiment'].tolist(),\\\n",
    "                                                      random_state=0)\n",
    "\n",
    "\n",
    "print('Train data len:'+str(len(X_train)))\n",
    "print('Class distribution'+str(Counter(y_train)))\n",
    "print('Valid data len:'+str(len(X_valid)))\n",
    "print('Class distribution'+ str(Counter(y_valid)))"
   ]
  },
  {
   "cell_type": "code",
   "execution_count": 23,
   "metadata": {},
   "outputs": [
    {
     "name": "stdout",
     "output_type": "stream",
     "text": [
      "[[1, 115, 20, 13]]\n"
     ]
    }
   ],
   "source": [
    "num_words = 50000\n",
    "\n",
    "tokenizer = Tokenizer(num_words=num_words,oov_token=\"unk\")\n",
    "tokenizer.fit_on_texts(X_train)\n",
    "\n",
    "\n",
    "print(str(tokenizer.texts_to_sequences(['xyz how are you'])))"
   ]
  },
  {
   "cell_type": "code",
   "execution_count": 24,
   "metadata": {},
   "outputs": [
    {
     "name": "stderr",
     "output_type": "stream",
     "text": [
      "G:\\New folder\\envs\\pyfor\\lib\\site-packages\\ipykernel_launcher.py:1: VisibleDeprecationWarning: Creating an ndarray from ragged nested sequences (which is a list-or-tuple of lists-or-tuples-or ndarrays with different lengths or shapes) is deprecated. If you meant to do this, you must specify 'dtype=object' when creating the ndarray\n",
      "  \"\"\"Entry point for launching an IPython kernel.\n",
      "G:\\New folder\\envs\\pyfor\\lib\\site-packages\\ipykernel_launcher.py:2: VisibleDeprecationWarning: Creating an ndarray from ragged nested sequences (which is a list-or-tuple of lists-or-tuples-or ndarrays with different lengths or shapes) is deprecated. If you meant to do this, you must specify 'dtype=object' when creating the ndarray\n",
      "  \n",
      "G:\\New folder\\envs\\pyfor\\lib\\site-packages\\ipykernel_launcher.py:3: VisibleDeprecationWarning: Creating an ndarray from ragged nested sequences (which is a list-or-tuple of lists-or-tuples-or ndarrays with different lengths or shapes) is deprecated. If you meant to do this, you must specify 'dtype=object' when creating the ndarray\n",
      "  This is separate from the ipykernel package so we can avoid doing imports until\n"
     ]
    },
    {
     "name": "stdout",
     "output_type": "stream",
     "text": [
      "Train data len:29058\n",
      "Class distributionCounter({1: 25500, 0: 3558})\n",
      "Validation data len:29058\n",
      "Class distributionCounter({1: 25500, 0: 3558})\n",
      "Test data len:119446\n",
      "Class distributionCounter({1: 104616, 0: 14830})\n"
     ]
    }
   ],
   "source": [
    "x_train = np.array( tokenizer.texts_to_sequences(X_train) )\n",
    "x_valid = np.array( tokenizer.texts_to_sequences(X_valid) )\n",
    "x_test  = np.array( tokenizer.texts_to_sequences(test_data['reviewText'].tolist()) )\n",
    "\n",
    "\n",
    "\n",
    "x_train = pad_sequences(x_train, padding='post', maxlen=100)\n",
    "x_valid = pad_sequences(x_valid, padding='post', maxlen=100)\n",
    "x_test = pad_sequences(x_test, padding='post', maxlen=100)\n",
    "\n",
    "\n",
    "\n",
    "train_labels = np.asarray(y_train )\n",
    "valid_labels = np.asarray( y_valid)\n",
    "\n",
    "test_labels = np.asarray(test_data['sentiment'].tolist())\n",
    "\n",
    "print('Train data len:'+str(len(x_train)))\n",
    "print('Class distribution'+str(Counter(train_labels)))\n",
    "\n",
    "print('Validation data len:'+str(len(x_valid)))\n",
    "print('Class distribution'+str(Counter(valid_labels)))\n",
    "\n",
    "print('Test data len:'+str(len(x_test)))\n",
    "print('Class distribution'+str(Counter(test_labels)))\n",
    "\n",
    "\n",
    "train_ds = tf.data.Dataset.from_tensor_slices((x_train,train_labels))\n",
    "valid_ds = tf.data.Dataset.from_tensor_slices((x_valid,valid_labels))\n",
    "test_ds = tf.data.Dataset.from_tensor_slices((x_test,test_labels))"
   ]
  },
  {
   "cell_type": "code",
   "execution_count": 25,
   "metadata": {},
   "outputs": [
    {
     "name": "stdout",
     "output_type": "stream",
     "text": [
      "======Train dataset ====\n",
      "tf.Tensor(\n",
      "[  102    12    19     2  1278  8858     7   143    12   461     3     2\n",
      "   623    14   931   143    12   461   373    13   512    27     2   555\n",
      "  1425 12188   522     2     6   248    14   501     3   102    12    63\n",
      "   422   204    19    10   143    12    37    27     0     0     0     0\n",
      "     0     0     0     0     0     0     0     0     0     0     0     0\n",
      "     0     0     0     0     0     0     0     0     0     0     0     0\n",
      "     0     0     0     0     0     0     0     0     0     0     0     0\n",
      "     0     0     0     0     0     0     0     0     0     0     0     0\n",
      "     0     0     0     0], shape=(100,), dtype=int32) tf.Tensor(0, shape=(), dtype=int32)\n",
      "======Validation dataset ====\n",
      "tf.Tensor(\n",
      "[  11  166  118  214  952  107  717   92    5    6   10  417  189   14\n",
      " 1865  743  115   25    4    7  123    3  115   25   74   33   18  236\n",
      "    3  183  459   28   11  753  272   10  221    2  686   18   31   37\n",
      "  522  349   13  101 1521   87  168  107 6865   37  522   58   27   18\n",
      "  530   13   20  125    5   25  123  236  183  459    7    5   30   33\n",
      "   28   73    4   15    0    0    0    0    0    0    0    0    0    0\n",
      "    0    0    0    0    0    0    0    0    0    0    0    0    0    0\n",
      "    0    0], shape=(100,), dtype=int32) tf.Tensor(1, shape=(), dtype=int32)\n",
      "======Test dataset ====\n",
      "tf.Tensor(\n",
      "[1791    4  672  560   43   23   25    3   23 2785    2  400 1371   36\n",
      "  118  279    5    5  191   91  170  256  541    0    0    0    0    0\n",
      "    0    0    0    0    0    0    0    0    0    0    0    0    0    0\n",
      "    0    0    0    0    0    0    0    0    0    0    0    0    0    0\n",
      "    0    0    0    0    0    0    0    0    0    0    0    0    0    0\n",
      "    0    0    0    0    0    0    0    0    0    0    0    0    0    0\n",
      "    0    0    0    0    0    0    0    0    0    0    0    0    0    0\n",
      "    0    0], shape=(100,), dtype=int32) tf.Tensor(1, shape=(), dtype=int32)\n"
     ]
    }
   ],
   "source": [
    "count =0\n",
    "print('======Train dataset ====')\n",
    "for value,label in train_ds:\n",
    "    count += 1\n",
    "    print(value,label)\n",
    "    if count==1:\n",
    "        break\n",
    "count =0\n",
    "print('======Validation dataset ====')\n",
    "for value,label in valid_ds:\n",
    "    count += 1\n",
    "    print(value,label)\n",
    "    if count==1:\n",
    "        break\n",
    "count =0\n",
    "print('======Test dataset ====')\n",
    "for value,label in test_ds:\n",
    "    count += 1\n",
    "    print(value,label)\n",
    "    if count==1:\n",
    "        break"
   ]
  },
  {
   "cell_type": "code",
   "execution_count": 26,
   "metadata": {},
   "outputs": [],
   "source": [
    "max_features =50000\n",
    "embedding_dim =16\n",
    "sequence_length = 100\n",
    "\n",
    "model = tf.keras.Sequential()\n",
    "model.add(tf.keras.layers.Embedding(max_features +1, embedding_dim, input_length=sequence_length,\\\n",
    "                                    embeddings_regularizer = regularizers.l2(0.005))) \n",
    "model.add(tf.keras.layers.Dropout(0.4))\n",
    "\n",
    "model.add(tf.keras.layers.LSTM(embedding_dim,dropout=0.2, recurrent_dropout=0.2,return_sequences=True,\\\n",
    "                                                             kernel_regularizer=regularizers.l2(0.005),\\\n",
    "                                                             bias_regularizer=regularizers.l2(0.005)))\n",
    "\n",
    "model.add(tf.keras.layers.Flatten())\n",
    "\n",
    "model.add(tf.keras.layers.Dense(512, activation='relu',\\\n",
    "                                kernel_regularizer=regularizers.l2(0.001),\\\n",
    "                                bias_regularizer=regularizers.l2(0.001),))\n",
    "model.add(tf.keras.layers.Dropout(0.4))\n",
    "\n",
    "model.add(tf.keras.layers.Dense(8, activation='relu',\\\n",
    "                                kernel_regularizer=regularizers.l2(0.001),\\\n",
    "                                bias_regularizer=regularizers.l2(0.001),))\n",
    "model.add(tf.keras.layers.Dropout(0.4))\n",
    "\n",
    "\n",
    "model.add(tf.keras.layers.Dense(1,activation='sigmoid'))"
   ]
  },
  {
   "cell_type": "code",
   "execution_count": 27,
   "metadata": {},
   "outputs": [
    {
     "name": "stdout",
     "output_type": "stream",
     "text": [
      "Model: \"sequential\"\n",
      "_________________________________________________________________\n",
      "Layer (type)                 Output Shape              Param #   \n",
      "=================================================================\n",
      "embedding (Embedding)        (None, 100, 16)           800016    \n",
      "_________________________________________________________________\n",
      "dropout (Dropout)            (None, 100, 16)           0         \n",
      "_________________________________________________________________\n",
      "lstm (LSTM)                  (None, 100, 16)           2112      \n",
      "_________________________________________________________________\n",
      "flatten (Flatten)            (None, 1600)              0         \n",
      "_________________________________________________________________\n",
      "dense (Dense)                (None, 512)               819712    \n",
      "_________________________________________________________________\n",
      "dropout_1 (Dropout)          (None, 512)               0         \n",
      "_________________________________________________________________\n",
      "dense_1 (Dense)              (None, 8)                 4104      \n",
      "_________________________________________________________________\n",
      "dropout_2 (Dropout)          (None, 8)                 0         \n",
      "_________________________________________________________________\n",
      "dense_2 (Dense)              (None, 1)                 9         \n",
      "=================================================================\n",
      "Total params: 1,625,953\n",
      "Trainable params: 1,625,953\n",
      "Non-trainable params: 0\n",
      "_________________________________________________________________\n"
     ]
    }
   ],
   "source": [
    "model.summary()\n",
    "model.compile(loss=tf.keras.losses.BinaryCrossentropy(),optimizer=tf.keras.optimizers.Adam(1e-3),metrics=[tf.keras.metrics.BinaryAccuracy()])"
   ]
  },
  {
   "cell_type": "code",
   "execution_count": 32,
   "metadata": {},
   "outputs": [
    {
     "name": "stdout",
     "output_type": "stream",
     "text": [
      "Train on 29058 samples, validate on 119446 samples\n",
      "Epoch 1/10\n"
     ]
    },
    {
     "name": "stderr",
     "output_type": "stream",
     "text": [
      "G:\\New folder\\envs\\pyfor\\lib\\site-packages\\tensorflow_core\\python\\framework\\indexed_slices.py:433: UserWarning: Converting sparse IndexedSlices to a dense Tensor of unknown shape. This may consume a large amount of memory.\n",
      "  \"Converting sparse IndexedSlices to a dense Tensor of unknown shape. \"\n"
     ]
    },
    {
     "name": "stdout",
     "output_type": "stream",
     "text": [
      "29058/29058 [==============================] - 174s 6ms/sample - loss: 0.4875 - binary_accuracy: 0.8776 - val_loss: 0.3619 - val_binary_accuracy: 0.8758\n",
      "Epoch 2/10\n",
      "29058/29058 [==============================] - 212s 7ms/sample - loss: 0.3794 - binary_accuracy: 0.8776 - val_loss: 0.3739 - val_binary_accuracy: 0.8758\n",
      "Epoch 3/10\n",
      "29058/29058 [==============================] - 206s 7ms/sample - loss: 0.3708 - binary_accuracy: 0.8776 - val_loss: 0.3384 - val_binary_accuracy: 0.8758\n",
      "Epoch 4/10\n",
      "29058/29058 [==============================] - 245s 8ms/sample - loss: 0.3641 - binary_accuracy: 0.8776 - val_loss: 0.3351 - val_binary_accuracy: 0.8758\n",
      "Epoch 5/10\n",
      "29058/29058 [==============================] - 199s 7ms/sample - loss: 0.3621 - binary_accuracy: 0.8776 - val_loss: 0.3391 - val_binary_accuracy: 0.8758\n",
      "Epoch 6/10\n",
      "29058/29058 [==============================] - 178s 6ms/sample - loss: 0.3607 - binary_accuracy: 0.8776 - val_loss: 0.3604 - val_binary_accuracy: 0.8758\n",
      "Epoch 7/10\n",
      "29058/29058 [==============================] - 197s 7ms/sample - loss: 0.3577 - binary_accuracy: 0.8776 - val_loss: 0.3453 - val_binary_accuracy: 0.8758\n",
      "Epoch 8/10\n",
      "29058/29058 [==============================] - 160s 5ms/sample - loss: 0.3548 - binary_accuracy: 0.8776 - val_loss: 0.3233 - val_binary_accuracy: 0.8758\n",
      "Epoch 9/10\n",
      "29058/29058 [==============================] - 160s 6ms/sample - loss: 0.3538 - binary_accuracy: 0.8792 - val_loss: 0.3233 - val_binary_accuracy: 0.8895\n",
      "Epoch 10/10\n",
      "29058/29058 [==============================] - 3392s 117ms/sample - loss: 0.3567 - binary_accuracy: 0.8881 - val_loss: 0.3322 - val_binary_accuracy: 0.9050\n"
     ]
    }
   ],
   "source": [
    "epochs = 10\n",
    "# Fit the model using the train and test datasets.\n",
    "history = model.fit(x_train, train_labels,validation_data=(x_test,test_labels),epochs=epochs)\n",
    "#history = model.fit(train_ds.shuffle(5000).batch(1024),epochs= epochs,validation_data=valid_ds.batch(1024),verbose=1)"
   ]
  },
  {
   "cell_type": "code",
   "execution_count": 33,
   "metadata": {},
   "outputs": [
    {
     "data": {
      "text/plain": [
       "{'loss': [0.48748599496709233,\n",
       "  0.3793880971585394,\n",
       "  0.3707617420098829,\n",
       "  0.36414219118832675,\n",
       "  0.3621232533520124,\n",
       "  0.36065821189522307,\n",
       "  0.3576533864939752,\n",
       "  0.35482760746270714,\n",
       "  0.3537512721210642,\n",
       "  0.356655726504019],\n",
       " 'binary_accuracy': [0.87755525,\n",
       "  0.87755525,\n",
       "  0.87755525,\n",
       "  0.87755525,\n",
       "  0.87755525,\n",
       "  0.87755525,\n",
       "  0.87755525,\n",
       "  0.87755525,\n",
       "  0.8791727,\n",
       "  0.8881203],\n",
       " 'val_loss': [0.3618760854869099,\n",
       "  0.3739398566600641,\n",
       "  0.3384372156833893,\n",
       "  0.3350599480345113,\n",
       "  0.33911609139396415,\n",
       "  0.36044545097798125,\n",
       "  0.3453482537997607,\n",
       "  0.32332594904848316,\n",
       "  0.32329339295605225,\n",
       "  0.3321747435896662],\n",
       " 'val_binary_accuracy': [0.87584347,\n",
       "  0.87584347,\n",
       "  0.87584347,\n",
       "  0.87584347,\n",
       "  0.87584347,\n",
       "  0.87584347,\n",
       "  0.87584347,\n",
       "  0.87584347,\n",
       "  0.8894814,\n",
       "  0.9050198]}"
      ]
     },
     "execution_count": 33,
     "metadata": {},
     "output_type": "execute_result"
    }
   ],
   "source": [
    "history.history"
   ]
  },
  {
   "cell_type": "code",
   "execution_count": 34,
   "metadata": {},
   "outputs": [
    {
     "data": {
      "image/png": "[encoded data removed]",
      "text/plain": [
       "<Figure size 432x288 with 1 Axes>"
      ]
     },
     "metadata": {
      "needs_background": "light"
     },
     "output_type": "display_data"
    }
   ],
   "source": [
    "plt.plot(history.history['loss'], label=' training data')\n",
    "plt.plot(history.history['val_loss'], label='validation data')\n",
    "plt.title('Loss for Text Classification')\n",
    "plt.ylabel('Loss value')\n",
    "plt.xlabel('No. epoch')\n",
    "plt.legend(loc=\"upper left\")\n",
    "plt.show()"
   ]
  },
  {
   "cell_type": "code",
   "execution_count": 35,
   "metadata": {},
   "outputs": [
    {
     "data": {
      "image/png": "[encoded data removed]",
      "text/plain": [
       "<Figure size 432x288 with 1 Axes>"
      ]
     },
     "metadata": {
      "needs_background": "light"
     },
     "output_type": "display_data"
    }
   ],
   "source": [
    "plt.plot(history.history['binary_accuracy'], label=' training data')\n",
    "plt.plot(history.history['val_binary_accuracy'], label='validation data')\n",
    "plt.title('Accuracy for Text Classification')\n",
    "plt.ylabel('Accuracy value')\n",
    "plt.xlabel('No. epoch')\n",
    "plt.legend(loc=\"upper left\")\n",
    "plt.show()"
   ]
  },
  {
   "cell_type": "code",
   "execution_count": 36,
   "metadata": {},
   "outputs": [],
   "source": [
    "model.save('G:\\\\Datascience_experiments\\\\tweet-sentiment-extraction\\\\LSTM_sentimental_analysis\\\\tf_lstmmodel.h5') \n",
    "json_string = tokenizer.to_json()"
   ]
  },
  {
   "cell_type": "code",
   "execution_count": 37,
   "metadata": {},
   "outputs": [],
   "source": [
    "import json\n",
    "with open('G:\\\\Datascience_experiments\\\\tweet-sentiment-extraction\\\\LSTM_sentimental_analysis\\\\tokenizer.json', 'w') as outfile:\n",
    "    json.dump(json_string, outfile)"
   ]
  },
  {
   "cell_type": "code",
   "execution_count": 38,
   "metadata": {},
   "outputs": [],
   "source": [
    "valid_predict= model.predict(x_valid)"
   ]
  },
  {
   "cell_type": "code",
   "execution_count": 39,
   "metadata": {},
   "outputs": [
    {
     "name": "stdout",
     "output_type": "stream",
     "text": [
      "[[0.9830116 ]\n",
      " [0.9074982 ]\n",
      " [0.9855086 ]\n",
      " [0.6031852 ]\n",
      " [0.96372974]\n",
      " [0.5957186 ]\n",
      " [0.5230086 ]\n",
      " [0.983255  ]\n",
      " [0.49686632]\n",
      " [0.9704817 ]]\n"
     ]
    }
   ],
   "source": [
    "print(valid_predict[:10])"
   ]
  },
  {
   "cell_type": "code",
   "execution_count": 40,
   "metadata": {},
   "outputs": [],
   "source": [
    "def plot_roc(name, labels, predictions, **kwargs):\n",
    "    fp, tp, thresholds = sklearn.metrics.roc_curve(labels, predictions)\n",
    "    plt.plot(fp, tp, label=name, linewidth=2, **kwargs)\n",
    "    plt.xlabel('False positives Rate')\n",
    "    plt.ylabel('True positives Rate')\n",
    "    plt.xlim([-0.03, 1.0])\n",
    "    plt.ylim([0.0, 1.03])\n",
    "    plt.grid(True)\n",
    "    thresholdsLength = len(thresholds)\n",
    "    thresholds_every = 1000\n",
    "    colorMap = plt.get_cmap('jet', thresholdsLength)\n",
    "    for i in range(0, thresholdsLength, thresholds_every):\n",
    "        threshold_value_with_max_four_decimals = str(thresholds[i])[:5]\n",
    "        plt.text(fp[i] - 0.03, tp[i] + 0.001, threshold_value_with_max_four_decimals, fontdict={'size': 15}, color=colorMap(i/thresholdsLength));\n",
    "\n",
    "    ax = plt.gca()\n",
    "    ax.set_aspect('equal')"
   ]
  },
  {
   "cell_type": "code",
   "execution_count": 41,
   "metadata": {},
   "outputs": [],
   "source": [
    "mpl.rcParams['figure.figsize'] = (16, 16)\n",
    "\n",
    "colors = plt.rcParams['axes.prop_cycle'].by_key()['color']"
   ]
  },
  {
   "cell_type": "code",
   "execution_count": 42,
   "metadata": {},
   "outputs": [
    {
     "data": {
      "text/plain": [
       "<matplotlib.legend.Legend at 0x1dfdee035f8>"
      ]
     },
     "execution_count": 42,
     "metadata": {},
     "output_type": "execute_result"
    },
    {
     "data": {
      "image/png": "[encoded data removed]",
      "text/plain": [
       "<Figure size 1152x1152 with 1 Axes>"
      ]
     },
     "metadata": {
      "needs_background": "light"
     },
     "output_type": "display_data"
    }
   ],
   "source": [
    "plot_roc(\"Valid Baseline\", valid_labels, valid_predict, color=colors[0], linestyle='--')\n",
    "plt.legend(loc='lower right')"
   ]
  },
  {
   "cell_type": "code",
   "execution_count": 43,
   "metadata": {},
   "outputs": [
    {
     "name": "stderr",
     "output_type": "stream",
     "text": [
      "G:\\New folder\\envs\\pyfor\\lib\\site-packages\\tensorflow_core\\python\\framework\\indexed_slices.py:433: UserWarning: Converting sparse IndexedSlices to a dense Tensor of unknown shape. This may consume a large amount of memory.\n",
      "  \"Converting sparse IndexedSlices to a dense Tensor of unknown shape. \"\n"
     ]
    },
    {
     "name": "stdout",
     "output_type": "stream",
     "text": [
      "Model: \"sequential\"\n",
      "_________________________________________________________________\n",
      "Layer (type)                 Output Shape              Param #   \n",
      "=================================================================\n",
      "embedding (Embedding)        (None, 100, 16)           800016    \n",
      "_________________________________________________________________\n",
      "dropout (Dropout)            (None, 100, 16)           0         \n",
      "_________________________________________________________________\n",
      "lstm (LSTM)                  (None, 100, 16)           2112      \n",
      "_________________________________________________________________\n",
      "flatten (Flatten)            (None, 1600)              0         \n",
      "_________________________________________________________________\n",
      "dense (Dense)                (None, 512)               819712    \n",
      "_________________________________________________________________\n",
      "dropout_1 (Dropout)          (None, 512)               0         \n",
      "_________________________________________________________________\n",
      "dense_1 (Dense)              (None, 8)                 4104      \n",
      "_________________________________________________________________\n",
      "dropout_2 (Dropout)          (None, 8)                 0         \n",
      "_________________________________________________________________\n",
      "dense_2 (Dense)              (None, 1)                 9         \n",
      "=================================================================\n",
      "Total params: 1,625,953\n",
      "Trainable params: 1,625,953\n",
      "Non-trainable params: 0\n",
      "_________________________________________________________________\n"
     ]
    }
   ],
   "source": [
    "new_model = tf.keras.models.load_model('G:\\\\Datascience_experiments\\\\tweet-sentiment-extraction\\\\LSTM_sentimental_analysis\\\\tf_lstmmodel.h5')\n",
    "new_model.summary()"
   ]
  },
  {
   "cell_type": "code",
   "execution_count": 44,
   "metadata": {},
   "outputs": [],
   "source": [
    "with open('G:\\\\Datascience_experiments\\\\tweet-sentiment-extraction\\\\LSTM_sentimental_analysis\\\\tokenizer.json') as json_file:\n",
    "    json_string = json.load(json_file)\n",
    "tokenizer1 = tf.keras.preprocessing.text.tokenizer_from_json(json_string)"
   ]
  },
  {
   "cell_type": "code",
   "execution_count": 47,
   "metadata": {},
   "outputs": [
    {
     "data": {
      "text/plain": [
       "17        surprisingly this inexpensive version works ju...\n",
       "18        have tested this against the griffin dual outp...\n",
       "19        worked great for the first couple weeks then j...\n",
       "20        love that has two ports for phone and ipod who...\n",
       "21        just what you need always having charge phone ...\n",
       "                                ...                        \n",
       "190646    very nice casedont add extra bulk the phonecol...\n",
       "190647    this really nice slim fit case fits very snug ...\n",
       "190648                       described and cute niece loved\n",
       "190649                                nice case for samsung\n",
       "190650    cute slim fit case colors are transparent side...\n",
       "Name: reviewText, Length: 119446, dtype: object"
      ]
     },
     "execution_count": 47,
     "metadata": {},
     "output_type": "execute_result"
    }
   ],
   "source": [
    "test_data['reviewText']"
   ]
  },
  {
   "cell_type": "code",
   "execution_count": 48,
   "metadata": {},
   "outputs": [
    {
     "data": {
      "text/html": [
       "<div>\n",
       "<style scoped>\n",
       "    .dataframe tbody tr th:only-of-type {\n",
       "        vertical-align: middle;\n",
       "    }\n",
       "\n",
       "    .dataframe tbody tr th {\n",
       "        vertical-align: top;\n",
       "    }\n",
       "\n",
       "    .dataframe thead th {\n",
       "        text-align: right;\n",
       "    }\n",
       "</style>\n",
       "<table border=\"1\" class=\"dataframe\">\n",
       "  <thead>\n",
       "    <tr style=\"text-align: right;\">\n",
       "      <th></th>\n",
       "      <th>reviewText</th>\n",
       "      <th>sentiment</th>\n",
       "    </tr>\n",
       "  </thead>\n",
       "  <tbody>\n",
       "    <tr>\n",
       "      <th>17</th>\n",
       "      <td>surprisingly this inexpensive version works ju...</td>\n",
       "      <td>1</td>\n",
       "    </tr>\n",
       "    <tr>\n",
       "      <th>18</th>\n",
       "      <td>have tested this against the griffin dual outp...</td>\n",
       "      <td>1</td>\n",
       "    </tr>\n",
       "    <tr>\n",
       "      <th>19</th>\n",
       "      <td>worked great for the first couple weeks then j...</td>\n",
       "      <td>0</td>\n",
       "    </tr>\n",
       "    <tr>\n",
       "      <th>20</th>\n",
       "      <td>love that has two ports for phone and ipod who...</td>\n",
       "      <td>1</td>\n",
       "    </tr>\n",
       "    <tr>\n",
       "      <th>21</th>\n",
       "      <td>just what you need always having charge phone ...</td>\n",
       "      <td>1</td>\n",
       "    </tr>\n",
       "    <tr>\n",
       "      <th>...</th>\n",
       "      <td>...</td>\n",
       "      <td>...</td>\n",
       "    </tr>\n",
       "    <tr>\n",
       "      <th>190646</th>\n",
       "      <td>very nice casedont add extra bulk the phonecol...</td>\n",
       "      <td>1</td>\n",
       "    </tr>\n",
       "    <tr>\n",
       "      <th>190647</th>\n",
       "      <td>this really nice slim fit case fits very snug ...</td>\n",
       "      <td>1</td>\n",
       "    </tr>\n",
       "    <tr>\n",
       "      <th>190648</th>\n",
       "      <td>described and cute niece loved</td>\n",
       "      <td>1</td>\n",
       "    </tr>\n",
       "    <tr>\n",
       "      <th>190649</th>\n",
       "      <td>nice case for samsung</td>\n",
       "      <td>1</td>\n",
       "    </tr>\n",
       "    <tr>\n",
       "      <th>190650</th>\n",
       "      <td>cute slim fit case colors are transparent side...</td>\n",
       "      <td>1</td>\n",
       "    </tr>\n",
       "  </tbody>\n",
       "</table>\n",
       "<p>119446 rows × 2 columns</p>\n",
       "</div>"
      ],
      "text/plain": [
       "                                               reviewText  sentiment\n",
       "17      surprisingly this inexpensive version works ju...          1\n",
       "18      have tested this against the griffin dual outp...          1\n",
       "19      worked great for the first couple weeks then j...          0\n",
       "20      love that has two ports for phone and ipod who...          1\n",
       "21      just what you need always having charge phone ...          1\n",
       "...                                                   ...        ...\n",
       "190646  very nice casedont add extra bulk the phonecol...          1\n",
       "190647  this really nice slim fit case fits very snug ...          1\n",
       "190648                     described and cute niece loved          1\n",
       "190649                              nice case for samsung          1\n",
       "190650  cute slim fit case colors are transparent side...          1\n",
       "\n",
       "[119446 rows x 2 columns]"
      ]
     },
     "execution_count": 48,
     "metadata": {},
     "output_type": "execute_result"
    }
   ],
   "source": [
    "test_data"
   ]
  },
  {
   "cell_type": "code",
   "execution_count": 49,
   "metadata": {},
   "outputs": [
    {
     "data": {
      "text/plain": [
       "119446"
      ]
     },
     "execution_count": 49,
     "metadata": {},
     "output_type": "execute_result"
    }
   ],
   "source": [
    "len(test_data)"
   ]
  },
  {
   "cell_type": "code",
   "execution_count": 45,
   "metadata": {},
   "outputs": [
    {
     "name": "stderr",
     "output_type": "stream",
     "text": [
      "G:\\New folder\\envs\\pyfor\\lib\\site-packages\\ipykernel_launcher.py:1: VisibleDeprecationWarning: Creating an ndarray from ragged nested sequences (which is a list-or-tuple of lists-or-tuples-or ndarrays with different lengths or shapes) is deprecated. If you meant to do this, you must specify 'dtype=object' when creating the ndarray\n",
      "  \"\"\"Entry point for launching an IPython kernel.\n"
     ]
    }
   ],
   "source": [
    "x_test  = np.array(tokenizer.texts_to_sequences(test_data['reviewText'].tolist()) )\n",
    "x_test = pad_sequences(x_test, padding='post', maxlen=100)"
   ]
  },
  {
   "cell_type": "code",
   "execution_count": 50,
   "metadata": {},
   "outputs": [
    {
     "name": "stdout",
     "output_type": "stream",
     "text": [
      "Generate predictions for all samples\n"
     ]
    }
   ],
   "source": [
    "print(\"Generate predictions for all samples\")\n",
    "predictions = new_model.predict(x_test)"
   ]
  },
  {
   "cell_type": "code",
   "execution_count": 51,
   "metadata": {},
   "outputs": [
    {
     "data": {
      "text/plain": [
       "array([[0.93164384],\n",
       "       [0.5440397 ],\n",
       "       [0.5115198 ],\n",
       "       ...,\n",
       "       [0.92886525],\n",
       "       [0.85778296],\n",
       "       [0.9562601 ]], dtype=float32)"
      ]
     },
     "execution_count": 51,
     "metadata": {},
     "output_type": "execute_result"
    }
   ],
   "source": [
    "predictions"
   ]
  },
  {
   "cell_type": "code",
   "execution_count": 52,
   "metadata": {},
   "outputs": [
    {
     "data": {
      "text/plain": [
       "119446"
      ]
     },
     "execution_count": 52,
     "metadata": {},
     "output_type": "execute_result"
    }
   ],
   "source": [
    "len(predictions)"
   ]
  },
  {
   "cell_type": "code",
   "execution_count": 53,
   "metadata": {},
   "outputs": [
    {
     "name": "stderr",
     "output_type": "stream",
     "text": [
      "G:\\New folder\\envs\\pyfor\\lib\\site-packages\\ipykernel_launcher.py:1: SettingWithCopyWarning: \n",
      "A value is trying to be set on a copy of a slice from a DataFrame.\n",
      "Try using .loc[row_indexer,col_indexer] = value instead\n",
      "\n",
      "See the caveats in the documentation: https://pandas.pydata.org/pandas-docs/stable/user_guide/indexing.html#returning-a-view-versus-a-copy\n",
      "  \"\"\"Entry point for launching an IPython kernel.\n"
     ]
    }
   ],
   "source": [
    "test_data['pred_sentiment']= predictions"
   ]
  },
  {
   "cell_type": "code",
   "execution_count": 54,
   "metadata": {},
   "outputs": [
    {
     "name": "stderr",
     "output_type": "stream",
     "text": [
      "G:\\New folder\\envs\\pyfor\\lib\\site-packages\\ipykernel_launcher.py:1: SettingWithCopyWarning: \n",
      "A value is trying to be set on a copy of a slice from a DataFrame.\n",
      "Try using .loc[row_indexer,col_indexer] = value instead\n",
      "\n",
      "See the caveats in the documentation: https://pandas.pydata.org/pandas-docs/stable/user_guide/indexing.html#returning-a-view-versus-a-copy\n",
      "  \"\"\"Entry point for launching an IPython kernel.\n",
      "G:\\New folder\\envs\\pyfor\\lib\\site-packages\\ipykernel_launcher.py:2: SettingWithCopyWarning: \n",
      "A value is trying to be set on a copy of a slice from a DataFrame.\n",
      "Try using .loc[row_indexer,col_indexer] = value instead\n",
      "\n",
      "See the caveats in the documentation: https://pandas.pydata.org/pandas-docs/stable/user_guide/indexing.html#returning-a-view-versus-a-copy\n",
      "  \n"
     ]
    }
   ],
   "source": [
    "test_data['pred_sentiment'] = np.where((test_data.pred_sentiment >= 0.78),1,test_data.pred_sentiment)\n",
    "test_data['pred_sentiment'] = np.where((test_data.pred_sentiment < 0.78),0,test_data.pred_sentiment)"
   ]
  },
  {
   "cell_type": "code",
   "execution_count": 55,
   "metadata": {},
   "outputs": [
    {
     "name": "stdout",
     "output_type": "stream",
     "text": [
      "              precision    recall  f1-score   support\n",
      "\n",
      "           0       0.39      0.85      0.54     14830\n",
      "           1       0.98      0.81      0.89    104616\n",
      "\n",
      "    accuracy                           0.82    119446\n",
      "   macro avg       0.68      0.83      0.71    119446\n",
      "weighted avg       0.90      0.82      0.84    119446\n",
      "\n"
     ]
    }
   ],
   "source": [
    "labels = [0, 1]\n",
    "    \n",
    "print(classification_report(test_data['sentiment'].tolist(),test_data['pred_sentiment'].tolist(),labels=labels))"
   ]
  },
  {
   "cell_type": "code",
   "execution_count": null,
   "metadata": {},
   "outputs": [],
   "source": []
  }
 ],
 "metadata": {
  "kernelspec": {
   "display_name": "Python 3",
   "language": "python",
   "name": "python3"
  },
  "language_info": {
   "codemirror_mode": {
    "name": "ipython",
    "version": 3
   },
   "file_extension": ".py",
   "mimetype": "text/x-python",
   "name": "python",
   "nbconvert_exporter": "python",
   "pygments_lexer": "ipython3",
   "version": "3.6.7"
  }
 },
 "nbformat": 4,
 "nbformat_minor": 4
}
