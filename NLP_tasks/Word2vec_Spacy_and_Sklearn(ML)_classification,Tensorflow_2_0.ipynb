{
  "nbformat": 4,
  "nbformat_minor": 0,
  "metadata": {
    "colab": {
      "name": "Word2vec Spacy and Sklearn(ML) classification,Tensorflow 2.0.ipynb",
      "provenance": [],
      "collapsed_sections": []
    },
    "kernelspec": {
      "name": "python3",
      "display_name": "Python 3"
    }
  },
  "cells": [
    {
      "cell_type": "code",
      "metadata": {
        "id": "vTtyqBJE7HNv",
        "outputId": "bee7cf14-3918-4dab-9ed0-5d1d043373ae",
        "colab": {
          "base_uri": "https://localhost:8080/"
        }
      },
      "source": [
        "!python -m spacy download en_core_web_lg"
      ],
      "execution_count": 1,
      "outputs": [
        {
          "output_type": "stream",
          "text": [
            "Collecting en_core_web_lg==2.2.5\n",
            "\u001b[?25l  Downloading https://github.com/explosion/spacy-models/releases/download/en_core_web_lg-2.2.5/en_core_web_lg-2.2.5.tar.gz (827.9MB)\n",
            "\u001b[K     |████████████████████████████████| 827.9MB 1.2MB/s \n",
            "\u001b[?25hRequirement already satisfied: spacy>=2.2.2 in /usr/local/lib/python3.6/dist-packages (from en_core_web_lg==2.2.5) (2.2.4)\n",
            "Requirement already satisfied: blis<0.5.0,>=0.4.0 in /usr/local/lib/python3.6/dist-packages (from spacy>=2.2.2->en_core_web_lg==2.2.5) (0.4.1)\n",
            "Requirement already satisfied: numpy>=1.15.0 in /usr/local/lib/python3.6/dist-packages (from spacy>=2.2.2->en_core_web_lg==2.2.5) (1.18.5)\n",
            "Requirement already satisfied: murmurhash<1.1.0,>=0.28.0 in /usr/local/lib/python3.6/dist-packages (from spacy>=2.2.2->en_core_web_lg==2.2.5) (1.0.3)\n",
            "Requirement already satisfied: tqdm<5.0.0,>=4.38.0 in /usr/local/lib/python3.6/dist-packages (from spacy>=2.2.2->en_core_web_lg==2.2.5) (4.41.1)\n",
            "Requirement already satisfied: preshed<3.1.0,>=3.0.2 in /usr/local/lib/python3.6/dist-packages (from spacy>=2.2.2->en_core_web_lg==2.2.5) (3.0.2)\n",
            "Requirement already satisfied: wasabi<1.1.0,>=0.4.0 in /usr/local/lib/python3.6/dist-packages (from spacy>=2.2.2->en_core_web_lg==2.2.5) (0.8.0)\n",
            "Requirement already satisfied: requests<3.0.0,>=2.13.0 in /usr/local/lib/python3.6/dist-packages (from spacy>=2.2.2->en_core_web_lg==2.2.5) (2.23.0)\n",
            "Requirement already satisfied: plac<1.2.0,>=0.9.6 in /usr/local/lib/python3.6/dist-packages (from spacy>=2.2.2->en_core_web_lg==2.2.5) (1.1.3)\n",
            "Requirement already satisfied: cymem<2.1.0,>=2.0.2 in /usr/local/lib/python3.6/dist-packages (from spacy>=2.2.2->en_core_web_lg==2.2.5) (2.0.4)\n",
            "Requirement already satisfied: thinc==7.4.0 in /usr/local/lib/python3.6/dist-packages (from spacy>=2.2.2->en_core_web_lg==2.2.5) (7.4.0)\n",
            "Requirement already satisfied: srsly<1.1.0,>=1.0.2 in /usr/local/lib/python3.6/dist-packages (from spacy>=2.2.2->en_core_web_lg==2.2.5) (1.0.2)\n",
            "Requirement already satisfied: catalogue<1.1.0,>=0.0.7 in /usr/local/lib/python3.6/dist-packages (from spacy>=2.2.2->en_core_web_lg==2.2.5) (1.0.0)\n",
            "Requirement already satisfied: setuptools in /usr/local/lib/python3.6/dist-packages (from spacy>=2.2.2->en_core_web_lg==2.2.5) (50.3.2)\n",
            "Requirement already satisfied: certifi>=2017.4.17 in /usr/local/lib/python3.6/dist-packages (from requests<3.0.0,>=2.13.0->spacy>=2.2.2->en_core_web_lg==2.2.5) (2020.6.20)\n",
            "Requirement already satisfied: idna<3,>=2.5 in /usr/local/lib/python3.6/dist-packages (from requests<3.0.0,>=2.13.0->spacy>=2.2.2->en_core_web_lg==2.2.5) (2.10)\n",
            "Requirement already satisfied: urllib3!=1.25.0,!=1.25.1,<1.26,>=1.21.1 in /usr/local/lib/python3.6/dist-packages (from requests<3.0.0,>=2.13.0->spacy>=2.2.2->en_core_web_lg==2.2.5) (1.24.3)\n",
            "Requirement already satisfied: chardet<4,>=3.0.2 in /usr/local/lib/python3.6/dist-packages (from requests<3.0.0,>=2.13.0->spacy>=2.2.2->en_core_web_lg==2.2.5) (3.0.4)\n",
            "Requirement already satisfied: importlib-metadata>=0.20; python_version < \"3.8\" in /usr/local/lib/python3.6/dist-packages (from catalogue<1.1.0,>=0.0.7->spacy>=2.2.2->en_core_web_lg==2.2.5) (2.0.0)\n",
            "Requirement already satisfied: zipp>=0.5 in /usr/local/lib/python3.6/dist-packages (from importlib-metadata>=0.20; python_version < \"3.8\"->catalogue<1.1.0,>=0.0.7->spacy>=2.2.2->en_core_web_lg==2.2.5) (3.4.0)\n",
            "Building wheels for collected packages: en-core-web-lg\n",
            "  Building wheel for en-core-web-lg (setup.py) ... \u001b[?25l\u001b[?25hdone\n",
            "  Created wheel for en-core-web-lg: filename=en_core_web_lg-2.2.5-cp36-none-any.whl size=829180944 sha256=277696d83cb5402bb3cf97405125349352baecc3648f4e5cc84f080c2700e365\n",
            "  Stored in directory: /tmp/pip-ephem-wheel-cache-2odmp03x/wheels/2a/c1/a6/fc7a877b1efca9bc6a089d6f506f16d3868408f9ff89f8dbfc\n",
            "Successfully built en-core-web-lg\n",
            "Installing collected packages: en-core-web-lg\n",
            "Successfully installed en-core-web-lg-2.2.5\n",
            "\u001b[38;5;2m✔ Download and installation successful\u001b[0m\n",
            "You can now load the model via spacy.load('en_core_web_lg')\n"
          ],
          "name": "stdout"
        }
      ]
    },
    {
      "cell_type": "code",
      "metadata": {
        "id": "tb5ShBR0Tl_w",
        "outputId": "d2db5718-8a7c-44f7-ee94-6212847e35d4",
        "colab": {
          "base_uri": "https://localhost:8080/"
        }
      },
      "source": [
        "!pip install spacy"
      ],
      "execution_count": 2,
      "outputs": [
        {
          "output_type": "stream",
          "text": [
            "Requirement already satisfied: spacy in /usr/local/lib/python3.6/dist-packages (2.2.4)\n",
            "Requirement already satisfied: plac<1.2.0,>=0.9.6 in /usr/local/lib/python3.6/dist-packages (from spacy) (1.1.3)\n",
            "Requirement already satisfied: murmurhash<1.1.0,>=0.28.0 in /usr/local/lib/python3.6/dist-packages (from spacy) (1.0.3)\n",
            "Requirement already satisfied: preshed<3.1.0,>=3.0.2 in /usr/local/lib/python3.6/dist-packages (from spacy) (3.0.2)\n",
            "Requirement already satisfied: wasabi<1.1.0,>=0.4.0 in /usr/local/lib/python3.6/dist-packages (from spacy) (0.8.0)\n",
            "Requirement already satisfied: catalogue<1.1.0,>=0.0.7 in /usr/local/lib/python3.6/dist-packages (from spacy) (1.0.0)\n",
            "Requirement already satisfied: setuptools in /usr/local/lib/python3.6/dist-packages (from spacy) (50.3.2)\n",
            "Requirement already satisfied: srsly<1.1.0,>=1.0.2 in /usr/local/lib/python3.6/dist-packages (from spacy) (1.0.2)\n",
            "Requirement already satisfied: cymem<2.1.0,>=2.0.2 in /usr/local/lib/python3.6/dist-packages (from spacy) (2.0.4)\n",
            "Requirement already satisfied: blis<0.5.0,>=0.4.0 in /usr/local/lib/python3.6/dist-packages (from spacy) (0.4.1)\n",
            "Requirement already satisfied: requests<3.0.0,>=2.13.0 in /usr/local/lib/python3.6/dist-packages (from spacy) (2.23.0)\n",
            "Requirement already satisfied: numpy>=1.15.0 in /usr/local/lib/python3.6/dist-packages (from spacy) (1.18.5)\n",
            "Requirement already satisfied: thinc==7.4.0 in /usr/local/lib/python3.6/dist-packages (from spacy) (7.4.0)\n",
            "Requirement already satisfied: tqdm<5.0.0,>=4.38.0 in /usr/local/lib/python3.6/dist-packages (from spacy) (4.41.1)\n",
            "Requirement already satisfied: importlib-metadata>=0.20; python_version < \"3.8\" in /usr/local/lib/python3.6/dist-packages (from catalogue<1.1.0,>=0.0.7->spacy) (2.0.0)\n",
            "Requirement already satisfied: chardet<4,>=3.0.2 in /usr/local/lib/python3.6/dist-packages (from requests<3.0.0,>=2.13.0->spacy) (3.0.4)\n",
            "Requirement already satisfied: idna<3,>=2.5 in /usr/local/lib/python3.6/dist-packages (from requests<3.0.0,>=2.13.0->spacy) (2.10)\n",
            "Requirement already satisfied: certifi>=2017.4.17 in /usr/local/lib/python3.6/dist-packages (from requests<3.0.0,>=2.13.0->spacy) (2020.6.20)\n",
            "Requirement already satisfied: urllib3!=1.25.0,!=1.25.1,<1.26,>=1.21.1 in /usr/local/lib/python3.6/dist-packages (from requests<3.0.0,>=2.13.0->spacy) (1.24.3)\n",
            "Requirement already satisfied: zipp>=0.5 in /usr/local/lib/python3.6/dist-packages (from importlib-metadata>=0.20; python_version < \"3.8\"->catalogue<1.1.0,>=0.0.7->spacy) (3.4.0)\n"
          ],
          "name": "stdout"
        }
      ]
    },
    {
      "cell_type": "code",
      "metadata": {
        "id": "O6xkM90tUVYV"
      },
      "source": [
        "import spacy"
      ],
      "execution_count": 4,
      "outputs": []
    },
    {
      "cell_type": "code",
      "metadata": {
        "id": "Zxog6E6BU4TT"
      },
      "source": [
        "import en_core_web_lg\n",
        "nlp = en_core_web_lg.load()"
      ],
      "execution_count": 5,
      "outputs": []
    },
    {
      "cell_type": "code",
      "metadata": {
        "id": "O63MSYpnVNze",
        "outputId": "527d30ce-1464-4f49-9fa3-b5a3aa661786",
        "colab": {
          "base_uri": "https://localhost:8080/"
        }
      },
      "source": [
        "x = 'king man woman'\n",
        "doc = nlp(x)\n",
        "\n",
        "for token1 in doc:\n",
        "  for token2 in doc:\n",
        "    print(token1.text, token2.text, token1.similarity(token2))"
      ],
      "execution_count": 6,
      "outputs": [
        {
          "output_type": "stream",
          "text": [
            "king king 1.0\n",
            "king man 0.4088461\n",
            "king woman 0.26556593\n",
            "man king 0.4088461\n",
            "man man 1.0\n",
            "man woman 0.7401745\n",
            "woman king 0.26556593\n",
            "woman man 0.7401745\n",
            "woman woman 1.0\n"
          ],
          "name": "stdout"
        }
      ]
    },
    {
      "cell_type": "code",
      "metadata": {
        "id": "JygPHJ7AVVch"
      },
      "source": [
        "import numpy as np\n",
        "import pandas as pd\n",
        "\n",
        "from sklearn.linear_model import LogisticRegression\n",
        "from sklearn.model_selection import train_test_split\n",
        "\n",
        "from sklearn.metrics import classification_report"
      ],
      "execution_count": 7,
      "outputs": []
    },
    {
      "cell_type": "code",
      "metadata": {
        "id": "21eROB_ZVhnN"
      },
      "source": [
        "df = pd.read_csv('https://raw.githubusercontent.com/laxmimerit/All-CSV-ML-Data-Files-Download/master/moviereviews.tsv', sep = '\\t')"
      ],
      "execution_count": 8,
      "outputs": []
    },
    {
      "cell_type": "markdown",
      "metadata": {
        "id": "BO-RrS_9VoJ5"
      },
      "source": [
        "Downloading from the laximerit github repo"
      ]
    },
    {
      "cell_type": "code",
      "metadata": {
        "id": "OZ6LIreMVwry",
        "outputId": "34234afc-89a4-49d7-99d1-3c1c6d086163",
        "colab": {
          "base_uri": "https://localhost:8080/",
          "height": 204
        }
      },
      "source": [
        "df.head()"
      ],
      "execution_count": 9,
      "outputs": [
        {
          "output_type": "execute_result",
          "data": {
            "text/html": [
              "<div>\n",
              "<style scoped>\n",
              "    .dataframe tbody tr th:only-of-type {\n",
              "        vertical-align: middle;\n",
              "    }\n",
              "\n",
              "    .dataframe tbody tr th {\n",
              "        vertical-align: top;\n",
              "    }\n",
              "\n",
              "    .dataframe thead th {\n",
              "        text-align: right;\n",
              "    }\n",
              "</style>\n",
              "<table border=\"1\" class=\"dataframe\">\n",
              "  <thead>\n",
              "    <tr style=\"text-align: right;\">\n",
              "      <th></th>\n",
              "      <th>label</th>\n",
              "      <th>review</th>\n",
              "    </tr>\n",
              "  </thead>\n",
              "  <tbody>\n",
              "    <tr>\n",
              "      <th>0</th>\n",
              "      <td>neg</td>\n",
              "      <td>how do films like mouse hunt get into theatres...</td>\n",
              "    </tr>\n",
              "    <tr>\n",
              "      <th>1</th>\n",
              "      <td>neg</td>\n",
              "      <td>some talented actresses are blessed with a dem...</td>\n",
              "    </tr>\n",
              "    <tr>\n",
              "      <th>2</th>\n",
              "      <td>pos</td>\n",
              "      <td>this has been an extraordinary year for austra...</td>\n",
              "    </tr>\n",
              "    <tr>\n",
              "      <th>3</th>\n",
              "      <td>pos</td>\n",
              "      <td>according to hollywood movies made in last few...</td>\n",
              "    </tr>\n",
              "    <tr>\n",
              "      <th>4</th>\n",
              "      <td>neg</td>\n",
              "      <td>my first press screening of 1998 and already i...</td>\n",
              "    </tr>\n",
              "  </tbody>\n",
              "</table>\n",
              "</div>"
            ],
            "text/plain": [
              "  label                                             review\n",
              "0   neg  how do films like mouse hunt get into theatres...\n",
              "1   neg  some talented actresses are blessed with a dem...\n",
              "2   pos  this has been an extraordinary year for austra...\n",
              "3   pos  according to hollywood movies made in last few...\n",
              "4   neg  my first press screening of 1998 and already i..."
            ]
          },
          "metadata": {
            "tags": []
          },
          "execution_count": 9
        }
      ]
    },
    {
      "cell_type": "code",
      "metadata": {
        "id": "9YBkgwljWQEH",
        "outputId": "5e9a024c-010d-493d-a373-07c62a04dfc4",
        "colab": {
          "base_uri": "https://localhost:8080/"
        }
      },
      "source": [
        "!pip install git+https://github.com/laxmimerit/preprocess_kgptalkie.git"
      ],
      "execution_count": 10,
      "outputs": [
        {
          "output_type": "stream",
          "text": [
            "Collecting git+https://github.com/laxmimerit/preprocess_kgptalkie.git\n",
            "  Cloning https://github.com/laxmimerit/preprocess_kgptalkie.git to /tmp/pip-req-build-h51l_95x\n",
            "  Running command git clone -q https://github.com/laxmimerit/preprocess_kgptalkie.git /tmp/pip-req-build-h51l_95x\n",
            "Building wheels for collected packages: preprocess-kgptalkie\n",
            "  Building wheel for preprocess-kgptalkie (setup.py) ... \u001b[?25l\u001b[?25hdone\n",
            "  Created wheel for preprocess-kgptalkie: filename=preprocess_kgptalkie-0.1.0-cp36-none-any.whl size=11716 sha256=0001298f950ddc405c20ae2c76007071e57d6bef01b0057891d720a13ff11bd1\n",
            "  Stored in directory: /tmp/pip-ephem-wheel-cache-qdtfuqr6/wheels/a8/18/22/90afa4bd43247fb9a75b710a4a3fcd94966c022ce9e3c7d0a6\n",
            "Successfully built preprocess-kgptalkie\n",
            "Installing collected packages: preprocess-kgptalkie\n",
            "Successfully installed preprocess-kgptalkie-0.1.0\n"
          ],
          "name": "stdout"
        }
      ]
    },
    {
      "cell_type": "code",
      "metadata": {
        "id": "Wt2Gvx5PWWfz"
      },
      "source": [
        "def get_clean(x):\n",
        "    x = str(x).lower().replace('\\\\', '').replace('_', ' ')\n",
        "    x = ps.cont_exp(x)\n",
        "    x = ps.remove_emails(x)\n",
        "    x = ps.remove_urls(x)\n",
        "    x = ps.remove_html_tags(x)\n",
        "    x = ps.remove_rt(x)\n",
        "    x = ps.remove_accented_chars(x)\n",
        "    x = ps.remove_special_chars(x)\n",
        "    x = re.sub(\"(.)\\\\1{2,}\", \"\\\\1\", x)\n",
        "    return x"
      ],
      "execution_count": 11,
      "outputs": []
    },
    {
      "cell_type": "code",
      "metadata": {
        "id": "lDpZbciYWeDs"
      },
      "source": [
        "import preprocess_kgptalkie as ps\n",
        "import re"
      ],
      "execution_count": 12,
      "outputs": []
    },
    {
      "cell_type": "code",
      "metadata": {
        "id": "c4XGoad9WjHo",
        "outputId": "897fb201-75cd-42b2-e4a1-1e9c3354ed2b",
        "colab": {
          "base_uri": "https://localhost:8080/",
          "height": 35
        }
      },
      "source": [
        "x = 'Thank you @ venkat'\n",
        "get_clean(x)"
      ],
      "execution_count": 15,
      "outputs": [
        {
          "output_type": "execute_result",
          "data": {
            "application/vnd.google.colaboratory.intrinsic+json": {
              "type": "string"
            },
            "text/plain": [
              "'thank yoyou venkat'"
            ]
          },
          "metadata": {
            "tags": []
          },
          "execution_count": 15
        }
      ]
    },
    {
      "cell_type": "code",
      "metadata": {
        "id": "wb7-DnFMXGwq"
      },
      "source": [
        "df['review'] = df['review'].apply(lambda x: get_clean(x))"
      ],
      "execution_count": 16,
      "outputs": []
    },
    {
      "cell_type": "code",
      "metadata": {
        "id": "LKx2Z71DXOhk",
        "outputId": "d4c0902d-fd24-4aab-9e34-2c932e9174aa",
        "colab": {
          "base_uri": "https://localhost:8080/",
          "height": 204
        }
      },
      "source": [
        "df.head()"
      ],
      "execution_count": 17,
      "outputs": [
        {
          "output_type": "execute_result",
          "data": {
            "text/html": [
              "<div>\n",
              "<style scoped>\n",
              "    .dataframe tbody tr th:only-of-type {\n",
              "        vertical-align: middle;\n",
              "    }\n",
              "\n",
              "    .dataframe tbody tr th {\n",
              "        vertical-align: top;\n",
              "    }\n",
              "\n",
              "    .dataframe thead th {\n",
              "        text-align: right;\n",
              "    }\n",
              "</style>\n",
              "<table border=\"1\" class=\"dataframe\">\n",
              "  <thead>\n",
              "    <tr style=\"text-align: right;\">\n",
              "      <th></th>\n",
              "      <th>label</th>\n",
              "      <th>review</th>\n",
              "    </tr>\n",
              "  </thead>\n",
              "  <tbody>\n",
              "    <tr>\n",
              "      <th>0</th>\n",
              "      <td>neg</td>\n",
              "      <td>how do filmiss like moyouse hyount get into th...</td>\n",
              "    </tr>\n",
              "    <tr>\n",
              "      <th>1</th>\n",
              "      <td>neg</td>\n",
              "      <td>some talented actresses are blessed with a dem...</td>\n",
              "    </tr>\n",
              "    <tr>\n",
              "      <th>2</th>\n",
              "      <td>pos</td>\n",
              "      <td>this has been an extraordinary year for ayoust...</td>\n",
              "    </tr>\n",
              "    <tr>\n",
              "      <th>3</th>\n",
              "      <td>pos</td>\n",
              "      <td>according to hollywood movthat iss made in las...</td>\n",
              "    </tr>\n",
              "    <tr>\n",
              "      <th>4</th>\n",
              "      <td>neg</td>\n",
              "      <td>my first press screening of 1998 and already i...</td>\n",
              "    </tr>\n",
              "  </tbody>\n",
              "</table>\n",
              "</div>"
            ],
            "text/plain": [
              "  label                                             review\n",
              "0   neg  how do filmiss like moyouse hyount get into th...\n",
              "1   neg  some talented actresses are blessed with a dem...\n",
              "2   pos  this has been an extraordinary year for ayoust...\n",
              "3   pos  according to hollywood movthat iss made in las...\n",
              "4   neg  my first press screening of 1998 and already i..."
            ]
          },
          "metadata": {
            "tags": []
          },
          "execution_count": 17
        }
      ]
    },
    {
      "cell_type": "code",
      "metadata": {
        "id": "5hKsh6zTXUwo"
      },
      "source": [
        "x = 'cat dog'\n",
        "doc = nlp(x)"
      ],
      "execution_count": 18,
      "outputs": []
    },
    {
      "cell_type": "code",
      "metadata": {
        "id": "ps9beQoDXfAU",
        "outputId": "cd2e7b86-4d92-4a61-fa76-1e26f9b42f42",
        "colab": {
          "base_uri": "https://localhost:8080/"
        }
      },
      "source": [
        "doc.vector.shape"
      ],
      "execution_count": 19,
      "outputs": [
        {
          "output_type": "execute_result",
          "data": {
            "text/plain": [
              "(300,)"
            ]
          },
          "metadata": {
            "tags": []
          },
          "execution_count": 19
        }
      ]
    },
    {
      "cell_type": "code",
      "metadata": {
        "id": "8pHwm0dPY9yk",
        "outputId": "5add4fcf-8302-4aa9-b225-e3556904fd1e",
        "colab": {
          "base_uri": "https://localhost:8080/"
        }
      },
      "source": [
        "doc[0]"
      ],
      "execution_count": 23,
      "outputs": [
        {
          "output_type": "execute_result",
          "data": {
            "text/plain": [
              "cat"
            ]
          },
          "metadata": {
            "tags": []
          },
          "execution_count": 23
        }
      ]
    },
    {
      "cell_type": "code",
      "metadata": {
        "id": "XJfrR5rLZDYW",
        "outputId": "332a6e77-22e3-4c42-f42e-3c9ab29fa328",
        "colab": {
          "base_uri": "https://localhost:8080/"
        }
      },
      "source": [
        "doc[0].vector # vector for cat"
      ],
      "execution_count": 24,
      "outputs": [
        {
          "output_type": "execute_result",
          "data": {
            "text/plain": [
              "array([-0.15067  , -0.024468 , -0.23368  , -0.23378  , -0.18382  ,\n",
              "        0.32711  , -0.22084  , -0.28777  ,  0.12759  ,  1.1656   ,\n",
              "       -0.64163  , -0.098455 , -0.62397  ,  0.010431 , -0.25653  ,\n",
              "        0.31799  ,  0.037779 ,  1.1904   , -0.17714  , -0.2595   ,\n",
              "       -0.31461  ,  0.038825 , -0.15713  , -0.13484  ,  0.36936  ,\n",
              "       -0.30562  , -0.40619  , -0.38965  ,  0.3686   ,  0.013963 ,\n",
              "       -0.6895   ,  0.004066 , -0.1367   ,  0.32564  ,  0.24688  ,\n",
              "       -0.14011  ,  0.53889  , -0.80441  , -0.1777   , -0.12922  ,\n",
              "        0.16303  ,  0.14917  , -0.068429 , -0.33922  ,  0.18495  ,\n",
              "       -0.082544 , -0.46892  ,  0.39581  , -0.13742  , -0.35132  ,\n",
              "        0.22223  , -0.144    , -0.048287 ,  0.3379   , -0.31916  ,\n",
              "        0.20526  ,  0.098624 , -0.23877  ,  0.045338 ,  0.43941  ,\n",
              "        0.030385 , -0.013821 , -0.093273 , -0.18178  ,  0.19438  ,\n",
              "       -0.3782   ,  0.70144  ,  0.16236  ,  0.0059111,  0.024898 ,\n",
              "       -0.13613  , -0.11425  , -0.31598  , -0.14209  ,  0.028194 ,\n",
              "        0.5419   , -0.42413  , -0.599    ,  0.24976  , -0.27003  ,\n",
              "        0.14964  ,  0.29287  , -0.31281  ,  0.16543  , -0.21045  ,\n",
              "       -0.4408   ,  1.2174   ,  0.51236  ,  0.56209  ,  0.14131  ,\n",
              "        0.092514 ,  0.71396  , -0.021051 , -0.33704  , -0.20275  ,\n",
              "       -0.36181  ,  0.22055  , -0.25665  ,  0.28425  , -0.16968  ,\n",
              "        0.058029 ,  0.61182  ,  0.31576  , -0.079185 ,  0.35538  ,\n",
              "       -0.51236  ,  0.4235   , -0.30033  , -0.22376  ,  0.15223  ,\n",
              "       -0.048292 ,  0.23532  ,  0.46507  , -0.67579  , -0.32905  ,\n",
              "        0.08446  , -0.22123  , -0.045333 ,  0.34463  , -0.1455   ,\n",
              "       -0.18047  , -0.17887  ,  0.96879  , -1.0028   , -0.47343  ,\n",
              "        0.28542  ,  0.56382  , -0.33211  , -0.38275  , -0.2749   ,\n",
              "       -0.22955  , -0.24265  , -0.37689  ,  0.24822  ,  0.36941  ,\n",
              "        0.14651  , -0.37864  ,  0.31134  , -0.28449  ,  0.36948  ,\n",
              "       -2.8174   , -0.38319  , -0.022373 ,  0.56376  ,  0.40131  ,\n",
              "       -0.42131  , -0.11311  , -0.17317  ,  0.1411   , -0.13194  ,\n",
              "        0.18494  ,  0.097692 , -0.097341 , -0.23987  ,  0.16631  ,\n",
              "       -0.28556  ,  0.0038654,  0.53292  , -0.32367  , -0.38744  ,\n",
              "        0.27011  , -0.34181  , -0.27702  , -0.67279  , -0.10771  ,\n",
              "       -0.062189 , -0.24783  , -0.070884 , -0.20898  ,  0.062404 ,\n",
              "        0.022372 ,  0.13408  ,  0.1305   , -0.19546  , -0.46849  ,\n",
              "        0.77731  , -0.043978 ,  0.3827   , -0.23376  ,  1.0457   ,\n",
              "       -0.14371  , -0.3565   , -0.080713 , -0.31047  , -0.57822  ,\n",
              "       -0.28067  , -0.069678 ,  0.068929 , -0.16227  , -0.63934  ,\n",
              "       -0.62149  ,  0.11222  , -0.16969  , -0.54637  ,  0.49661  ,\n",
              "        0.46565  ,  0.088294 , -0.48496  ,  0.69263  , -0.068977 ,\n",
              "       -0.53709  ,  0.20802  , -0.42987  , -0.11921  ,  0.1174   ,\n",
              "       -0.18443  ,  0.43797  , -0.1236   ,  0.3607   , -0.19608  ,\n",
              "       -0.35366  ,  0.18808  , -0.5061   ,  0.14455  , -0.024368 ,\n",
              "       -0.10772  , -0.0115   ,  0.58634  , -0.054461 ,  0.0076487,\n",
              "       -0.056297 ,  0.27193  ,  0.23096  , -0.29296  , -0.24325  ,\n",
              "        0.10317  , -0.10014  ,  0.7089   ,  0.17402  , -0.0037509,\n",
              "       -0.46304  ,  0.11806  , -0.16457  , -0.38609  ,  0.14524  ,\n",
              "        0.098122 , -0.12352  , -0.1047   ,  0.39047  , -0.3063   ,\n",
              "       -0.65375  , -0.0044248, -0.033876 ,  0.037114 , -0.27472  ,\n",
              "        0.0053147,  0.30737  ,  0.12528  , -0.19527  , -0.16461  ,\n",
              "        0.087518 , -0.051107 , -0.16323  ,  0.521    ,  0.10822  ,\n",
              "       -0.060379 , -0.71735  , -0.064327 ,  0.37043  , -0.41054  ,\n",
              "       -0.2728   , -0.30217  ,  0.015771 , -0.43056  ,  0.35647  ,\n",
              "        0.17188  , -0.54598  , -0.21541  , -0.044889 , -0.10597  ,\n",
              "       -0.54391  ,  0.53908  ,  0.070938 ,  0.097839 ,  0.097908 ,\n",
              "        0.17805  ,  0.18995  ,  0.49962  , -0.18529  ,  0.051234 ,\n",
              "        0.019574 ,  0.24805  ,  0.3144   , -0.29304  ,  0.54235  ,\n",
              "        0.46672  ,  0.26017  , -0.44705  ,  0.28287  , -0.033345 ,\n",
              "       -0.33181  , -0.10902  , -0.023324 ,  0.2106   , -0.29633  ,\n",
              "        0.81506  ,  0.038524 ,  0.46004  ,  0.17187  , -0.29804  ],\n",
              "      dtype=float32)"
            ]
          },
          "metadata": {
            "tags": []
          },
          "execution_count": 24
        }
      ]
    },
    {
      "cell_type": "code",
      "metadata": {
        "id": "YgndQMBVXiXG"
      },
      "source": [
        "def get_vec(x):\n",
        "  doc = nlp(x)\n",
        "  vec = doc.vector\n",
        "  return vec"
      ],
      "execution_count": 21,
      "outputs": []
    },
    {
      "cell_type": "code",
      "metadata": {
        "id": "ucQ2TrmqY0rF",
        "outputId": "94b6dfd0-ee5e-4998-c2ef-502c604e37e7",
        "colab": {
          "base_uri": "https://localhost:8080/"
        }
      },
      "source": [
        "get_vec(x)"
      ],
      "execution_count": 22,
      "outputs": [
        {
          "output_type": "execute_result",
          "data": {
            "text/plain": [
              "array([-2.76215017e-01,  1.73051000e-01, -1.06199495e-01, -2.87514985e-01,\n",
              "       -6.71409965e-02,  3.10755014e-01, -1.97300002e-01, -2.83794999e-01,\n",
              "        9.76060033e-02,  1.66744995e+00, -6.34269953e-01,  9.63025019e-02,\n",
              "       -6.48334980e-01,  1.21810503e-01, -2.99584985e-01,  2.50550002e-01,\n",
              "        2.70019501e-01,  1.12965000e+00, -1.50799975e-02, -3.55899990e-01,\n",
              "       -3.66439998e-01, -6.04224950e-02,  5.51749915e-02, -3.11755002e-01,\n",
              "        3.66990000e-01, -1.74511507e-01, -3.25464994e-01, -4.03584987e-01,\n",
              "        2.28844002e-01, -1.20778494e-01, -6.23224974e-01,  6.32480010e-02,\n",
              "       -1.10113002e-01,  4.38295007e-01,  3.05490017e-01,  6.75000250e-03,\n",
              "        5.48135042e-01, -8.55714977e-01, -1.13398999e-01,  1.28289998e-01,\n",
              "        2.71515012e-01,  1.46710008e-01, -1.70319498e-01, -3.54690015e-01,\n",
              "        2.79549956e-02, -1.16696998e-01, -4.24840003e-01,  2.22696498e-01,\n",
              "       -4.93499637e-03, -2.17053995e-01,  1.82810009e-01,  9.06850100e-02,\n",
              "        1.11986503e-01,  3.87109995e-01, -3.18425000e-01,  4.99654979e-01,\n",
              "        1.81956992e-01, -6.87099993e-02, -1.43725991e-01,  4.35289979e-01,\n",
              "        9.86275002e-02,  4.67345007e-02, -1.92749873e-03,  5.22850081e-02,\n",
              "        2.97775000e-01, -3.85209978e-01,  5.76804996e-01,  1.48784995e-01,\n",
              "       -1.41434446e-01,  1.03950035e-03, -2.42940009e-01, -1.72104999e-01,\n",
              "       -5.68699911e-02, -1.76929995e-01,  1.50017008e-01,  3.16801488e-01,\n",
              "       -3.15115005e-01, -6.28289998e-01,  2.19624996e-01, -2.68795013e-01,\n",
              "        1.21139497e-01,  3.63014996e-01, -4.00745004e-01, -1.08829997e-01,\n",
              "       -2.14774996e-01, -4.41314995e-01,  1.09891999e+00,  5.93294978e-01,\n",
              "        7.01059997e-01, -2.01900005e-02,  1.33182004e-01,  5.66219985e-01,\n",
              "        6.99644983e-02, -2.20970005e-01, -3.11199993e-01, -3.59205008e-01,\n",
              "        2.60900036e-02, -4.45614994e-01,  3.34235013e-01, -2.60055006e-01,\n",
              "        1.16444498e-01,  5.73549986e-01,  2.58594990e-01, -2.06540003e-02,\n",
              "        4.13214982e-01, -4.77899969e-01,  2.95949996e-01, -2.33590007e-01,\n",
              "       -2.31989995e-01,  2.57299989e-02,  1.27523988e-01,  3.31310004e-01,\n",
              "        4.01549995e-01, -5.55299997e-01, -1.07810006e-01,  7.32090026e-02,\n",
              "       -7.97109976e-02, -9.27015021e-02,  2.13324010e-01, -9.23150033e-02,\n",
              "       -6.45140037e-02,  5.41900024e-02,  7.74520040e-01, -7.89605021e-01,\n",
              "       -4.09974992e-01,  1.93370000e-01,  3.54225010e-01, -1.60270497e-01,\n",
              "       -3.59880000e-01, -2.25380003e-01, -2.93394983e-01, -2.28440002e-01,\n",
              "       -1.82730496e-01,  3.62334996e-01,  1.65973499e-01, -7.41849989e-02,\n",
              "       -2.76645005e-01,  3.06944996e-01,  1.59339994e-01,  1.51345015e-01,\n",
              "       -2.76119995e+00, -5.43134987e-01,  1.91553503e-01,  5.96249998e-01,\n",
              "        5.16054988e-01, -4.83220011e-01, -6.13645501e-02,  4.60799932e-02,\n",
              "        1.87505007e-01, -9.19129997e-02,  8.91820490e-02,  5.81324995e-02,\n",
              "       -2.77135491e-01, -1.55110493e-01, -6.99500069e-02, -1.49789006e-01,\n",
              "       -1.00107297e-01,  4.51959997e-01, -3.23605001e-01, -6.16949975e-01,\n",
              "        2.70515025e-01, -2.30710000e-01, -1.86298013e-01, -6.38715029e-01,\n",
              "       -3.26505005e-02,  9.21855047e-02, -1.04692504e-01, -4.81754988e-02,\n",
              "       -1.50943995e-01, -7.55780041e-02,  1.91786006e-01,  7.65964985e-02,\n",
              "        9.66205001e-02, -1.63145006e-01, -2.35002309e-01,  6.79844975e-01,\n",
              "       -1.16769001e-01,  5.81875026e-01, -1.11641496e-01,  1.06924999e+00,\n",
              "       -2.11549997e-02, -3.59490007e-01, -1.00166500e-01, -3.27544987e-01,\n",
              "       -5.67629993e-01, -1.13499910e-02,  1.31940991e-01,  2.00434506e-01,\n",
              "       -2.37625003e-01, -6.97404981e-01, -6.87195003e-01,  9.57399979e-03,\n",
              "       -1.40709996e-01, -5.59440017e-01,  3.31499994e-01,  5.50719976e-01,\n",
              "        1.64177001e-01, -3.88534993e-01,  7.97224998e-01,  2.76365019e-02,\n",
              "       -5.57299972e-01,  1.28003001e-01, -4.28674996e-01,  6.26250058e-02,\n",
              "        8.23159963e-02,  8.62549990e-02,  4.40190017e-01, -1.77074999e-01,\n",
              "        5.10535002e-01, -1.01739153e-01, -3.66114974e-01,  2.07834989e-01,\n",
              "       -4.38740015e-01,  2.27550000e-01, -4.82364967e-02, -1.76310003e-01,\n",
              "       -2.56305002e-02,  5.61419964e-01, -2.34620497e-01,  8.66393521e-02,\n",
              "        1.40386492e-01,  1.90565005e-01,  3.01575005e-01, -4.25114989e-01,\n",
              "       -5.11924982e-01,  1.22840002e-01, -2.29210004e-01,  5.62639952e-01,\n",
              "        1.94240004e-01,  9.01745483e-02, -4.70039994e-01,  4.80275005e-02,\n",
              "       -2.00455010e-01, -3.07245016e-01,  2.46230006e-01,  1.67396009e-01,\n",
              "       -2.46355012e-02, -9.65580046e-02,  3.38324994e-01, -3.87860000e-01,\n",
              "       -5.46445012e-01, -1.34582400e-01, -1.70387998e-01, -5.77430017e-02,\n",
              "       -1.79795012e-01,  1.44707352e-01,  6.12800047e-02, -4.79700044e-02,\n",
              "       -1.53479993e-01, -9.49255005e-02,  6.67430013e-02, -7.88200088e-03,\n",
              "        3.07199955e-02,  5.18280029e-01,  5.37843183e-02,  1.95900016e-02,\n",
              "       -4.29749995e-01,  6.85165003e-02,  3.26884985e-01, -3.49130005e-01,\n",
              "       -1.17517002e-01, -3.39125007e-01, -5.05194999e-02, -5.50379992e-01,\n",
              "        1.55102491e-01,  2.79860020e-01, -2.89137483e-01, -1.34850502e-01,\n",
              "       -2.49364495e-01,  4.47749980e-02, -4.19305027e-01,  6.94585025e-01,\n",
              "        8.71939957e-02,  9.74244997e-02,  1.05648994e-01,  2.86534995e-01,\n",
              "        1.24496505e-01,  3.59699994e-01,  1.57999992e-03, -5.38380034e-02,\n",
              "       -4.17179987e-02,  2.89844990e-01,  1.87938496e-01, -2.95760006e-01,\n",
              "        4.93725002e-01,  4.70005006e-01,  2.61645019e-01, -3.15999985e-01,\n",
              "        2.14695007e-01, -3.24274972e-02, -1.54450998e-01, -1.84155002e-01,\n",
              "       -1.65972009e-01,  1.06177256e-01, -2.42974997e-01,  6.81475043e-01,\n",
              "        1.75232008e-01,  3.53484988e-01,  2.35579997e-01, -1.86450496e-01],\n",
              "      dtype=float32)"
            ]
          },
          "metadata": {
            "tags": []
          },
          "execution_count": 22
        }
      ]
    },
    {
      "cell_type": "code",
      "metadata": {
        "id": "XrshkNpUayGT"
      },
      "source": [
        "df['vec'] = df['review'].apply(lambda x: get_vec(x))"
      ],
      "execution_count": 25,
      "outputs": []
    },
    {
      "cell_type": "code",
      "metadata": {
        "id": "yucc7oSFbDQp",
        "outputId": "e9ddad32-8a4e-4fe7-b691-df50f636eaaa",
        "colab": {
          "base_uri": "https://localhost:8080/",
          "height": 204
        }
      },
      "source": [
        "df.head()"
      ],
      "execution_count": 26,
      "outputs": [
        {
          "output_type": "execute_result",
          "data": {
            "text/html": [
              "<div>\n",
              "<style scoped>\n",
              "    .dataframe tbody tr th:only-of-type {\n",
              "        vertical-align: middle;\n",
              "    }\n",
              "\n",
              "    .dataframe tbody tr th {\n",
              "        vertical-align: top;\n",
              "    }\n",
              "\n",
              "    .dataframe thead th {\n",
              "        text-align: right;\n",
              "    }\n",
              "</style>\n",
              "<table border=\"1\" class=\"dataframe\">\n",
              "  <thead>\n",
              "    <tr style=\"text-align: right;\">\n",
              "      <th></th>\n",
              "      <th>label</th>\n",
              "      <th>review</th>\n",
              "      <th>vec</th>\n",
              "    </tr>\n",
              "  </thead>\n",
              "  <tbody>\n",
              "    <tr>\n",
              "      <th>0</th>\n",
              "      <td>neg</td>\n",
              "      <td>how do filmiss like moyouse hyount get into th...</td>\n",
              "      <td>[-0.015827669, 0.05839573, -0.092009455, -0.02...</td>\n",
              "    </tr>\n",
              "    <tr>\n",
              "      <th>1</th>\n",
              "      <td>neg</td>\n",
              "      <td>some talented actresses are blessed with a dem...</td>\n",
              "      <td>[-0.021148004, 0.102309465, -0.10911923, -0.02...</td>\n",
              "    </tr>\n",
              "    <tr>\n",
              "      <th>2</th>\n",
              "      <td>pos</td>\n",
              "      <td>this has been an extraordinary year for ayoust...</td>\n",
              "      <td>[0.006780249, 0.083718695, -0.06633399, -0.010...</td>\n",
              "    </tr>\n",
              "    <tr>\n",
              "      <th>3</th>\n",
              "      <td>pos</td>\n",
              "      <td>according to hollywood movthat iss made in las...</td>\n",
              "      <td>[0.022122996, 0.06091805, -0.038373444, -0.032...</td>\n",
              "    </tr>\n",
              "    <tr>\n",
              "      <th>4</th>\n",
              "      <td>neg</td>\n",
              "      <td>my first press screening of 1998 and already i...</td>\n",
              "      <td>[0.012009544, 0.074697584, -0.087078236, -0.02...</td>\n",
              "    </tr>\n",
              "  </tbody>\n",
              "</table>\n",
              "</div>"
            ],
            "text/plain": [
              "  label  ...                                                vec\n",
              "0   neg  ...  [-0.015827669, 0.05839573, -0.092009455, -0.02...\n",
              "1   neg  ...  [-0.021148004, 0.102309465, -0.10911923, -0.02...\n",
              "2   pos  ...  [0.006780249, 0.083718695, -0.06633399, -0.010...\n",
              "3   pos  ...  [0.022122996, 0.06091805, -0.038373444, -0.032...\n",
              "4   neg  ...  [0.012009544, 0.074697584, -0.087078236, -0.02...\n",
              "\n",
              "[5 rows x 3 columns]"
            ]
          },
          "metadata": {
            "tags": []
          },
          "execution_count": 26
        }
      ]
    },
    {
      "cell_type": "code",
      "metadata": {
        "id": "diZFY0BebYkA",
        "outputId": "c7f92c89-f179-4bad-cec5-1262db54b678",
        "colab": {
          "base_uri": "https://localhost:8080/"
        }
      },
      "source": [
        "X = df['vec'].to_numpy()\n",
        "X"
      ],
      "execution_count": 28,
      "outputs": [
        {
          "output_type": "execute_result",
          "data": {
            "text/plain": [
              "array([array([-1.58276688e-02,  5.83957285e-02, -9.20094550e-02, -2.15344224e-02,\n",
              "        6.43395856e-02, -3.15852314e-02,  6.00183895e-03, -7.07029104e-02,\n",
              "        1.93243045e-02,  1.63491046e+00, -1.13591582e-01, -9.28599108e-03,\n",
              "        4.25565522e-03, -3.48670706e-02, -6.52648434e-02, -3.53884436e-02,\n",
              "       -3.46475318e-02,  7.00985849e-01, -1.10114187e-01, -1.19180018e-02,\n",
              "        7.11750053e-03, -4.85693365e-02, -4.04747613e-02, -1.28665678e-02,\n",
              "        1.06313322e-02,  7.59965321e-03, -4.15616669e-02, -2.88439840e-02,\n",
              "        1.04317619e-02, -3.32553834e-02, -2.92165913e-02,  8.92561227e-02,\n",
              "       -6.00731075e-02,  6.00273348e-02,  5.83404452e-02, -5.70678264e-02,\n",
              "       -6.16742205e-03,  3.15445177e-02, -3.94654907e-02, -4.45587486e-02,\n",
              "        1.07360780e-02,  7.79529884e-02, -2.36466657e-02, -6.81240335e-02,\n",
              "        4.86185960e-02,  7.81888980e-03, -5.82005717e-02, -1.68124156e-03,\n",
              "       -2.23094728e-02,  3.16125974e-02, -1.34656986e-03,  4.64730226e-02,\n",
              "       -1.40155535e-02, -1.87036265e-02,  3.66859883e-02,  2.48005446e-02,\n",
              "       -2.74655670e-02, -4.50912379e-02, -1.34831220e-02, -5.53656183e-02,\n",
              "        9.55721829e-03,  2.61928048e-03, -5.06303422e-02,  9.54181701e-02,\n",
              "        4.82738651e-02, -4.64261435e-02, -3.93479094e-02,  3.60966139e-02,\n",
              "        2.78553925e-02,  3.22223864e-02,  5.22258729e-02,  2.69962884e-02,\n",
              "        1.07946292e-01, -4.95968433e-03,  3.47758159e-02,  4.51915339e-03,\n",
              "        3.83912474e-02, -7.26957247e-02, -1.89360101e-02,  9.30525810e-02,\n",
              "       -2.14739979e-04,  5.11904284e-02, -9.49571878e-02, -2.38705687e-02,\n",
              "        3.15108076e-02, -1.20177984e-01, -2.90976800e-02, -7.64510259e-02,\n",
              "        1.38913676e-01,  1.32743455e-02, -1.34741813e-01,  3.38395387e-02,\n",
              "       -5.02918772e-02,  1.38132479e-02,  7.65650049e-02,  2.99520474e-02,\n",
              "       -1.59512106e-02, -3.45807523e-02, -3.29511287e-03,  2.97577376e-03,\n",
              "        1.64523050e-02,  1.82250421e-02, -7.20612183e-02, -4.20355685e-02,\n",
              "        8.10611472e-02, -6.43148661e-01,  6.10495172e-02,  4.72034402e-02,\n",
              "        2.74120700e-02, -5.91588430e-02,  3.40157077e-02, -8.54472741e-02,\n",
              "        4.84090298e-02, -1.06805777e-02,  6.99572545e-03,  9.26165935e-03,\n",
              "       -1.48473168e-02,  5.63917980e-02,  4.61810874e-03,  2.06076000e-02,\n",
              "        2.46566217e-02, -5.90597987e-02, -2.56966632e-02, -1.16226031e-02,\n",
              "        2.56279837e-02,  2.96718832e-02, -2.71985307e-02, -6.69566765e-02,\n",
              "       -1.77783743e-02, -1.29168648e-02, -4.65695485e-02,  2.17291880e-02,\n",
              "       -2.84485817e-02,  3.58544253e-02,  4.45288122e-02,  1.65248793e-02,\n",
              "       -2.06020176e-02, -9.02978610e-03, -5.96864708e-03, -3.57930139e-02,\n",
              "       -9.63163733e-01,  1.41849602e-02,  5.27897105e-02, -4.53786505e-03,\n",
              "       -1.71929540e-03, -5.24098650e-02, -5.96025633e-03, -1.63243953e-02,\n",
              "        6.26870394e-02, -3.90896648e-02, -1.44477068e-02, -8.58357735e-03,\n",
              "        8.08267295e-02, -2.17671655e-02, -1.19875539e-02, -4.31334376e-02,\n",
              "       -7.37010464e-02, -2.20226329e-02, -5.27237169e-02, -7.07967654e-02,\n",
              "       -2.89531779e-02,  2.63750507e-03, -2.70326249e-02,  2.03319080e-02,\n",
              "       -8.80055781e-03, -1.31776512e-01,  4.23946604e-02, -3.31572331e-02,\n",
              "        1.07780218e-01,  2.50474992e-03, -6.89252978e-03, -3.31222266e-02,\n",
              "        9.63767320e-02, -3.35227922e-02, -2.13999655e-02,  3.95887084e-02,\n",
              "       -3.64509374e-02,  1.50907470e-03, -1.07398175e-03, -3.94100547e-02,\n",
              "        3.11985761e-02, -6.93230256e-02, -5.65242954e-02, -3.47332917e-02,\n",
              "       -3.57389413e-02,  2.21791137e-02, -5.10665104e-02, -3.85385677e-02,\n",
              "        4.44092266e-02,  1.26594324e-02, -3.82721685e-02, -2.07033381e-02,\n",
              "       -1.06829710e-01,  4.80037443e-02, -5.18221408e-03,  7.34813139e-02,\n",
              "       -4.91959006e-02, -2.40568426e-02, -7.34943524e-03,  8.37263316e-02,\n",
              "       -3.58342230e-02, -1.40682869e-02, -8.28569531e-02, -1.54358670e-02,\n",
              "        1.06714651e-01,  3.35100368e-02,  3.80493738e-02,  2.11246051e-02,\n",
              "        2.44206320e-02,  2.98622623e-02, -6.07628040e-02, -1.11764092e-02,\n",
              "       -2.43626311e-02, -1.04754739e-01, -9.76384990e-03,  9.25861076e-02,\n",
              "       -1.00120092e-02,  3.48243602e-02, -6.79760426e-02, -1.05075724e-02,\n",
              "        1.36922952e-02, -5.84085379e-03, -4.87232208e-02, -2.54379632e-03,\n",
              "       -2.25251098e-03, -2.25086380e-02, -3.46199237e-02,  8.42643082e-02,\n",
              "        1.00640403e-02, -9.97603219e-03, -9.40467119e-02,  2.83359177e-02,\n",
              "        4.39480655e-02,  8.35773870e-02, -5.74113280e-02, -5.92546202e-02,\n",
              "        4.18629870e-03, -4.06751670e-02, -6.36957288e-02,  5.47320917e-02,\n",
              "        5.57403117e-02,  4.83217314e-02,  7.12039042e-03,  6.47799224e-02,\n",
              "        8.75597894e-02, -1.03842169e-01, -4.81763706e-02, -8.68478939e-02,\n",
              "       -5.43148704e-02,  3.98144275e-02,  2.40331255e-02, -4.27640900e-02,\n",
              "        1.72963664e-02, -1.53891835e-02,  1.70537028e-02,  1.57372206e-01,\n",
              "        9.65376496e-02, -1.23451445e-02, -2.72070225e-02,  2.07643062e-02,\n",
              "        6.38295040e-02,  9.86699164e-02,  1.28499893e-02,  3.92493270e-02,\n",
              "        1.05689771e-01, -3.32503058e-02, -1.06861452e-02,  2.78618541e-02,\n",
              "        2.13582069e-01,  8.84344708e-03,  7.21196309e-02, -4.01411131e-02,\n",
              "       -6.22304715e-02, -9.87152681e-02, -4.78966050e-02,  9.16290469e-03,\n",
              "        1.76632442e-02,  5.53967096e-02,  2.47120261e-02,  1.42554671e-01,\n",
              "        1.14537522e-01,  5.49933277e-02, -2.22486723e-02, -3.20048071e-02,\n",
              "       -3.42684463e-02, -4.80419733e-02,  1.02022015e-01, -4.44460995e-02,\n",
              "        8.73053670e-02, -6.54026419e-02, -1.43655747e-01,  2.58362647e-02,\n",
              "        1.74096518e-03, -5.36379516e-02,  1.26299104e-02,  9.25088581e-03,\n",
              "       -3.12561691e-02, -3.34854387e-02, -3.75453383e-03,  7.12638125e-02],\n",
              "      dtype=float32),\n",
              "       array([-2.11480036e-02,  1.02309465e-01, -1.09119229e-01, -2.51207463e-02,\n",
              "        7.84411281e-02, -2.08393503e-02,  2.60621030e-02, -9.31615233e-02,\n",
              "       -1.76869275e-03,  1.72875941e+00, -1.00481696e-01,  2.42914744e-02,\n",
              "       -5.20106219e-03, -5.83158135e-02, -9.23422575e-02, -4.88269068e-02,\n",
              "       -1.75958686e-02,  6.97290301e-01, -1.25445291e-01, -2.34385375e-02,\n",
              "        6.03892654e-03, -8.72181356e-02, -4.25349399e-02, -2.75707208e-02,\n",
              "        1.55171063e-02,  4.25878912e-03, -3.67575251e-02, -4.92911488e-02,\n",
              "        5.90031967e-03, -6.39827698e-02, -5.07512055e-02,  1.00064434e-01,\n",
              "       -5.08345217e-02,  3.34348753e-02,  8.09466764e-02, -6.41797408e-02,\n",
              "       -2.62851645e-05,  1.16540387e-03, -3.81588638e-02, -7.20441788e-02,\n",
              "        4.12727334e-02,  7.80162737e-02, -5.86162903e-04, -7.04618022e-02,\n",
              "        5.81388324e-02,  1.41145568e-02, -1.11534990e-01, -2.23503560e-02,\n",
              "       -1.04558812e-02,  1.50732398e-02, -3.51048708e-02,  2.56595667e-02,\n",
              "       -2.87621375e-02, -3.26162837e-02,  3.74518074e-02,  4.26796786e-02,\n",
              "       -3.40718888e-02, -2.79650986e-02,  3.26190586e-03, -6.22018911e-02,\n",
              "       -1.28174052e-02, -2.36592460e-02, -5.72283678e-02,  1.02227107e-01,\n",
              "        4.63331826e-02, -6.85591847e-02, -2.49364562e-02,  3.34619880e-02,\n",
              "        3.07098664e-02,  5.00957295e-02,  2.73964126e-02,  2.60437392e-02,\n",
              "        7.99684227e-02, -2.71196812e-02,  1.87745392e-02,  2.35236646e-03,\n",
              "        5.07799573e-02, -4.99216728e-02, -1.51563119e-02,  1.01673409e-01,\n",
              "        1.30926212e-02,  5.75710014e-02, -1.28692284e-01, -4.21051664e-04,\n",
              "        2.73613855e-02, -1.46701142e-01, -9.67234839e-03, -1.07709855e-01,\n",
              "        1.16842233e-01, -1.92730210e-03, -1.05388612e-01, -1.18338841e-03,\n",
              "       -5.93696162e-02,  3.66163813e-02,  7.69566447e-02, -2.12046392e-02,\n",
              "        4.05437201e-02, -2.12791059e-02, -1.85137906e-03, -3.77182439e-02,\n",
              "        7.45773688e-03,  3.31083648e-02, -7.03059882e-02, -5.62646873e-02,\n",
              "        6.81438148e-02, -6.10103726e-01,  3.55132036e-02,  2.47257575e-02,\n",
              "        1.80023201e-02, -3.71457748e-02,  3.11201271e-02, -5.03931344e-02,\n",
              "        3.51440050e-02, -4.98741418e-02,  1.60202719e-02, -3.93690774e-03,\n",
              "        1.76119932e-03,  6.44873381e-02,  2.27547046e-02,  2.09493116e-02,\n",
              "        7.36798719e-03, -4.04950492e-02, -1.78490281e-02, -2.10507754e-02,\n",
              "        9.94839147e-03,  3.92403789e-02, -4.65027615e-02, -9.91347954e-02,\n",
              "       -1.25345951e-02, -2.05550976e-02, -5.14778160e-02,  2.11589206e-02,\n",
              "       -5.27883731e-02,  1.77265517e-02,  9.24889147e-02,  1.49543164e-02,\n",
              "       -1.52643360e-02,  1.43233892e-02,  4.15466086e-04, -6.19717091e-02,\n",
              "       -1.07109082e+00,  3.05245575e-02,  7.41558298e-02,  3.20813879e-02,\n",
              "       -2.36840528e-02, -5.55273518e-02, -1.96135584e-02, -7.36629590e-03,\n",
              "        5.53044789e-02, -2.49661729e-02, -2.24608835e-02,  6.26618229e-03,\n",
              "        7.49621093e-02, -1.74206216e-02, -4.49062064e-02, -3.59589309e-02,\n",
              "       -8.75249729e-02, -4.03463542e-02, -3.79538424e-02, -1.04433410e-01,\n",
              "       -1.02426484e-02, -1.92985628e-02, -3.78003679e-02, -1.48131023e-03,\n",
              "       -1.50088854e-02, -1.12847187e-01,  2.51332689e-02, -3.83888781e-02,\n",
              "        1.09052725e-01, -1.34294424e-02, -2.01043468e-02, -4.68217954e-02,\n",
              "        1.06496930e-01, -4.26404998e-02, -4.91580628e-02,  3.75652350e-02,\n",
              "       -3.43242623e-02,  3.09510659e-02, -2.29174625e-02, -3.04010641e-02,\n",
              "        1.06675243e-02, -3.62288803e-02, -7.80554712e-02, -4.90961894e-02,\n",
              "       -4.93422598e-02,  3.49378772e-02, -5.46078272e-02, -8.67558084e-03,\n",
              "        3.06990482e-02, -4.05835966e-03, -4.12871875e-02, -2.88514569e-02,\n",
              "       -1.23130098e-01,  4.32788432e-02,  5.92672126e-03,  8.00212920e-02,\n",
              "       -2.71471050e-02, -4.86448966e-02, -7.43022840e-03,  7.94395581e-02,\n",
              "       -3.60419154e-02, -2.02702638e-02, -9.50748026e-02, -6.83455542e-03,\n",
              "        1.01292945e-01,  4.31851074e-02,  3.23836952e-02,  1.16085622e-03,\n",
              "        1.47219747e-02,  2.26695742e-02, -7.91487247e-02,  6.11457741e-03,\n",
              "       -2.42522378e-02, -1.42190948e-01,  3.86145487e-02,  1.39467046e-01,\n",
              "       -3.06465887e-02, -2.55132909e-03, -6.11244552e-02, -3.34090516e-02,\n",
              "       -6.62824791e-03, -4.84950055e-04, -3.74508686e-02,  1.61024835e-02,\n",
              "       -3.96879297e-03,  6.20812597e-03,  3.86244478e-03,  8.02257583e-02,\n",
              "        3.99152115e-02,  2.12482009e-02, -9.48382989e-02,  3.66167687e-02,\n",
              "        5.11056557e-02,  6.58286512e-02, -6.95031434e-02, -7.95745030e-02,\n",
              "        3.79550643e-02, -3.62223499e-02, -7.97077417e-02,  6.92616329e-02,\n",
              "        2.87345666e-02,  7.00159743e-02,  1.40846921e-02,  6.71840087e-02,\n",
              "        1.00953951e-01, -1.04947738e-01, -5.88519573e-02, -9.72257629e-02,\n",
              "       -7.28535056e-02,  5.43356463e-02,  1.29508199e-02, -2.62411777e-02,\n",
              "       -9.98769421e-03, -1.43197672e-02,  3.10018267e-02,  1.53794929e-01,\n",
              "        8.97329673e-02, -1.53962560e-02, -2.61239298e-02,  3.18191126e-02,\n",
              "        8.61468390e-02,  1.23720244e-01, -1.51186641e-02,  6.57143146e-02,\n",
              "        6.98575601e-02, -5.42465458e-03, -9.07023263e-04,  1.14640817e-02,\n",
              "        1.91251814e-01, -2.25454848e-02,  5.95836118e-02, -2.24957466e-02,\n",
              "       -9.71481279e-02, -9.98828188e-02, -4.43676151e-02,  3.00052911e-02,\n",
              "       -3.60571407e-03,  3.59213799e-02,  2.92996950e-02,  1.62794575e-01,\n",
              "        1.00664109e-01,  8.87031853e-02, -3.38608362e-02, -3.79438810e-02,\n",
              "       -3.77214551e-02, -5.05728796e-02,  7.24999458e-02, -3.80422845e-02,\n",
              "        8.15453380e-02, -5.36958128e-02, -1.11815393e-01,  1.38957696e-02,\n",
              "        3.63208074e-03, -5.03932908e-02,  4.52242196e-02,  2.75334027e-02,\n",
              "       -1.87831242e-02, -2.11788882e-02,  1.67484600e-02,  5.19866161e-02],\n",
              "      dtype=float32),\n",
              "       array([ 6.78024907e-03,  8.37186947e-02, -6.63339868e-02, -1.04774777e-02,\n",
              "        8.99069607e-02, -2.78393738e-02, -1.64099019e-02, -4.12293337e-02,\n",
              "        3.10954102e-03,  1.74379861e+00, -1.23427518e-01,  7.54595036e-03,\n",
              "        1.76218729e-02, -7.28028417e-02, -5.62059358e-02, -5.21212183e-02,\n",
              "       -2.25036256e-02,  7.66618192e-01, -9.55018625e-02, -6.68591410e-02,\n",
              "       -9.60268732e-03, -8.98785889e-02, -3.40056419e-02,  1.16678365e-02,\n",
              "        4.01859358e-02,  6.14566030e-03, -5.15314490e-02, -8.14899895e-03,\n",
              "       -4.93738838e-02, -7.30171427e-03, -2.97403596e-02,  1.02726251e-01,\n",
              "       -3.83233391e-02,  4.70580682e-02,  8.62910599e-02, -7.59886727e-02,\n",
              "       -2.66782343e-02, -2.50983890e-02, -3.79660651e-02, -9.00956914e-02,\n",
              "        4.08040993e-02,  9.85930860e-02,  4.42329235e-03, -8.10553208e-02,\n",
              "        5.92201166e-02,  1.84255969e-02, -8.82631242e-02, -2.88265459e-02,\n",
              "       -3.10278162e-02,  3.19209024e-02, -1.44326165e-02,  3.26223150e-02,\n",
              "       -3.17597277e-02, -1.00517347e-02,  4.98084165e-02,  4.32407595e-02,\n",
              "       -1.29454499e-02, -3.36770751e-02, -6.90426212e-03, -6.32284582e-02,\n",
              "       -1.13371285e-02, -1.02179525e-02, -5.54508716e-02,  1.28570497e-01,\n",
              "        1.70700047e-02, -6.62918761e-02, -3.30505036e-02,  2.06778850e-02,\n",
              "        2.82851383e-02,  4.30013277e-02,  1.90341026e-02,  2.95981206e-02,\n",
              "        6.92716017e-02, -1.57393552e-02,  9.36078932e-03, -2.18555350e-02,\n",
              "        2.45432686e-02, -4.49237600e-02, -3.42109725e-02,  7.44788870e-02,\n",
              "        2.73974482e-02,  8.01568851e-02, -9.79873538e-02,  1.58200134e-02,\n",
              "        4.42746989e-02, -1.30193010e-01, -7.37091228e-02, -4.80953008e-02,\n",
              "        8.83275121e-02, -1.51460432e-03, -1.09934695e-01,  1.74040776e-02,\n",
              "       -3.52574512e-02,  2.16060095e-02,  8.20405781e-02,  7.03350815e-04,\n",
              "       -3.06630216e-04, -3.20996493e-02,  1.49504365e-02, -2.59616822e-02,\n",
              "        4.51524705e-02,  2.26946194e-02, -6.41211420e-02, -3.58125195e-02,\n",
              "        6.43888712e-02, -6.16768599e-01,  4.57766727e-02,  5.60295619e-02,\n",
              "        1.50193051e-02, -7.41181523e-02,  1.96545590e-02, -7.69729167e-02,\n",
              "        2.22776495e-02, -7.99202826e-03,  2.16447804e-02,  1.42316921e-02,\n",
              "       -1.58388540e-02,  7.78184459e-02, -1.04890559e-02,  1.40992096e-02,\n",
              "        1.08351568e-02, -4.62717228e-02, -4.23630774e-02, -2.17816904e-02,\n",
              "       -1.45336138e-02,  5.45544066e-02, -2.93880962e-02, -9.99314040e-02,\n",
              "       -1.22757838e-03, -2.85498928e-02, -5.66658638e-02, -1.40985465e-02,\n",
              "       -6.29837215e-02,  1.82105303e-02,  7.78420642e-02,  1.10811209e-02,\n",
              "       -1.60862505e-02,  2.69354787e-02, -1.12722078e-02, -6.60774484e-02,\n",
              "       -9.58984017e-01,  8.60805809e-03,  7.17178434e-02,  4.03275751e-02,\n",
              "        1.80761628e-02, -5.79071715e-02,  3.62278824e-03,  1.26780029e-02,\n",
              "        7.52485693e-02, -2.97614075e-02, -5.03018275e-02, -1.17880804e-02,\n",
              "        8.18494707e-02, -1.75365470e-02, -4.90056835e-02, -2.01386027e-03,\n",
              "       -9.47539508e-02, -8.68586265e-03, -5.74035831e-02, -5.57431281e-02,\n",
              "        3.60349426e-03,  1.52784027e-03, -2.81178523e-02,  2.60354914e-02,\n",
              "       -1.56147480e-02, -1.15795463e-01,  3.44647951e-02, -3.09705827e-02,\n",
              "        1.09631538e-01, -2.69798771e-03,  1.77699681e-02, -2.92215031e-02,\n",
              "        6.09479398e-02, -4.55724709e-02, -7.51321539e-02,  5.02034575e-02,\n",
              "       -1.33988718e-02, -5.56816068e-03, -1.04520675e-02, -3.53938639e-02,\n",
              "       -6.66835112e-03, -4.02038358e-02, -7.40044564e-02, -8.24816152e-02,\n",
              "       -4.69903685e-02,  3.31661515e-02, -7.30577260e-02, -2.76960675e-02,\n",
              "        2.35122945e-02, -3.62888910e-02, -5.93775585e-02, -1.25290770e-02,\n",
              "       -1.36620387e-01,  8.19963515e-02,  3.76856960e-02,  1.01938538e-01,\n",
              "       -2.20099743e-02, -5.17085902e-02, -5.11685535e-02,  8.28713104e-02,\n",
              "       -2.84865014e-02,  2.63947528e-03, -9.60736573e-02,  3.79782245e-02,\n",
              "        1.50116399e-01,  2.73990259e-02,  5.21607175e-02,  2.35664733e-02,\n",
              "       -5.74390031e-03, -6.65807724e-03, -5.92758022e-02, -1.08240382e-03,\n",
              "       -4.64898087e-02, -1.08408928e-01,  2.11582538e-02,  1.29923493e-01,\n",
              "       -5.62530458e-02,  2.60651428e-02, -1.77798998e-02, -3.18427980e-02,\n",
              "       -1.51866265e-02, -1.79077238e-02, -3.86417210e-02,  1.59955882e-02,\n",
              "       -1.64117832e-02, -2.20210869e-02,  1.56785976e-02,  9.32860300e-02,\n",
              "        5.02432361e-02,  4.46611866e-02, -8.30093324e-02,  3.83970216e-02,\n",
              "        4.06131744e-02,  7.47120976e-02, -7.65319169e-02, -5.64698987e-02,\n",
              "       -2.29094364e-03, -3.16638723e-02, -8.34288374e-02,  5.90165257e-02,\n",
              "        3.22647206e-02,  5.72904013e-02,  2.50630286e-02,  4.90548648e-02,\n",
              "        8.41111988e-02, -1.10981978e-01, -5.65656759e-02, -9.99772474e-02,\n",
              "       -7.97850713e-02, -2.39411835e-03, -5.48814831e-04, -3.05534638e-02,\n",
              "        3.06219831e-02, -2.76415166e-03,  1.74892098e-02,  1.79720804e-01,\n",
              "        1.13238096e-01,  6.00697985e-03,  6.21034764e-03,  1.69397499e-02,\n",
              "        9.40999538e-02,  1.07936122e-01, -9.11323633e-03,  3.86570133e-02,\n",
              "        7.88927600e-02, -7.02126175e-02,  7.93687720e-03, -7.09482236e-03,\n",
              "        1.79573193e-01, -2.48174109e-02,  6.23161085e-02, -2.19873395e-02,\n",
              "       -9.01564509e-02, -1.02435440e-01, -3.46027389e-02,  1.75104737e-02,\n",
              "        7.40255974e-03,  6.97305948e-02,  3.67298275e-02,  1.43467590e-01,\n",
              "        1.24466002e-01,  8.84880349e-02, -5.22150360e-02, -3.57781202e-02,\n",
              "       -6.09541573e-02, -7.86069334e-02,  8.38221908e-02, -3.60961780e-02,\n",
              "        8.70666504e-02, -7.00576603e-02, -1.49364129e-01,  2.84306221e-02,\n",
              "        2.02031415e-02, -9.93583873e-02,  2.30857786e-02,  8.45548417e-03,\n",
              "       -6.67797402e-03, -1.29696485e-02, -3.60344388e-02,  6.55511171e-02],\n",
              "      dtype=float32),\n",
              "       ...,\n",
              "       array([-2.48088385e-03,  8.89643431e-02, -8.63523036e-02, -3.88253108e-02,\n",
              "        6.89434037e-02, -1.30265672e-02,  6.54990645e-03, -9.85864401e-02,\n",
              "       -1.52477354e-03,  1.64797020e+00, -9.17163193e-02,  1.87336206e-02,\n",
              "        9.09520406e-03, -7.34395981e-02, -6.16712384e-02, -4.80810255e-02,\n",
              "       -1.66365076e-02,  6.91554189e-01, -1.04989074e-01, -4.86949906e-02,\n",
              "       -5.33993542e-03, -5.01608551e-02, -4.10510860e-02, -3.68296020e-02,\n",
              "        2.98144426e-02,  1.68774603e-03, -4.11711819e-02, -5.63544519e-02,\n",
              "       -1.67477522e-02, -3.80336456e-02, -3.87142561e-02,  7.39834458e-02,\n",
              "       -4.33867276e-02,  5.82243875e-02,  5.94988056e-02, -7.58053213e-02,\n",
              "       -2.11086646e-02,  2.61991061e-02, -4.06125858e-02, -6.94022551e-02,\n",
              "        4.47159857e-02,  7.68026784e-02, -5.71088726e-03, -6.64203465e-02,\n",
              "        6.28828183e-02,  4.36926298e-02, -9.70133096e-02, -2.91099567e-02,\n",
              "       -2.85413116e-03,  3.19794714e-02,  7.53736263e-03,  3.78594473e-02,\n",
              "       -3.52535173e-02,  4.38627647e-03,  3.53729911e-02,  3.76541391e-02,\n",
              "       -1.47961555e-02, -6.79266453e-02,  2.40528793e-03, -6.78258166e-02,\n",
              "       -2.07366236e-02, -1.31355049e-02, -4.27202620e-02,  9.66794491e-02,\n",
              "        2.86289379e-02, -5.59143014e-02, -2.74329316e-02,  2.59021334e-02,\n",
              "        2.95907818e-02,  6.62110075e-02,  4.45916504e-02, -5.58327138e-03,\n",
              "        8.92160609e-02, -1.82872303e-02,  2.64944416e-02, -9.65254102e-03,\n",
              "        3.53631862e-02, -4.28278223e-02, -5.57741746e-02,  1.06644191e-01,\n",
              "        1.88881140e-02,  4.92359474e-02, -9.37161520e-02,  8.55443720e-03,\n",
              "        2.55637430e-02, -1.26250491e-01,  9.79887974e-03, -9.33432654e-02,\n",
              "        1.18525386e-01,  2.39338423e-03, -1.19335853e-01,  3.34345214e-02,\n",
              "       -6.76679388e-02,  2.54008155e-02,  9.33397785e-02, -6.46536704e-03,\n",
              "        1.27318827e-02, -1.08383643e-02, -2.81730797e-02, -2.65417732e-02,\n",
              "        9.63292923e-03,  1.24704428e-02, -7.47465715e-02, -5.98607585e-02,\n",
              "        6.42993227e-02, -6.05840206e-01,  5.09906001e-02,  2.67820265e-02,\n",
              "        3.54869477e-03, -7.55574778e-02,  1.57508813e-02, -5.63362092e-02,\n",
              "        5.16551770e-02, -4.13530841e-02,  3.16988234e-03, -1.44100105e-02,\n",
              "       -3.05392547e-03,  7.56058618e-02,  2.96701491e-02,  1.13286702e-02,\n",
              "        6.05231663e-03, -2.55888943e-02, -1.84523091e-02, -7.56847905e-03,\n",
              "       -2.95418617e-03,  5.72218150e-02, -4.92069758e-02, -9.05112028e-02,\n",
              "       -4.60638694e-04, -1.76657699e-02, -5.53475320e-02, -1.46908248e-02,\n",
              "       -4.80177999e-02,  4.69412468e-02,  8.25306699e-02,  1.09812422e-02,\n",
              "       -3.82471122e-02,  1.79597735e-02, -2.12244485e-02, -6.09578751e-02,\n",
              "       -1.05696023e+00,  1.92434229e-02,  8.38324577e-02,  1.94658060e-02,\n",
              "        4.17576550e-04, -6.21743836e-02, -2.41499655e-02, -5.05688926e-03,\n",
              "        7.07567781e-02, -3.77410129e-02, -2.35807654e-02,  1.22691710e-02,\n",
              "        8.00339729e-02, -6.42684661e-03, -3.66110243e-02, -5.42713217e-02,\n",
              "       -7.58983269e-02, -2.86543425e-02, -3.12813558e-02, -7.06110969e-02,\n",
              "       -2.31649745e-02, -2.63922829e-02, -2.35543847e-02,  1.98975448e-02,\n",
              "       -1.01920171e-03, -1.44927666e-01,  2.20382623e-02, -1.26123251e-02,\n",
              "        1.04665831e-01, -1.41013740e-02, -1.01956595e-02, -5.32713681e-02,\n",
              "        8.35882649e-02, -3.84596735e-02, -6.61633462e-02,  3.63608934e-02,\n",
              "       -2.64886785e-02, -1.41162227e-03, -3.77422497e-02, -2.16870774e-02,\n",
              "        1.71464239e-03, -5.10324426e-02, -5.54105602e-02, -3.89649458e-02,\n",
              "       -2.58285869e-02,  2.47758161e-02, -5.23796156e-02, -1.24088610e-02,\n",
              "        4.20333222e-02, -9.71542578e-03, -4.49118800e-02, -1.54263424e-02,\n",
              "       -1.10535309e-01,  5.23257703e-02, -7.85051007e-03,  7.97426552e-02,\n",
              "       -3.47147025e-02, -5.65784834e-02, -1.70752872e-02,  6.45683780e-02,\n",
              "       -3.33574228e-02, -1.19803520e-02, -8.40617046e-02,  1.70486532e-02,\n",
              "        1.06412768e-01,  3.43617313e-02,  3.01486515e-02,  1.13419099e-02,\n",
              "        4.31941357e-03,  1.85703542e-02, -6.77426085e-02,  3.33275599e-03,\n",
              "       -3.70771810e-02, -1.34269804e-01, -4.82906122e-03,  1.35897741e-01,\n",
              "       -3.42356190e-02,  1.96886044e-02, -3.39546725e-02, -3.71993035e-02,\n",
              "        5.22321323e-03,  3.64649715e-03, -3.83122489e-02,  1.53445555e-02,\n",
              "       -3.24276425e-02, -1.25813996e-02, -1.62824560e-02,  7.91613683e-02,\n",
              "        4.46714945e-02,  1.32792424e-02, -9.72202569e-02,  3.75273451e-02,\n",
              "        5.08483239e-02,  6.81760311e-02, -8.01220536e-02, -8.06356817e-02,\n",
              "       -3.79611563e-04, -3.07345819e-02, -8.54675621e-02,  5.25461361e-02,\n",
              "        2.95622144e-02,  5.81066422e-02,  2.24846341e-02,  7.06878304e-02,\n",
              "        9.63317156e-02, -1.21637091e-01, -6.00764118e-02, -8.87510553e-02,\n",
              "       -3.62519361e-02,  1.90028865e-02,  4.35037026e-03, -4.93959375e-02,\n",
              "        2.44000256e-02, -1.39216157e-02,  2.26880573e-02,  1.28540859e-01,\n",
              "        1.19576670e-01, -1.61385757e-03, -2.95355916e-02,  3.09629831e-02,\n",
              "        9.51485708e-02,  1.18416086e-01, -4.86645335e-03,  4.18735035e-02,\n",
              "        8.76188427e-02, -1.33440075e-02, -1.29956333e-02,  1.62598453e-02,\n",
              "        1.55877203e-01, -1.76998507e-02,  2.69910246e-02, -5.38752601e-02,\n",
              "       -9.82070640e-02, -8.31166133e-02, -4.59796116e-02,  3.37096900e-02,\n",
              "        3.35643138e-03,  2.96563376e-02,  2.17899736e-02,  1.60526335e-01,\n",
              "        1.44184709e-01,  9.46412534e-02, -3.46349701e-02, -4.61794809e-02,\n",
              "       -5.54121025e-02, -5.56765758e-02,  1.00037329e-01, -2.61490494e-02,\n",
              "        6.93177655e-02, -6.88479766e-02, -1.20670639e-01,  2.44771838e-02,\n",
              "        3.77886333e-02, -5.69388010e-02,  6.21537305e-02,  1.89950224e-03,\n",
              "       -3.88066284e-04, -3.36037204e-02, -3.45264864e-03,  4.81088832e-02],\n",
              "      dtype=float32),\n",
              "       array([-1.01833204e-02,  7.04110488e-02, -6.05191812e-02, -6.15628175e-02,\n",
              "        5.32524362e-02,  1.21195009e-03,  6.36219420e-03, -1.60591491e-02,\n",
              "        1.03470311e-02,  1.61853373e+00, -1.55757800e-01, -1.70938633e-02,\n",
              "        4.68598753e-02, -3.67024839e-02, -2.99598649e-02, -5.33749871e-02,\n",
              "       -6.05348609e-02,  7.86950290e-01, -1.30671248e-01, -4.75297384e-02,\n",
              "        4.23218422e-02, -9.46979895e-02, -3.76037210e-02, -4.12909240e-02,\n",
              "        5.08566871e-02,  1.00545427e-02, -5.57986572e-02, -3.07535287e-02,\n",
              "       -2.02519912e-02,  3.75975594e-02, -2.36715060e-02,  1.23210594e-01,\n",
              "       -6.00118004e-02,  6.78540766e-02,  6.18199073e-02, -9.35960785e-02,\n",
              "        6.27930695e-03, -1.20156314e-02, -5.69779947e-02, -5.56304790e-02,\n",
              "        2.25010663e-02,  4.74575236e-02,  4.42741066e-03, -5.01995236e-02,\n",
              "        5.64355738e-02,  1.18613783e-02, -4.32778671e-02,  2.12547858e-03,\n",
              "       -1.86675992e-02,  4.00544703e-02, -6.28752168e-03,  2.82046124e-02,\n",
              "       -2.37532388e-02, -3.00290203e-03,  2.94057629e-03,  4.03789617e-02,\n",
              "       -1.57582071e-02, -4.95491698e-02, -3.67518179e-02, -6.58917576e-02,\n",
              "       -3.27894166e-02, -6.57679932e-03, -3.70741561e-02,  1.00580566e-01,\n",
              "        2.18057297e-02, -2.26255208e-02, -4.14056517e-02,  1.49391051e-02,\n",
              "        4.11641691e-03,  2.21576784e-02, -8.90209898e-03,  4.80051115e-02,\n",
              "        6.86837435e-02, -2.36112550e-02,  7.65730813e-02, -3.52812223e-02,\n",
              "       -1.61645822e-02, -2.83327103e-02, -1.41838174e-02,  1.36634097e-01,\n",
              "       -3.05299251e-03,  6.43687546e-02, -8.92030671e-02,  3.18516269e-02,\n",
              "        2.55873408e-02, -1.34384871e-01, -3.73189263e-02, -1.41031444e-01,\n",
              "        5.72141483e-02, -1.82363447e-02, -1.33731589e-01, -2.11852286e-02,\n",
              "       -4.96578477e-02, -5.97434072e-03,  9.73076746e-02,  1.17675541e-02,\n",
              "        2.53757145e-02, -5.23291565e-02, -2.98498780e-03, -1.26917856e-02,\n",
              "        2.87126340e-02,  2.71649240e-03, -5.10986187e-02, -1.42886005e-02,\n",
              "        7.81638920e-02, -6.96058869e-01,  2.47266889e-02,  6.37481064e-02,\n",
              "        1.43321957e-02, -5.97388484e-02, -7.71818776e-03, -6.14548698e-02,\n",
              "        2.55383998e-02, -3.84795927e-02,  2.39611790e-02,  1.57654472e-02,\n",
              "       -3.52284312e-03,  3.81156616e-02, -5.70736714e-02, -8.86189938e-03,\n",
              "        3.89458500e-02, -2.09844783e-02, -8.19798708e-02,  1.35552394e-03,\n",
              "        3.42606776e-03,  3.70929539e-02, -6.94422703e-03, -5.68131767e-02,\n",
              "        6.21219026e-03, -3.43972817e-02, -6.96393326e-02,  3.44986399e-03,\n",
              "       -3.02485172e-02, -4.73158015e-03,  5.04033901e-02,  2.69545559e-02,\n",
              "       -1.24379294e-02,  2.90111580e-04, -6.63126353e-03, -7.90419802e-02,\n",
              "       -9.68825519e-01, -8.91586766e-04,  3.88233103e-02,  5.96901542e-03,\n",
              "        1.73611362e-02, -3.73685956e-02,  2.92183813e-02,  6.17052475e-03,\n",
              "        4.28977609e-02, -3.99026386e-02, -2.80217305e-02, -1.63208600e-02,\n",
              "        5.84680736e-02, -1.93596855e-02, -1.00725964e-02, -3.79657447e-02,\n",
              "       -1.06174603e-01,  6.53389283e-03, -3.96143161e-02, -5.11119328e-03,\n",
              "        3.41673270e-02,  4.37710620e-03, -5.06825708e-02,  5.76338768e-02,\n",
              "       -3.21226120e-02, -1.49435014e-01,  2.46008113e-02, -4.45702747e-02,\n",
              "        1.07156739e-01,  2.82702111e-02,  4.69268253e-03, -3.09014134e-02,\n",
              "        5.79686388e-02, -2.79894210e-02, -2.57278848e-02,  5.73506244e-02,\n",
              "       -3.13011631e-02,  4.95262258e-02, -4.42643883e-03, -1.37047609e-02,\n",
              "        8.78426898e-03, -3.81935239e-02, -6.32003546e-02, -9.02515128e-02,\n",
              "       -6.15751185e-02,  6.04667068e-02, -6.52898848e-02, -2.17585173e-02,\n",
              "        2.28334181e-02, -2.10879259e-02, -4.91656922e-02,  3.89482477e-03,\n",
              "       -1.03468269e-01,  3.31148393e-02,  7.52834603e-03,  8.61875489e-02,\n",
              "        2.75155017e-03, -8.19720030e-02, -1.27070593e-02,  7.55900517e-02,\n",
              "        4.44998359e-03,  2.59715747e-02, -6.01879135e-02,  4.49972376e-02,\n",
              "        9.50160995e-02,  5.12372842e-03,  3.02041862e-02, -2.19059852e-03,\n",
              "       -8.08670558e-03,  2.46299375e-02, -1.51243638e-02,  3.53050604e-02,\n",
              "       -2.45220419e-02, -1.43307537e-01, -1.95767153e-02,  1.16530061e-01,\n",
              "       -3.49908583e-02,  3.54853719e-02, -3.81949097e-02, -1.42559428e-02,\n",
              "       -6.84489636e-03,  1.35939214e-02, -4.61066840e-03,  1.77020319e-02,\n",
              "       -9.44678485e-03, -8.36509652e-03, -1.12518687e-02,  8.19473565e-02,\n",
              "        5.41117154e-02,  2.67341416e-02, -1.02426551e-01, -9.66256391e-03,\n",
              "        1.99073777e-02,  4.56092022e-02, -1.00204274e-01, -7.25010261e-02,\n",
              "        1.44450506e-03,  2.10608449e-03, -8.45557749e-02,  7.73898810e-02,\n",
              "        3.38842571e-02,  4.94190715e-02,  3.94315906e-02,  4.02916856e-02,\n",
              "        1.03746057e-01, -1.13955349e-01, -1.18328352e-02, -8.63126293e-02,\n",
              "       -6.18547052e-02, -5.19061089e-02,  3.75375338e-02, -1.25237915e-03,\n",
              "        3.04720346e-02, -2.33305935e-02,  2.55687255e-02,  1.44252941e-01,\n",
              "        8.50132704e-02,  4.16417941e-02,  1.60755422e-02, -2.64812261e-02,\n",
              "        7.25904331e-02,  8.40086788e-02, -2.23223008e-02,  8.07660446e-02,\n",
              "        4.94244881e-02, -9.08072069e-02,  2.94430722e-02,  2.52050944e-02,\n",
              "        1.98217973e-01, -1.72329284e-02,  1.19686490e-02, -1.87265053e-02,\n",
              "       -5.04183769e-02, -4.22650874e-02,  7.41726346e-03,  1.45773608e-02,\n",
              "        2.74630040e-02,  4.08408567e-02,  1.38958553e-02,  1.36885121e-01,\n",
              "        7.87260979e-02,  9.05813128e-02, -4.80451174e-02, -2.44365558e-02,\n",
              "       -1.36090582e-02, -6.85649142e-02,  8.37236941e-02, -3.25667970e-02,\n",
              "        9.27232727e-02, -9.35989320e-02, -1.12059809e-01,  3.29670236e-02,\n",
              "       -1.83657054e-02, -1.03162035e-01,  5.19464128e-02, -1.50447888e-02,\n",
              "        2.55692136e-02, -2.51958538e-02, -2.28114463e-02,  4.75387983e-02],\n",
              "      dtype=float32),\n",
              "       array([ 1.74814404e-03,  1.01025648e-01, -1.07860535e-01, -4.33342829e-02,\n",
              "        4.97208424e-02, -6.88127754e-03,  7.94102531e-03, -1.03464425e-01,\n",
              "       -7.54494453e-03,  1.69987833e+00, -9.16974396e-02,  1.93926059e-02,\n",
              "        4.70695011e-02, -4.77006249e-02, -7.51761049e-02, -6.79645017e-02,\n",
              "       -3.64881866e-02,  7.19550490e-01, -1.41950041e-01, -4.76324596e-02,\n",
              "       -1.50287906e-02, -7.04347044e-02, -1.12629458e-02, -2.37247832e-02,\n",
              "        3.31657454e-02,  1.56988036e-02, -5.25432304e-02, -7.46054947e-02,\n",
              "       -1.92153100e-02, -4.76009585e-02, -5.82613461e-02,  8.17304626e-02,\n",
              "       -3.78231592e-02,  6.08249940e-02,  2.87460033e-02, -7.70749748e-02,\n",
              "       -7.70941516e-03, -6.03486178e-03, -8.80263224e-02, -9.95332897e-02,\n",
              "        1.69273131e-02,  4.94894534e-02,  2.22680741e-03, -4.16355282e-02,\n",
              "        6.83573857e-02,  5.54347262e-02, -1.10077679e-01, -3.59612219e-02,\n",
              "       -1.34835895e-02,  2.49306113e-02, -2.04485264e-02,  3.07626687e-02,\n",
              "       -3.46983112e-02,  1.08846836e-02,  4.20475602e-02,  1.59754381e-02,\n",
              "       -2.91630737e-02, -8.73568654e-02,  2.09187511e-02, -6.52337149e-02,\n",
              "       -8.66763201e-03, -3.60399820e-02, -3.86708491e-02,  1.26801163e-01,\n",
              "        4.61619683e-02, -6.99496269e-02, -2.00200379e-02,  1.71185415e-02,\n",
              "        3.13158333e-02,  4.75968644e-02,  5.34198210e-02,  4.16522957e-02,\n",
              "        1.01280183e-01, -9.16804001e-03,  2.19330695e-02,  7.74471462e-03,\n",
              "        4.27723601e-02, -6.42805919e-02, -4.95009124e-02,  1.34632230e-01,\n",
              "        8.68123490e-03,  5.41990772e-02, -1.11666225e-01,  4.31540393e-04,\n",
              "        3.60208340e-02, -1.18820086e-01,  3.68125960e-02, -1.35671347e-01,\n",
              "        1.10911041e-01, -6.15206966e-03, -1.09029859e-01,  4.05946141e-03,\n",
              "       -6.15594350e-02,  3.15909795e-02,  9.81174186e-02, -1.04596457e-02,\n",
              "        5.13105467e-02, -2.33069677e-02, -2.11261641e-02,  2.82359682e-03,\n",
              "       -3.06217070e-03,  1.35420291e-02, -5.74045889e-02, -6.18840083e-02,\n",
              "        5.62961027e-02, -6.44184589e-01,  3.79718505e-02,  4.66439454e-03,\n",
              "       -1.11399796e-02, -5.83333783e-02, -4.74769762e-03, -9.99610499e-02,\n",
              "        3.88581082e-02, -4.22228798e-02,  1.82751752e-02,  2.60408898e-03,\n",
              "       -7.54674897e-03,  6.57806844e-02, -4.81336517e-03,  2.13592616e-03,\n",
              "        1.20389126e-02, -4.95578237e-02,  3.57473711e-03, -1.56343281e-02,\n",
              "        1.34427110e-02,  6.10860847e-02, -7.13010281e-02, -1.38875842e-01,\n",
              "       -1.76759791e-02, -2.20006257e-02, -3.56501676e-02,  4.65661613e-03,\n",
              "       -6.31102026e-02,  3.02489102e-02,  1.00245692e-01,  1.28725860e-02,\n",
              "       -1.65600553e-02, -4.39021736e-03, -2.30498728e-03, -6.01359643e-02,\n",
              "       -1.11909533e+00,  4.14973907e-02,  9.93622094e-02,  3.04031484e-02,\n",
              "        2.42682286e-02, -6.99138716e-02, -6.09279163e-02,  2.30396679e-03,\n",
              "        6.92876801e-02, -5.10180630e-02, -3.99600007e-02,  1.29719032e-02,\n",
              "        6.87776580e-02, -1.10170804e-02, -3.81072983e-02, -5.18339276e-02,\n",
              "       -9.11986530e-02, -1.04062743e-02, -3.05656102e-02, -8.12259689e-02,\n",
              "       -1.57982539e-02, -1.31993843e-02, -2.09323689e-02, -1.04807466e-02,\n",
              "       -3.44004221e-02, -1.25619873e-01,  1.54807391e-02, -3.30833867e-02,\n",
              "        1.15122013e-01, -1.53525546e-02,  1.28468999e-03, -5.43697439e-02,\n",
              "        6.13875054e-02, -7.32795298e-02, -6.28772974e-02,  1.90833192e-02,\n",
              "       -1.85568277e-02,  1.38249481e-02, -4.25657034e-02, -3.11604533e-02,\n",
              "        4.75348346e-03, -4.12375219e-02, -7.87947550e-02, -5.02807200e-02,\n",
              "       -4.32217456e-02, -7.54574174e-03, -7.23322183e-02, -1.29612964e-02,\n",
              "        3.15635800e-02,  2.21279617e-02, -2.76688542e-02, -8.08837079e-03,\n",
              "       -1.14887133e-01,  4.56354395e-02,  1.78575665e-02,  6.92392141e-02,\n",
              "       -1.27956076e-02, -7.42332190e-02, -2.15024557e-02,  8.52796212e-02,\n",
              "       -2.86410730e-02, -1.41212968e-02, -7.67409354e-02,  2.14371961e-02,\n",
              "        1.14684515e-01,  5.01682386e-02,  3.18519846e-02, -2.05530945e-04,\n",
              "        3.76590602e-02,  8.60370137e-03, -4.84141447e-02, -8.77709780e-03,\n",
              "       -6.38028467e-03, -1.36035919e-01,  1.39604257e-02,  1.33368582e-01,\n",
              "       -1.50215123e-02,  4.81669046e-03, -7.43331686e-02, -3.43888737e-02,\n",
              "        1.62075856e-03,  8.24611448e-03, -2.66212840e-02,  3.07485405e-02,\n",
              "        8.80316307e-04, -1.78564704e-04,  5.00944955e-03,  9.81401578e-02,\n",
              "        3.35448049e-02,  6.50729658e-03, -1.08014338e-01,  4.01672311e-02,\n",
              "        5.95405586e-02,  7.38510340e-02, -5.64314201e-02, -8.62597749e-02,\n",
              "        1.17675122e-02, -4.48966995e-02, -8.31104666e-02,  7.21585080e-02,\n",
              "        3.02882697e-02,  5.81148714e-02,  1.50545118e-02,  9.19284821e-02,\n",
              "        8.91536325e-02, -1.37289688e-01, -4.94484715e-02, -7.12034926e-02,\n",
              "       -5.78199700e-02,  6.71056435e-02,  2.23157834e-02, -6.82883114e-02,\n",
              "       -7.88702630e-03, -3.12336739e-02,  2.50442270e-02,  1.11779988e-01,\n",
              "        1.11952379e-01,  1.06503740e-02, -9.19005368e-03,  2.35440247e-02,\n",
              "        1.30202532e-01,  1.03553474e-01, -8.65206681e-03,  5.69884889e-02,\n",
              "        8.79796967e-02, -1.05594015e-02, -3.32601659e-04,  3.28241475e-02,\n",
              "        2.00397819e-01,  1.29695106e-02,  8.09168145e-02, -3.30304950e-02,\n",
              "       -9.67004746e-02, -1.04951054e-01, -4.25690599e-02,  5.03529422e-02,\n",
              "        1.40733598e-02,  1.62177049e-02,  3.62134129e-02,  1.69175461e-01,\n",
              "        1.11925423e-01,  8.47938731e-02, -3.32960039e-02, -5.14647774e-02,\n",
              "       -2.52463669e-02, -6.31469563e-02,  6.23717420e-02, -4.24194187e-02,\n",
              "        8.51361156e-02, -6.15658350e-02, -1.14569694e-01,  1.77869722e-02,\n",
              "        1.20188920e-02, -6.43000677e-02,  6.10689409e-02,  1.84119511e-02,\n",
              "       -3.71643156e-02, -4.33006883e-02,  1.54973445e-02,  5.29712886e-02],\n",
              "      dtype=float32)], dtype=object)"
            ]
          },
          "metadata": {
            "tags": []
          },
          "execution_count": 28
        }
      ]
    },
    {
      "cell_type": "code",
      "metadata": {
        "id": "1HNPgZVccIOY",
        "outputId": "2dc86c4f-6eda-4c03-d8e2-2630d64fe967",
        "colab": {
          "base_uri": "https://localhost:8080/"
        }
      },
      "source": [
        "X[0].shape"
      ],
      "execution_count": 31,
      "outputs": [
        {
          "output_type": "execute_result",
          "data": {
            "text/plain": [
              "(300,)"
            ]
          },
          "metadata": {
            "tags": []
          },
          "execution_count": 31
        }
      ]
    },
    {
      "cell_type": "code",
      "metadata": {
        "id": "vy1MOC8RcdCM"
      },
      "source": [
        "X = X.reshape(-1, 1)"
      ],
      "execution_count": 32,
      "outputs": []
    },
    {
      "cell_type": "code",
      "metadata": {
        "id": "FrO8HIoXcdEu"
      },
      "source": [
        "X = np.concatenate(np.concatenate(X, axis = 0), axis = 0).reshape(-1, 300)"
      ],
      "execution_count": 33,
      "outputs": []
    },
    {
      "cell_type": "code",
      "metadata": {
        "id": "BQTy_tQKcdOd",
        "outputId": "e7690b64-3283-4b5e-a581-9e5b0a0fc5a0",
        "colab": {
          "base_uri": "https://localhost:8080/"
        }
      },
      "source": [
        "X.shape"
      ],
      "execution_count": 34,
      "outputs": [
        {
          "output_type": "execute_result",
          "data": {
            "text/plain": [
              "(2000, 300)"
            ]
          },
          "metadata": {
            "tags": []
          },
          "execution_count": 34
        }
      ]
    },
    {
      "cell_type": "code",
      "metadata": {
        "id": "L1fSAwXucdUI"
      },
      "source": [
        "y = df['label']"
      ],
      "execution_count": 35,
      "outputs": []
    },
    {
      "cell_type": "code",
      "metadata": {
        "id": "rPT8pf2PcdlM"
      },
      "source": [
        "X_train, X_test, y_train, y_test = train_test_split(X, y, test_size = 0.2, random_state = 0, stratify = y)"
      ],
      "execution_count": 36,
      "outputs": []
    },
    {
      "cell_type": "code",
      "metadata": {
        "id": "WQWbhQ_Rcdpo",
        "outputId": "a7bfb664-5b0f-4ad7-a64a-25781e6d3efa",
        "colab": {
          "base_uri": "https://localhost:8080/"
        }
      },
      "source": [
        "X_train.shape, X_test.shape"
      ],
      "execution_count": 37,
      "outputs": [
        {
          "output_type": "execute_result",
          "data": {
            "text/plain": [
              "((1600, 300), (400, 300))"
            ]
          },
          "metadata": {
            "tags": []
          },
          "execution_count": 37
        }
      ]
    },
    {
      "cell_type": "code",
      "metadata": {
        "id": "cuUXjFWHcd11"
      },
      "source": [
        "clf = LogisticRegression(solver='liblinear')"
      ],
      "execution_count": 38,
      "outputs": []
    },
    {
      "cell_type": "code",
      "metadata": {
        "id": "QTCtjxFScd8h",
        "outputId": "87213443-8785-4c93-dc5b-01f88db9ad88",
        "colab": {
          "base_uri": "https://localhost:8080/"
        }
      },
      "source": [
        "clf.fit(X_train, y_train)"
      ],
      "execution_count": 39,
      "outputs": [
        {
          "output_type": "execute_result",
          "data": {
            "text/plain": [
              "LogisticRegression(C=1.0, class_weight=None, dual=False, fit_intercept=True,\n",
              "                   intercept_scaling=1, l1_ratio=None, max_iter=100,\n",
              "                   multi_class='auto', n_jobs=None, penalty='l2',\n",
              "                   random_state=None, solver='liblinear', tol=0.0001, verbose=0,\n",
              "                   warm_start=False)"
            ]
          },
          "metadata": {
            "tags": []
          },
          "execution_count": 39
        }
      ]
    },
    {
      "cell_type": "code",
      "metadata": {
        "id": "IVfFPsoAceCn"
      },
      "source": [
        "y_pred = clf.predict(X_test)"
      ],
      "execution_count": 40,
      "outputs": []
    },
    {
      "cell_type": "code",
      "metadata": {
        "id": "kHkytbtecd6b",
        "outputId": "dbf51167-e37b-4f91-8324-ea6612248447",
        "colab": {
          "base_uri": "https://localhost:8080/"
        }
      },
      "source": [
        "print(classification_report(y_test, y_pred))"
      ],
      "execution_count": 41,
      "outputs": [
        {
          "output_type": "stream",
          "text": [
            "              precision    recall  f1-score   support\n",
            "\n",
            "         neg       0.70      0.73      0.72       200\n",
            "         pos       0.72      0.69      0.70       200\n",
            "\n",
            "    accuracy                           0.71       400\n",
            "   macro avg       0.71      0.71      0.71       400\n",
            "weighted avg       0.71      0.71      0.71       400\n",
            "\n"
          ],
          "name": "stdout"
        }
      ]
    },
    {
      "cell_type": "code",
      "metadata": {
        "id": "wLp_CMeLcd0e",
        "outputId": "fe773043-5ac4-469a-f17c-774458463b77",
        "colab": {
          "base_uri": "https://localhost:8080/"
        }
      },
      "source": [
        "x = 'this was really not good movie'\n",
        "\n",
        "x = get_clean(x)\n",
        "vec = get_vec(x)\n",
        "vec"
      ],
      "execution_count": 50,
      "outputs": [
        {
          "output_type": "execute_result",
          "data": {
            "text/plain": [
              "array([-1.29187718e-01,  3.14584255e-01, -1.20649971e-01, -9.64514390e-02,\n",
              "       -6.46328507e-03, -5.70899900e-03,  1.17288575e-01, -3.04328591e-01,\n",
              "       -6.50937110e-02,  2.25682855e+00, -8.18968415e-02,  4.66565751e-02,\n",
              "        5.22202812e-02,  4.42021824e-02, -2.07592726e-01, -2.19594359e-01,\n",
              "       -1.10457562e-01,  9.05669987e-01, -1.41626433e-01,  3.44328545e-02,\n",
              "       -2.10304298e-02, -1.61171436e-01,  6.21447153e-02, -2.96129566e-02,\n",
              "       -1.69579946e-02,  9.51568559e-02, -6.06160238e-02, -1.36538431e-01,\n",
              "       -4.35728505e-02, -1.36765152e-01, -8.03067088e-02,  8.56900364e-02,\n",
              "        1.03745714e-01, -8.47771391e-02, -1.01383142e-01, -4.15026620e-02,\n",
              "        3.15305032e-02, -8.60732794e-02, -1.44480035e-01, -2.30154008e-01,\n",
              "        8.47409964e-02,  2.19354272e-01,  7.47029334e-02, -4.51282859e-02,\n",
              "        1.52660012e-01,  1.36660576e-01, -2.05795690e-01, -1.13291144e-01,\n",
              "       -1.38996139e-01,  2.48427149e-02, -1.53937578e-01,  1.68745995e-01,\n",
              "        9.55856289e-04,  4.88800462e-03,  2.52640009e-01,  4.65889983e-02,\n",
              "        7.44837103e-03, -1.44956008e-01,  1.38846859e-01, -1.26396999e-01,\n",
              "       -9.25273970e-02, -2.19622865e-01, -6.69590086e-02,  2.70994276e-01,\n",
              "        6.22198544e-02, -2.29796857e-01, -6.73186108e-02, -8.20042938e-03,\n",
              "       -3.15099955e-03,  2.54834313e-02,  9.13718417e-02,  1.49037138e-01,\n",
              "        1.01890288e-01, -1.34531289e-01,  6.40032813e-02, -3.01799900e-03,\n",
              "        2.73119975e-02, -4.47434261e-02, -2.23827153e-01,  4.14272845e-01,\n",
              "        7.92784318e-02,  1.96212865e-02, -1.81882884e-02,  1.00519948e-01,\n",
              "        1.61475152e-01, -2.76958555e-01,  1.38077596e-02, -3.27772856e-01,\n",
              "        2.01221436e-01, -1.17294140e-01, -1.10233851e-01,  1.20091856e-01,\n",
              "       -2.37440005e-01,  1.45126298e-01,  2.72803426e-01, -4.27092873e-02,\n",
              "        6.39211386e-02, -1.43988997e-01,  7.71131441e-02,  1.12296619e-01,\n",
              "       -3.50202881e-02,  3.53622884e-02, -1.82255998e-01, -5.78787141e-02,\n",
              "        1.31312430e-01, -6.41168594e-01,  1.14747118e-02, -2.06635762e-02,\n",
              "       -4.00042869e-02, -6.52354360e-02, -2.51857098e-02, -1.55237436e-01,\n",
              "       -3.04335710e-02, -7.41434246e-02, -3.14832851e-02,  5.67714032e-03,\n",
              "       -6.30349442e-02,  4.14571166e-03, -1.96027160e-02, -1.37948573e-01,\n",
              "       -4.94410321e-02,  5.04420064e-02,  5.83471470e-02, -7.79374316e-02,\n",
              "       -4.54558665e-03,  1.52461007e-01, -1.40083671e-01, -4.77790028e-01,\n",
              "        1.91537160e-02, -7.38214254e-02,  8.01442843e-03, -1.01476856e-01,\n",
              "       -1.18278272e-01,  9.56978649e-02,  1.25918299e-01, -7.50464424e-02,\n",
              "       -7.88931996e-02, -8.96665677e-02,  9.40826312e-02, -1.28960714e-01,\n",
              "       -1.37833703e+00,  2.30907157e-01,  3.28357160e-01,  1.04291432e-01,\n",
              "        4.17878591e-02, -2.89819986e-01, -1.49687737e-01, -6.58501461e-02,\n",
              "        2.29777858e-01, -2.96758544e-02, -1.19187430e-01,  3.73805724e-02,\n",
              "        1.12771578e-01, -4.90037128e-02,  1.44911616e-03, -6.44470900e-02,\n",
              "       -1.87778130e-01, -1.12345152e-01, -8.61425772e-02, -1.50207862e-01,\n",
              "       -7.87272900e-02, -6.22841908e-05,  2.26538572e-02, -3.11635751e-02,\n",
              "       -9.21101719e-02, -2.07211420e-01,  3.67041454e-02, -1.14405312e-01,\n",
              "        1.58648148e-01, -9.27224308e-02,  4.21148445e-03,  4.56284208e-04,\n",
              "        1.66826144e-01, -1.83709860e-01, -1.42508239e-01,  6.46207184e-02,\n",
              "       -2.53377147e-02,  1.21145714e-02, -1.61558781e-02,  4.18192819e-02,\n",
              "       -3.14142853e-02, -8.52447152e-02, -2.23937139e-01, -9.76848602e-02,\n",
              "       -1.51396587e-01, -1.69007152e-01, -1.68867856e-01, -1.04639996e-02,\n",
              "        7.73056373e-02,  4.27759998e-02, -7.20207170e-02,  5.46025746e-02,\n",
              "       -2.90784508e-01,  1.36524707e-01,  1.24405697e-01,  1.10710010e-01,\n",
              "        7.05917999e-02, -1.73980996e-01,  1.58879280e-01,  1.91483289e-01,\n",
              "       -2.00515222e-02, -2.87678745e-02, -1.65565416e-01,  5.20032905e-02,\n",
              "        1.17462859e-01,  9.16908607e-02, -6.10625669e-02,  1.50311291e-02,\n",
              "        1.56925157e-01,  4.64295745e-02, -6.69527873e-02,  1.97239555e-02,\n",
              "        1.08924560e-01, -3.26807559e-01,  8.17321539e-02,  1.77835271e-01,\n",
              "        6.21285522e-03,  1.68162864e-02, -1.74929842e-01, -6.93257079e-02,\n",
              "       -3.57758589e-02,  2.10765731e-02, -7.71242799e-03,  1.45652011e-01,\n",
              "        1.16891436e-01, -8.29507113e-02, -4.83128615e-02,  1.73803002e-01,\n",
              "        7.09871436e-03, -8.04442819e-03, -1.08436570e-01,  1.19680576e-01,\n",
              "        5.34303151e-02,  7.69289881e-02,  2.44506933e-02, -1.42584071e-01,\n",
              "        9.08620730e-02, -2.25570872e-01, -1.50592297e-01,  1.49869442e-01,\n",
              "        2.63444297e-02, -4.16625710e-03, -1.67739969e-02,  2.20367149e-01,\n",
              "        9.63973254e-02, -1.88688591e-01, -1.34572789e-01, -2.34581426e-01,\n",
              "       -1.28713890e-03,  1.30968004e-01,  5.50611205e-02, -1.17265418e-01,\n",
              "       -9.46600083e-03, -8.10587183e-02, -4.99508567e-02, -2.80558597e-02,\n",
              "        2.14300990e-01, -1.58435717e-01,  1.55577138e-02,  8.99429992e-02,\n",
              "        2.50737131e-01,  1.32874280e-01,  2.64557134e-02,  1.16909996e-01,\n",
              "        8.23361874e-02,  9.77921486e-02,  8.77761319e-02,  1.87734410e-01,\n",
              "        4.09491450e-01,  1.54089123e-01,  1.04941562e-01,  3.56278233e-02,\n",
              "       -2.55436450e-01, -3.03497136e-01, -1.38103411e-01,  5.93794286e-02,\n",
              "        7.81016573e-02, -9.31574255e-02,  8.97300094e-02,  3.25653017e-01,\n",
              "        2.03402147e-01,  2.50444282e-02,  6.80801598e-03, -9.05613154e-02,\n",
              "       -6.82914928e-02, -3.55625711e-02,  7.09694326e-02,  1.22585788e-03,\n",
              "        1.91987425e-01, -7.04347119e-02, -1.43517718e-01,  1.82854272e-02,\n",
              "       -3.20237167e-02, -9.57044289e-02,  2.86475718e-01,  6.94145709e-02,\n",
              "       -7.77574256e-02, -1.29857138e-01, -4.00971528e-03,  1.25662223e-01],\n",
              "      dtype=float32)"
            ]
          },
          "metadata": {
            "tags": []
          },
          "execution_count": 50
        }
      ]
    },
    {
      "cell_type": "code",
      "metadata": {
        "id": "FBgLDbKjcdkG",
        "outputId": "b58c067e-80cd-4b80-b2b7-3d8a206b93f1",
        "colab": {
          "base_uri": "https://localhost:8080/"
        }
      },
      "source": [
        "clf.predict(vec.reshape(1, -1))"
      ],
      "execution_count": 51,
      "outputs": [
        {
          "output_type": "execute_result",
          "data": {
            "text/plain": [
              "array(['neg'], dtype=object)"
            ]
          },
          "metadata": {
            "tags": []
          },
          "execution_count": 51
        }
      ]
    },
    {
      "cell_type": "code",
      "metadata": {
        "id": "TlMCy0CGcdg8",
        "outputId": "54f4cf53-74be-4eab-f061-4281c4757110",
        "colab": {
          "base_uri": "https://localhost:8080/",
          "height": 35
        }
      },
      "source": [
        "x"
      ],
      "execution_count": 52,
      "outputs": [
        {
          "output_type": "execute_result",
          "data": {
            "application/vnd.google.colaboratory.intrinsic+json": {
              "type": "string"
            },
            "text/plain": [
              "'this was really not good movthat is'"
            ]
          },
          "metadata": {
            "tags": []
          },
          "execution_count": 52
        }
      ]
    },
    {
      "cell_type": "code",
      "metadata": {
        "id": "MSgfbh6ocdeN",
        "outputId": "04cfe89e-13de-40f3-dab2-272697f74171",
        "colab": {
          "base_uri": "https://localhost:8080/"
        }
      },
      "source": [
        "X=df['vec']\n",
        "X"
      ],
      "execution_count": 54,
      "outputs": [
        {
          "output_type": "execute_result",
          "data": {
            "text/plain": [
              "0       [-0.015827669, 0.05839573, -0.092009455, -0.02...\n",
              "1       [-0.021148004, 0.102309465, -0.10911923, -0.02...\n",
              "2       [0.006780249, 0.083718695, -0.06633399, -0.010...\n",
              "3       [0.022122996, 0.06091805, -0.038373444, -0.032...\n",
              "4       [0.012009544, 0.074697584, -0.087078236, -0.02...\n",
              "                              ...                        \n",
              "1995    [-0.013769619, 0.13061012, -0.113086306, -0.02...\n",
              "1996    [-0.02267098, 0.08248649, -0.113758214, -0.027...\n",
              "1997    [-0.0024808838, 0.08896434, -0.0863523, -0.038...\n",
              "1998    [-0.01018332, 0.07041105, -0.06051918, -0.0615...\n",
              "1999    [0.001748144, 0.10102565, -0.107860535, -0.043...\n",
              "Name: vec, Length: 2000, dtype: object"
            ]
          },
          "metadata": {
            "tags": []
          },
          "execution_count": 54
        }
      ]
    },
    {
      "cell_type": "code",
      "metadata": {
        "id": "Mi6xvXmYcda5"
      },
      "source": [
        "y = df['label']"
      ],
      "execution_count": 55,
      "outputs": []
    },
    {
      "cell_type": "code",
      "metadata": {
        "id": "dai5zHNkcdKc"
      },
      "source": [
        "# DL approach"
      ],
      "execution_count": null,
      "outputs": []
    },
    {
      "cell_type": "code",
      "metadata": {
        "id": "9VAjtbalcdIo",
        "outputId": "2fd08d45-449d-4762-c501-051d6bc7b14a",
        "colab": {
          "base_uri": "https://localhost:8080/"
        }
      },
      "source": [
        "!pip install tensorflow==2.2"
      ],
      "execution_count": 60,
      "outputs": [
        {
          "output_type": "stream",
          "text": [
            "Collecting tensorflow==2.2\n",
            "\u001b[?25l  Downloading https://files.pythonhosted.org/packages/3d/be/679ce5254a8c8d07470efb4a4c00345fae91f766e64f1c2aece8796d7218/tensorflow-2.2.0-cp36-cp36m-manylinux2010_x86_64.whl (516.2MB)\n",
            "\u001b[K     |████████████████████████████████| 516.2MB 28kB/s \n",
            "\u001b[?25hRequirement already satisfied: termcolor>=1.1.0 in /usr/local/lib/python3.6/dist-packages (from tensorflow==2.2) (1.1.0)\n",
            "Requirement already satisfied: h5py<2.11.0,>=2.10.0 in /usr/local/lib/python3.6/dist-packages (from tensorflow==2.2) (2.10.0)\n",
            "Requirement already satisfied: protobuf>=3.8.0 in /usr/local/lib/python3.6/dist-packages (from tensorflow==2.2) (3.12.4)\n",
            "Collecting tensorflow-estimator<2.3.0,>=2.2.0\n",
            "\u001b[?25l  Downloading https://files.pythonhosted.org/packages/a4/f5/926ae53d6a226ec0fda5208e0e581cffed895ccc89e36ba76a8e60895b78/tensorflow_estimator-2.2.0-py2.py3-none-any.whl (454kB)\n",
            "\u001b[K     |████████████████████████████████| 460kB 36.7MB/s \n",
            "\u001b[?25hRequirement already satisfied: opt-einsum>=2.3.2 in /usr/local/lib/python3.6/dist-packages (from tensorflow==2.2) (3.3.0)\n",
            "Requirement already satisfied: keras-preprocessing>=1.1.0 in /usr/local/lib/python3.6/dist-packages (from tensorflow==2.2) (1.1.2)\n",
            "Requirement already satisfied: numpy<2.0,>=1.16.0 in /usr/local/lib/python3.6/dist-packages (from tensorflow==2.2) (1.18.5)\n",
            "Requirement already satisfied: astunparse==1.6.3 in /usr/local/lib/python3.6/dist-packages (from tensorflow==2.2) (1.6.3)\n",
            "Collecting tensorboard<2.3.0,>=2.2.0\n",
            "\u001b[?25l  Downloading https://files.pythonhosted.org/packages/1d/74/0a6fcb206dcc72a6da9a62dd81784bfdbff5fedb099982861dc2219014fb/tensorboard-2.2.2-py3-none-any.whl (3.0MB)\n",
            "\u001b[K     |████████████████████████████████| 3.0MB 44.0MB/s \n",
            "\u001b[?25hRequirement already satisfied: gast==0.3.3 in /usr/local/lib/python3.6/dist-packages (from tensorflow==2.2) (0.3.3)\n",
            "Requirement already satisfied: wrapt>=1.11.1 in /usr/local/lib/python3.6/dist-packages (from tensorflow==2.2) (1.12.1)\n",
            "Requirement already satisfied: six>=1.12.0 in /usr/local/lib/python3.6/dist-packages (from tensorflow==2.2) (1.15.0)\n",
            "Requirement already satisfied: wheel>=0.26; python_version >= \"3\" in /usr/local/lib/python3.6/dist-packages (from tensorflow==2.2) (0.35.1)\n",
            "Requirement already satisfied: scipy==1.4.1; python_version >= \"3\" in /usr/local/lib/python3.6/dist-packages (from tensorflow==2.2) (1.4.1)\n",
            "Requirement already satisfied: google-pasta>=0.1.8 in /usr/local/lib/python3.6/dist-packages (from tensorflow==2.2) (0.2.0)\n",
            "Requirement already satisfied: grpcio>=1.8.6 in /usr/local/lib/python3.6/dist-packages (from tensorflow==2.2) (1.33.2)\n",
            "Requirement already satisfied: absl-py>=0.7.0 in /usr/local/lib/python3.6/dist-packages (from tensorflow==2.2) (0.10.0)\n",
            "Requirement already satisfied: setuptools in /usr/local/lib/python3.6/dist-packages (from protobuf>=3.8.0->tensorflow==2.2) (50.3.2)\n",
            "Requirement already satisfied: google-auth<2,>=1.6.3 in /usr/local/lib/python3.6/dist-packages (from tensorboard<2.3.0,>=2.2.0->tensorflow==2.2) (1.17.2)\n",
            "Requirement already satisfied: markdown>=2.6.8 in /usr/local/lib/python3.6/dist-packages (from tensorboard<2.3.0,>=2.2.0->tensorflow==2.2) (3.3.3)\n",
            "Requirement already satisfied: werkzeug>=0.11.15 in /usr/local/lib/python3.6/dist-packages (from tensorboard<2.3.0,>=2.2.0->tensorflow==2.2) (1.0.1)\n",
            "Requirement already satisfied: requests<3,>=2.21.0 in /usr/local/lib/python3.6/dist-packages (from tensorboard<2.3.0,>=2.2.0->tensorflow==2.2) (2.23.0)\n",
            "Requirement already satisfied: tensorboard-plugin-wit>=1.6.0 in /usr/local/lib/python3.6/dist-packages (from tensorboard<2.3.0,>=2.2.0->tensorflow==2.2) (1.7.0)\n",
            "Requirement already satisfied: google-auth-oauthlib<0.5,>=0.4.1 in /usr/local/lib/python3.6/dist-packages (from tensorboard<2.3.0,>=2.2.0->tensorflow==2.2) (0.4.2)\n",
            "Requirement already satisfied: cachetools<5.0,>=2.0.0 in /usr/local/lib/python3.6/dist-packages (from google-auth<2,>=1.6.3->tensorboard<2.3.0,>=2.2.0->tensorflow==2.2) (4.1.1)\n",
            "Requirement already satisfied: pyasn1-modules>=0.2.1 in /usr/local/lib/python3.6/dist-packages (from google-auth<2,>=1.6.3->tensorboard<2.3.0,>=2.2.0->tensorflow==2.2) (0.2.8)\n",
            "Requirement already satisfied: rsa<5,>=3.1.4; python_version >= \"3\" in /usr/local/lib/python3.6/dist-packages (from google-auth<2,>=1.6.3->tensorboard<2.3.0,>=2.2.0->tensorflow==2.2) (4.6)\n",
            "Requirement already satisfied: importlib-metadata; python_version < \"3.8\" in /usr/local/lib/python3.6/dist-packages (from markdown>=2.6.8->tensorboard<2.3.0,>=2.2.0->tensorflow==2.2) (2.0.0)\n",
            "Requirement already satisfied: certifi>=2017.4.17 in /usr/local/lib/python3.6/dist-packages (from requests<3,>=2.21.0->tensorboard<2.3.0,>=2.2.0->tensorflow==2.2) (2020.6.20)\n",
            "Requirement already satisfied: urllib3!=1.25.0,!=1.25.1,<1.26,>=1.21.1 in /usr/local/lib/python3.6/dist-packages (from requests<3,>=2.21.0->tensorboard<2.3.0,>=2.2.0->tensorflow==2.2) (1.24.3)\n",
            "Requirement already satisfied: chardet<4,>=3.0.2 in /usr/local/lib/python3.6/dist-packages (from requests<3,>=2.21.0->tensorboard<2.3.0,>=2.2.0->tensorflow==2.2) (3.0.4)\n",
            "Requirement already satisfied: idna<3,>=2.5 in /usr/local/lib/python3.6/dist-packages (from requests<3,>=2.21.0->tensorboard<2.3.0,>=2.2.0->tensorflow==2.2) (2.10)\n",
            "Requirement already satisfied: requests-oauthlib>=0.7.0 in /usr/local/lib/python3.6/dist-packages (from google-auth-oauthlib<0.5,>=0.4.1->tensorboard<2.3.0,>=2.2.0->tensorflow==2.2) (1.3.0)\n",
            "Requirement already satisfied: pyasn1<0.5.0,>=0.4.6 in /usr/local/lib/python3.6/dist-packages (from pyasn1-modules>=0.2.1->google-auth<2,>=1.6.3->tensorboard<2.3.0,>=2.2.0->tensorflow==2.2) (0.4.8)\n",
            "Requirement already satisfied: zipp>=0.5 in /usr/local/lib/python3.6/dist-packages (from importlib-metadata; python_version < \"3.8\"->markdown>=2.6.8->tensorboard<2.3.0,>=2.2.0->tensorflow==2.2) (3.4.0)\n",
            "Requirement already satisfied: oauthlib>=3.0.0 in /usr/local/lib/python3.6/dist-packages (from requests-oauthlib>=0.7.0->google-auth-oauthlib<0.5,>=0.4.1->tensorboard<2.3.0,>=2.2.0->tensorflow==2.2) (3.1.0)\n",
            "Installing collected packages: tensorflow-estimator, tensorboard, tensorflow\n",
            "  Found existing installation: tensorflow-estimator 2.3.0\n",
            "    Uninstalling tensorflow-estimator-2.3.0:\n",
            "      Successfully uninstalled tensorflow-estimator-2.3.0\n",
            "  Found existing installation: tensorboard 2.3.0\n",
            "    Uninstalling tensorboard-2.3.0:\n",
            "      Successfully uninstalled tensorboard-2.3.0\n",
            "  Found existing installation: tensorflow 2.3.0\n",
            "    Uninstalling tensorflow-2.3.0:\n",
            "      Successfully uninstalled tensorflow-2.3.0\n",
            "Successfully installed tensorboard-2.2.2 tensorflow-2.2.0 tensorflow-estimator-2.2.0\n"
          ],
          "name": "stdout"
        }
      ]
    },
    {
      "cell_type": "code",
      "metadata": {
        "id": "lgDG6ScThlUP",
        "outputId": "87a80597-1c19-4d0c-c865-a10a863bd685",
        "colab": {
          "base_uri": "https://localhost:8080/"
        }
      },
      "source": [
        "import tensorflow as tf\n",
        "print(tf.__version__)"
      ],
      "execution_count": 61,
      "outputs": [
        {
          "output_type": "stream",
          "text": [
            "2.2.0\n"
          ],
          "name": "stdout"
        }
      ]
    },
    {
      "cell_type": "code",
      "metadata": {
        "id": "8HkDzj0yiLK4"
      },
      "source": [
        "df = pd.read_csv('https://raw.githubusercontent.com/laxmimerit/NLP-Tutorial-8---Sentiment-Classification-using-SpaCy-for-IMDB-and-Amazon-Review-Dataset/master/datasets/imdb_labelled.txt', sep = '\\t', header = None)"
      ],
      "execution_count": 62,
      "outputs": []
    },
    {
      "cell_type": "code",
      "metadata": {
        "id": "8admltyViNcD"
      },
      "source": [
        "df.columns = ['reviews', 'sentiment']"
      ],
      "execution_count": 63,
      "outputs": []
    },
    {
      "cell_type": "code",
      "metadata": {
        "id": "q1jwGMy3io07",
        "outputId": "821d833c-6fd7-4bd7-8e92-fd88937a4eb7",
        "colab": {
          "base_uri": "https://localhost:8080/",
          "height": 204
        }
      },
      "source": [
        "df.head()"
      ],
      "execution_count": 64,
      "outputs": [
        {
          "output_type": "execute_result",
          "data": {
            "text/html": [
              "<div>\n",
              "<style scoped>\n",
              "    .dataframe tbody tr th:only-of-type {\n",
              "        vertical-align: middle;\n",
              "    }\n",
              "\n",
              "    .dataframe tbody tr th {\n",
              "        vertical-align: top;\n",
              "    }\n",
              "\n",
              "    .dataframe thead th {\n",
              "        text-align: right;\n",
              "    }\n",
              "</style>\n",
              "<table border=\"1\" class=\"dataframe\">\n",
              "  <thead>\n",
              "    <tr style=\"text-align: right;\">\n",
              "      <th></th>\n",
              "      <th>reviews</th>\n",
              "      <th>sentiment</th>\n",
              "    </tr>\n",
              "  </thead>\n",
              "  <tbody>\n",
              "    <tr>\n",
              "      <th>0</th>\n",
              "      <td>A very, very, very slow-moving, aimless movie ...</td>\n",
              "      <td>0</td>\n",
              "    </tr>\n",
              "    <tr>\n",
              "      <th>1</th>\n",
              "      <td>Not sure who was more lost - the flat characte...</td>\n",
              "      <td>0</td>\n",
              "    </tr>\n",
              "    <tr>\n",
              "      <th>2</th>\n",
              "      <td>Attempting artiness with black &amp; white and cle...</td>\n",
              "      <td>0</td>\n",
              "    </tr>\n",
              "    <tr>\n",
              "      <th>3</th>\n",
              "      <td>Very little music or anything to speak of.</td>\n",
              "      <td>0</td>\n",
              "    </tr>\n",
              "    <tr>\n",
              "      <th>4</th>\n",
              "      <td>The best scene in the movie was when Gerardo i...</td>\n",
              "      <td>1</td>\n",
              "    </tr>\n",
              "  </tbody>\n",
              "</table>\n",
              "</div>"
            ],
            "text/plain": [
              "                                             reviews  sentiment\n",
              "0  A very, very, very slow-moving, aimless movie ...          0\n",
              "1  Not sure who was more lost - the flat characte...          0\n",
              "2  Attempting artiness with black & white and cle...          0\n",
              "3       Very little music or anything to speak of.            0\n",
              "4  The best scene in the movie was when Gerardo i...          1"
            ]
          },
          "metadata": {
            "tags": []
          },
          "execution_count": 64
        }
      ]
    },
    {
      "cell_type": "code",
      "metadata": {
        "id": "6GFuZnjLi2D3"
      },
      "source": [
        "def get_clean(x):\n",
        "    x = str(x).lower()\n",
        "    x =  ps.cont_exp(x)\n",
        "    x = ps.remove_emails(x)\n",
        "    x = ps.remove_html_tags(x)\n",
        "    x = ps.remove_urls(x)\n",
        "    x =  ps.remove_special_chars(x)\n",
        "    x = ps.remove_accented_chars(x)\n",
        "    return x"
      ],
      "execution_count": 66,
      "outputs": []
    },
    {
      "cell_type": "code",
      "metadata": {
        "id": "dVh0XcHUjRty"
      },
      "source": [
        "x = 'some txt Data'"
      ],
      "execution_count": 67,
      "outputs": []
    },
    {
      "cell_type": "code",
      "metadata": {
        "id": "TL1Lo7jGjYO_",
        "outputId": "c16e1a15-dd31-4d7e-a80f-ec4cd715ff6a",
        "colab": {
          "base_uri": "https://localhost:8080/",
          "height": 35
        }
      },
      "source": [
        "get_clean(x)"
      ],
      "execution_count": 68,
      "outputs": [
        {
          "output_type": "execute_result",
          "data": {
            "application/vnd.google.colaboratory.intrinsic+json": {
              "type": "string"
            },
            "text/plain": [
              "'some txt data'"
            ]
          },
          "metadata": {
            "tags": []
          },
          "execution_count": 68
        }
      ]
    },
    {
      "cell_type": "code",
      "metadata": {
        "id": "3YqKfyXzjf3n"
      },
      "source": [
        "df['reviews'] = df['reviews'].apply(lambda x: get_clean(x))"
      ],
      "execution_count": 69,
      "outputs": []
    },
    {
      "cell_type": "code",
      "metadata": {
        "id": "iChAMdS7jh3D"
      },
      "source": [
        "df['vec'] = df['reviews'].apply(lambda x: get_vec(x))"
      ],
      "execution_count": 70,
      "outputs": []
    },
    {
      "cell_type": "code",
      "metadata": {
        "id": "I_K5pfocju65",
        "outputId": "46ae7fef-9675-468e-893b-dcade5b1b84a",
        "colab": {
          "base_uri": "https://localhost:8080/",
          "height": 204
        }
      },
      "source": [
        "df.head()"
      ],
      "execution_count": 71,
      "outputs": [
        {
          "output_type": "execute_result",
          "data": {
            "text/html": [
              "<div>\n",
              "<style scoped>\n",
              "    .dataframe tbody tr th:only-of-type {\n",
              "        vertical-align: middle;\n",
              "    }\n",
              "\n",
              "    .dataframe tbody tr th {\n",
              "        vertical-align: top;\n",
              "    }\n",
              "\n",
              "    .dataframe thead th {\n",
              "        text-align: right;\n",
              "    }\n",
              "</style>\n",
              "<table border=\"1\" class=\"dataframe\">\n",
              "  <thead>\n",
              "    <tr style=\"text-align: right;\">\n",
              "      <th></th>\n",
              "      <th>reviews</th>\n",
              "      <th>sentiment</th>\n",
              "      <th>vec</th>\n",
              "    </tr>\n",
              "  </thead>\n",
              "  <tbody>\n",
              "    <tr>\n",
              "      <th>0</th>\n",
              "      <td>a very very very slowmoving aimless movthat is...</td>\n",
              "      <td>0</td>\n",
              "      <td>[-0.057691786, 0.12695377, -0.122108765, 0.096...</td>\n",
              "    </tr>\n",
              "    <tr>\n",
              "      <th>1</th>\n",
              "      <td>not syoure who was more lost the flat characte...</td>\n",
              "      <td>0</td>\n",
              "      <td>[0.069615416, 0.12290317, -0.102135, -0.030413...</td>\n",
              "    </tr>\n",
              "    <tr>\n",
              "      <th>2</th>\n",
              "      <td>attempointing aretweetiness with black white a...</td>\n",
              "      <td>0</td>\n",
              "      <td>[-0.1254611, 0.036464497, -0.08460008, -0.0831...</td>\n",
              "    </tr>\n",
              "    <tr>\n",
              "      <th>3</th>\n",
              "      <td>very little myousi see or anything to speak of</td>\n",
              "      <td>0</td>\n",
              "      <td>[-0.10341489, 0.16605233, -0.3033911, 0.120629...</td>\n",
              "    </tr>\n",
              "    <tr>\n",
              "      <th>4</th>\n",
              "      <td>the best scene in the movthat is was when gera...</td>\n",
              "      <td>1</td>\n",
              "      <td>[0.041054044, 0.16048479, -0.08110753, -0.0276...</td>\n",
              "    </tr>\n",
              "  </tbody>\n",
              "</table>\n",
              "</div>"
            ],
            "text/plain": [
              "                                             reviews  ...                                                vec\n",
              "0  a very very very slowmoving aimless movthat is...  ...  [-0.057691786, 0.12695377, -0.122108765, 0.096...\n",
              "1  not syoure who was more lost the flat characte...  ...  [0.069615416, 0.12290317, -0.102135, -0.030413...\n",
              "2  attempointing aretweetiness with black white a...  ...  [-0.1254611, 0.036464497, -0.08460008, -0.0831...\n",
              "3     very little myousi see or anything to speak of  ...  [-0.10341489, 0.16605233, -0.3033911, 0.120629...\n",
              "4  the best scene in the movthat is was when gera...  ...  [0.041054044, 0.16048479, -0.08110753, -0.0276...\n",
              "\n",
              "[5 rows x 3 columns]"
            ]
          },
          "metadata": {
            "tags": []
          },
          "execution_count": 71
        }
      ]
    },
    {
      "cell_type": "code",
      "metadata": {
        "id": "cAQIldvWj1Pg"
      },
      "source": [
        "y = df['sentiment']"
      ],
      "execution_count": 72,
      "outputs": []
    },
    {
      "cell_type": "code",
      "metadata": {
        "id": "-kWWV8XOj8HP"
      },
      "source": [
        "X = df['vec'].to_numpy()\n",
        "X = X.reshape(-1, 1)"
      ],
      "execution_count": 73,
      "outputs": []
    },
    {
      "cell_type": "code",
      "metadata": {
        "id": "D3SAIu26kGVZ"
      },
      "source": [
        "X = np.concatenate(np.concatenate(X, axis = 0), axis = 0).reshape(-1, 300)"
      ],
      "execution_count": 74,
      "outputs": []
    },
    {
      "cell_type": "code",
      "metadata": {
        "id": "2gK9T0oWkLBX"
      },
      "source": [
        "X_train, X_test, y_train, y_test = train_test_split(X, y, test_size = 0.2, random_state = 0, stratify = y)"
      ],
      "execution_count": 75,
      "outputs": []
    },
    {
      "cell_type": "code",
      "metadata": {
        "id": "SQ0v3aB_kThV"
      },
      "source": [
        "import tensorflow as tf\n",
        "from tensorflow import keras\n",
        "from tensorflow.keras import Sequential\n",
        "from tensorflow.keras.layers import Flatten, Dense\n",
        "from tensorflow.keras.optimizers import Adam\n",
        "from tensorflow.keras import Sequential\n",
        "from tensorflow.keras.layers import Flatten, Dense, Conv1D, BatchNormalization, Dropout"
      ],
      "execution_count": 77,
      "outputs": []
    },
    {
      "cell_type": "code",
      "metadata": {
        "id": "CjPgNx0ek40C"
      },
      "source": [
        "X_train = X_train.reshape(X_train.shape[0], X_train.shape[1], 1)\n",
        "X_test = X_test.reshape(X_test.shape[0], X_test.shape[1], 1)\n"
      ],
      "execution_count": 78,
      "outputs": []
    },
    {
      "cell_type": "code",
      "metadata": {
        "id": "mHZ_-fpjlBv3"
      },
      "source": [
        "model = Sequential()\n",
        "model.add(Conv1D(32, 2, activation='relu', input_shape = X_train[0].shape))\n",
        "model.add(BatchNormalization())\n",
        "model.add(Dropout(0.2))\n",
        "\n",
        "model.add(Flatten())\n",
        "model.add(Dense(64, activation='relu'))\n",
        "model.add(Dropout(0.3))\n",
        "\n",
        "model.add(Dense(1, activation='sigmoid'))"
      ],
      "execution_count": 79,
      "outputs": []
    },
    {
      "cell_type": "code",
      "metadata": {
        "id": "BI1vgWv7lB62",
        "outputId": "21eb782d-399f-4690-a816-7bdb7204623c",
        "colab": {
          "base_uri": "https://localhost:8080/"
        }
      },
      "source": [
        "model.summary()"
      ],
      "execution_count": 80,
      "outputs": [
        {
          "output_type": "stream",
          "text": [
            "Model: \"sequential\"\n",
            "_________________________________________________________________\n",
            "Layer (type)                 Output Shape              Param #   \n",
            "=================================================================\n",
            "conv1d (Conv1D)              (None, 299, 32)           96        \n",
            "_________________________________________________________________\n",
            "batch_normalization (BatchNo (None, 299, 32)           128       \n",
            "_________________________________________________________________\n",
            "dropout (Dropout)            (None, 299, 32)           0         \n",
            "_________________________________________________________________\n",
            "flatten (Flatten)            (None, 9568)              0         \n",
            "_________________________________________________________________\n",
            "dense (Dense)                (None, 64)                612416    \n",
            "_________________________________________________________________\n",
            "dropout_1 (Dropout)          (None, 64)                0         \n",
            "_________________________________________________________________\n",
            "dense_1 (Dense)              (None, 1)                 65        \n",
            "=================================================================\n",
            "Total params: 612,705\n",
            "Trainable params: 612,641\n",
            "Non-trainable params: 64\n",
            "_________________________________________________________________\n"
          ],
          "name": "stdout"
        }
      ]
    },
    {
      "cell_type": "code",
      "metadata": {
        "id": "zjYl4ucalCGE",
        "outputId": "5b9a7090-7ca4-4368-aada-7cee13ed9da2",
        "colab": {
          "base_uri": "https://localhost:8080/"
        }
      },
      "source": [
        "epochs = 20\n",
        "model.compile(optimizer=Adam(0.00001), loss = 'binary_crossentropy', metrics= ['accuracy'])\n",
        "history = model.fit(X_train, y_train, epochs = epochs, validation_data=(X_test, y_test))"
      ],
      "execution_count": 81,
      "outputs": [
        {
          "output_type": "stream",
          "text": [
            "Epoch 1/20\n",
            "19/19 [==============================] - 1s 33ms/step - loss: 0.7574 - accuracy: 0.5000 - val_loss: 0.6921 - val_accuracy: 0.5400\n",
            "Epoch 2/20\n",
            "19/19 [==============================] - 0s 22ms/step - loss: 0.7087 - accuracy: 0.5468 - val_loss: 0.6910 - val_accuracy: 0.5533\n",
            "Epoch 3/20\n",
            "19/19 [==============================] - 0s 22ms/step - loss: 0.6893 - accuracy: 0.5602 - val_loss: 0.6897 - val_accuracy: 0.6267\n",
            "Epoch 4/20\n",
            "19/19 [==============================] - 0s 21ms/step - loss: 0.6645 - accuracy: 0.6020 - val_loss: 0.6884 - val_accuracy: 0.6467\n",
            "Epoch 5/20\n",
            "19/19 [==============================] - 0s 22ms/step - loss: 0.6418 - accuracy: 0.6154 - val_loss: 0.6869 - val_accuracy: 0.6800\n",
            "Epoch 6/20\n",
            "19/19 [==============================] - 0s 21ms/step - loss: 0.6209 - accuracy: 0.6355 - val_loss: 0.6850 - val_accuracy: 0.7067\n",
            "Epoch 7/20\n",
            "19/19 [==============================] - 0s 23ms/step - loss: 0.6078 - accuracy: 0.6522 - val_loss: 0.6830 - val_accuracy: 0.6867\n",
            "Epoch 8/20\n",
            "19/19 [==============================] - 0s 22ms/step - loss: 0.5973 - accuracy: 0.6973 - val_loss: 0.6808 - val_accuracy: 0.7067\n",
            "Epoch 9/20\n",
            "19/19 [==============================] - 0s 23ms/step - loss: 0.5844 - accuracy: 0.6823 - val_loss: 0.6780 - val_accuracy: 0.6867\n",
            "Epoch 10/20\n",
            "19/19 [==============================] - 0s 22ms/step - loss: 0.5630 - accuracy: 0.7341 - val_loss: 0.6751 - val_accuracy: 0.6933\n",
            "Epoch 11/20\n",
            "19/19 [==============================] - 0s 22ms/step - loss: 0.5750 - accuracy: 0.7074 - val_loss: 0.6718 - val_accuracy: 0.7000\n",
            "Epoch 12/20\n",
            "19/19 [==============================] - 0s 22ms/step - loss: 0.5640 - accuracy: 0.7007 - val_loss: 0.6679 - val_accuracy: 0.6800\n",
            "Epoch 13/20\n",
            "19/19 [==============================] - 0s 22ms/step - loss: 0.5275 - accuracy: 0.7291 - val_loss: 0.6636 - val_accuracy: 0.6933\n",
            "Epoch 14/20\n",
            "19/19 [==============================] - 0s 21ms/step - loss: 0.5426 - accuracy: 0.7258 - val_loss: 0.6590 - val_accuracy: 0.7000\n",
            "Epoch 15/20\n",
            "19/19 [==============================] - 0s 22ms/step - loss: 0.5196 - accuracy: 0.7408 - val_loss: 0.6537 - val_accuracy: 0.7000\n",
            "Epoch 16/20\n",
            "19/19 [==============================] - 0s 22ms/step - loss: 0.5197 - accuracy: 0.7508 - val_loss: 0.6481 - val_accuracy: 0.7200\n",
            "Epoch 17/20\n",
            "19/19 [==============================] - 0s 22ms/step - loss: 0.5060 - accuracy: 0.7609 - val_loss: 0.6423 - val_accuracy: 0.7133\n",
            "Epoch 18/20\n",
            "19/19 [==============================] - 0s 22ms/step - loss: 0.4951 - accuracy: 0.7759 - val_loss: 0.6364 - val_accuracy: 0.7133\n",
            "Epoch 19/20\n",
            "19/19 [==============================] - 0s 22ms/step - loss: 0.4974 - accuracy: 0.7625 - val_loss: 0.6291 - val_accuracy: 0.7200\n",
            "Epoch 20/20\n",
            "19/19 [==============================] - 0s 23ms/step - loss: 0.4885 - accuracy: 0.7726 - val_loss: 0.6220 - val_accuracy: 0.7133\n"
          ],
          "name": "stdout"
        }
      ]
    },
    {
      "cell_type": "code",
      "metadata": {
        "id": "6NrgNeTulCLT",
        "outputId": "68f8bc7a-7d0d-4daf-df84-3c50fe45cfd0",
        "colab": {
          "base_uri": "https://localhost:8080/"
        }
      },
      "source": [
        "history.history"
      ],
      "execution_count": 82,
      "outputs": [
        {
          "output_type": "execute_result",
          "data": {
            "text/plain": [
              "{'accuracy': [0.5,\n",
              "  0.546822726726532,\n",
              "  0.5602006912231445,\n",
              "  0.6020066738128662,\n",
              "  0.6153846383094788,\n",
              "  0.6354514956474304,\n",
              "  0.6521739363670349,\n",
              "  0.6973243951797485,\n",
              "  0.6822742223739624,\n",
              "  0.7341136932373047,\n",
              "  0.7073578834533691,\n",
              "  0.7006688714027405,\n",
              "  0.7290970087051392,\n",
              "  0.7257525324821472,\n",
              "  0.7408027052879333,\n",
              "  0.7508361339569092,\n",
              "  0.760869562625885,\n",
              "  0.7759197354316711,\n",
              "  0.7625418305397034,\n",
              "  0.7725752592086792],\n",
              " 'loss': [0.7573651075363159,\n",
              "  0.708745002746582,\n",
              "  0.6892684102058411,\n",
              "  0.6644684076309204,\n",
              "  0.6418461203575134,\n",
              "  0.6208824515342712,\n",
              "  0.6077518463134766,\n",
              "  0.5972973108291626,\n",
              "  0.5844161510467529,\n",
              "  0.5629985928535461,\n",
              "  0.5749505162239075,\n",
              "  0.5639561414718628,\n",
              "  0.5275177359580994,\n",
              "  0.542555034160614,\n",
              "  0.5196022391319275,\n",
              "  0.519731342792511,\n",
              "  0.5060081481933594,\n",
              "  0.4950670599937439,\n",
              "  0.49736180901527405,\n",
              "  0.48849818110466003],\n",
              " 'val_accuracy': [0.5400000214576721,\n",
              "  0.5533333420753479,\n",
              "  0.6266666650772095,\n",
              "  0.6466666460037231,\n",
              "  0.6800000071525574,\n",
              "  0.7066666483879089,\n",
              "  0.6866666674613953,\n",
              "  0.7066666483879089,\n",
              "  0.6866666674613953,\n",
              "  0.6933333277702332,\n",
              "  0.699999988079071,\n",
              "  0.6800000071525574,\n",
              "  0.6933333277702332,\n",
              "  0.699999988079071,\n",
              "  0.699999988079071,\n",
              "  0.7200000286102295,\n",
              "  0.7133333086967468,\n",
              "  0.7133333086967468,\n",
              "  0.7200000286102295,\n",
              "  0.7133333086967468],\n",
              " 'val_loss': [0.6921199560165405,\n",
              "  0.6909818649291992,\n",
              "  0.6897196173667908,\n",
              "  0.6884181499481201,\n",
              "  0.6868606209754944,\n",
              "  0.6849567890167236,\n",
              "  0.6830058693885803,\n",
              "  0.6808286905288696,\n",
              "  0.6779572367668152,\n",
              "  0.6750637292861938,\n",
              "  0.6718023419380188,\n",
              "  0.667899489402771,\n",
              "  0.6636123657226562,\n",
              "  0.6590404510498047,\n",
              "  0.6537266969680786,\n",
              "  0.6481470465660095,\n",
              "  0.6422637701034546,\n",
              "  0.636415958404541,\n",
              "  0.6290881037712097,\n",
              "  0.6219817996025085]}"
            ]
          },
          "metadata": {
            "tags": []
          },
          "execution_count": 82
        }
      ]
    },
    {
      "cell_type": "code",
      "metadata": {
        "id": "XLgZuYJ9n7J9",
        "outputId": "01b51535-e8d6-4ee2-aa51-e1519d080519",
        "colab": {
          "base_uri": "https://localhost:8080/"
        }
      },
      "source": [
        "y_pred = model.predict_classes(X_test)"
      ],
      "execution_count": 90,
      "outputs": [
        {
          "output_type": "stream",
          "text": [
            "WARNING:tensorflow:From <ipython-input-90-fdaaf2360398>:1: Sequential.predict_classes (from tensorflow.python.keras.engine.sequential) is deprecated and will be removed after 2021-01-01.\n",
            "Instructions for updating:\n",
            "Please use instead:* `np.argmax(model.predict(x), axis=-1)`,   if your model does multi-class classification   (e.g. if it uses a `softmax` last-layer activation).* `(model.predict(x) > 0.5).astype(\"int32\")`,   if your model does binary classification   (e.g. if it uses a `sigmoid` last-layer activation).\n"
          ],
          "name": "stdout"
        }
      ]
    },
    {
      "cell_type": "code",
      "metadata": {
        "id": "z9dpuXBelCP0"
      },
      "source": [
        "def plot_learningCurve(history, epoch):\n",
        "  # Plot training & validation accuracy values\n",
        "  epoch_range = range(1, epoch+1)\n",
        "  plt.plot(epoch_range, history.history['accuracy'])\n",
        "  plt.plot(epoch_range, history.history['val_accuracy'])\n",
        "  plt.title('Model accuracy')\n",
        "  plt.ylabel('Accuracy')\n",
        "  plt.xlabel('Epoch')\n",
        "  plt.legend(['Train', 'Val'], loc='upper left')\n",
        "  plt.show()\n",
        "\n",
        "  # Plot training & validation loss values\n",
        "  plt.plot(epoch_range, history.history['loss'])\n",
        "  plt.plot(epoch_range, history.history['val_loss'])\n",
        "  plt.title('Model loss')\n",
        "  plt.ylabel('Loss')\n",
        "  plt.xlabel('Epoch')\n",
        "  plt.legend(['Train', 'Val'], loc='upper left')\n",
        "  plt.show()"
      ],
      "execution_count": 83,
      "outputs": []
    },
    {
      "cell_type": "code",
      "metadata": {
        "id": "YS_o6UchlCa8",
        "outputId": "6eff2359-5572-478c-87d3-f50f545f4101",
        "colab": {
          "base_uri": "https://localhost:8080/",
          "height": 573
        }
      },
      "source": [
        "import matplotlib.pyplot as plt\n",
        "plot_learningCurve(history, epochs)"
      ],
      "execution_count": 85,
      "outputs": [
        {
          "output_type": "display_data",
          "data": {
            "image/png": "[encoded data removed]",
            "text/plain": [
              "<Figure size 432x288 with 1 Axes>"
            ]
          },
          "metadata": {
            "tags": [],
            "needs_background": "light"
          }
        },
        {
          "output_type": "display_data",
          "data": {
            "image/png": "[encoded data removed]",
            "text/plain": [
              "<Figure size 432x288 with 1 Axes>"
            ]
          },
          "metadata": {
            "tags": [],
            "needs_background": "light"
          }
        }
      ]
    },
    {
      "cell_type": "code",
      "metadata": {
        "id": "9YwCQf20lCEh",
        "outputId": "542fdca8-1877-4bc5-acf3-206613666de7",
        "colab": {
          "base_uri": "https://localhost:8080/"
        }
      },
      "source": [
        "from sklearn.metrics import confusion_matrix, classification_report\n",
        "confusion_matrix(y_test, y_pred)"
      ],
      "execution_count": 97,
      "outputs": [
        {
          "output_type": "execute_result",
          "data": {
            "text/plain": [
              "array([[55, 18],\n",
              "       [25, 52]])"
            ]
          },
          "metadata": {
            "tags": []
          },
          "execution_count": 97
        }
      ]
    },
    {
      "cell_type": "code",
      "metadata": {
        "id": "h56u-lMfnkNo"
      },
      "source": [
        "from tensorflow.keras.models import load_model"
      ],
      "execution_count": 98,
      "outputs": []
    },
    {
      "cell_type": "code",
      "metadata": {
        "id": "sSCdBtaglCBJ"
      },
      "source": [
        "model.save('/content/drive/My Drive/Word2vec(custom experiment)/Spacy_word2vec_sentimental_analysis_cnn.h5')"
      ],
      "execution_count": 99,
      "outputs": []
    },
    {
      "cell_type": "code",
      "metadata": {
        "id": "tKyTyWaTlB_z",
        "outputId": "ad451ab8-fc28-4ddc-8b42-95d28f26455d",
        "colab": {
          "base_uri": "https://localhost:8080/"
        }
      },
      "source": [
        "X_test[0].shape"
      ],
      "execution_count": 100,
      "outputs": [
        {
          "output_type": "execute_result",
          "data": {
            "text/plain": [
              "(300, 1)"
            ]
          },
          "metadata": {
            "tags": []
          },
          "execution_count": 100
        }
      ]
    },
    {
      "cell_type": "code",
      "metadata": {
        "id": "KrDEQ6LBlB5b"
      },
      "source": [
        "def get_pred(x, model):\n",
        "  x = get_clean(x)\n",
        "  vec = get_vec(x).reshape(1, -1)\n",
        "  #vec = scaler.transform(vec)\n",
        "  vec = vec.reshape(1, 300, 1)  \n",
        "  y_pred = model.predict_classes(vec)\n",
        "  return y_pred"
      ],
      "execution_count": 104,
      "outputs": []
    },
    {
      "cell_type": "code",
      "metadata": {
        "id": "HYQ11Y60lB33",
        "outputId": "1374bec8-5eb3-480d-df0d-b197922a06e2",
        "colab": {
          "base_uri": "https://localhost:8080/"
        }
      },
      "source": [
        "x = 'it was wonderful movie. thanks for making it'\n",
        "get_pred(x, model)"
      ],
      "execution_count": 108,
      "outputs": [
        {
          "output_type": "execute_result",
          "data": {
            "text/plain": [
              "array([[1]], dtype=int32)"
            ]
          },
          "metadata": {
            "tags": []
          },
          "execution_count": 108
        }
      ]
    },
    {
      "cell_type": "code",
      "metadata": {
        "id": "pwDWXbS5lB1W",
        "outputId": "7366b833-4891-43f8-b86b-20564d1c67e6",
        "colab": {
          "base_uri": "https://localhost:8080/"
        }
      },
      "source": [
        "x = 'it was not a good movie '\n",
        "get_pred(x, model)"
      ],
      "execution_count": 111,
      "outputs": [
        {
          "output_type": "execute_result",
          "data": {
            "text/plain": [
              "array([[0]], dtype=int32)"
            ]
          },
          "metadata": {
            "tags": []
          },
          "execution_count": 111
        }
      ]
    },
    {
      "cell_type": "code",
      "metadata": {
        "id": "_kMa61FzlBuC"
      },
      "source": [
        ""
      ],
      "execution_count": null,
      "outputs": []
    },
    {
      "cell_type": "markdown",
      "metadata": {
        "id": "MC5mKOLLkMaF"
      },
      "source": [
        ""
      ]
    }
  ]
}