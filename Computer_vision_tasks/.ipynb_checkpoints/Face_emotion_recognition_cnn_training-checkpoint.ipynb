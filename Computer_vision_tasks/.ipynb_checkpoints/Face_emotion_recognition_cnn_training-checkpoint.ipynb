{
 "cells": [
  {
   "cell_type": "code",
   "execution_count": 1,
   "metadata": {
    "colab": {
     "base_uri": "https://localhost:8080/",
     "height": 124
    },
    "colab_type": "code",
    "id": "5EX4Dyr-vk9b",
    "outputId": "5734d619-30d2-46b5-8b68-7383ed0b5d00"
   },
   "outputs": [
    {
     "name": "stdout",
     "output_type": "stream",
     "text": [
      "Go to this URL in a browser: https://accounts.google.com/o/oauth2/auth?client_id=947318989803-6bn6qk8qdgf4n4g3pfee6491hc0brc4i.apps.googleusercontent.com&redirect_uri=urn%3aietf%3awg%3aoauth%3a2.0%3aoob&response_type=code&scope=email%20https%3a%2f%2fwww.googleapis.com%2fauth%2fdocs.test%20https%3a%2f%2fwww.googleapis.com%2fauth%2fdrive%20https%3a%2f%2fwww.googleapis.com%2fauth%2fdrive.photos.readonly%20https%3a%2f%2fwww.googleapis.com%2fauth%2fpeopleapi.readonly\n",
      "\n",
      "Enter your authorization code:\n",
      "··········\n",
      "Mounted at /gdrive\n"
     ]
    }
   ],
   "source": [
    "from google.colab import drive\n",
    "drive.mount('/gdrive')"
   ]
  },
  {
   "cell_type": "code",
   "execution_count": 2,
   "metadata": {
    "colab": {
     "base_uri": "https://localhost:8080/",
     "height": 72
    },
    "colab_type": "code",
    "id": "xSaiCRa1Tnrz",
    "outputId": "41f0def1-bb34-48b4-8c4e-1519fa3d6bcd"
   },
   "outputs": [
    {
     "name": "stdout",
     "output_type": "stream",
     "text": [
      "Requirement already satisfied: opencv-python in /usr/local/lib/python3.6/dist-packages (4.1.2.30)\n",
      "Requirement already satisfied: numpy>=1.11.3 in /usr/local/lib/python3.6/dist-packages (from opencv-python) (1.18.5)\n"
     ]
    }
   ],
   "source": [
    "pip install opencv-python"
   ]
  },
  {
   "cell_type": "code",
   "execution_count": 3,
   "metadata": {
    "colab": {},
    "colab_type": "code",
    "id": "jHxpwNu3wbRv"
   },
   "outputs": [],
   "source": [
    "import pickle\n",
    "import numpy as np\n",
    "import cv2\n",
    "import matplotlib\n",
    "from matplotlib import pyplot as plt\n",
    "%matplotlib inline"
   ]
  },
  {
   "cell_type": "code",
   "execution_count": 4,
   "metadata": {
    "colab": {},
    "colab_type": "code",
    "id": "Go-jBmWtan4N"
   },
   "outputs": [],
   "source": [
    "pip install -q keras"
   ]
  },
  {
   "cell_type": "code",
   "execution_count": 5,
   "metadata": {
    "colab": {
     "base_uri": "https://localhost:8080/",
     "height": 35
    },
    "colab_type": "code",
    "id": "Id6L_TqTauBs",
    "outputId": "753fc716-d777-4fc9-c5c4-78a98a138951"
   },
   "outputs": [
    {
     "name": "stderr",
     "output_type": "stream",
     "text": [
      "Using TensorFlow backend.\n"
     ]
    }
   ],
   "source": [
    "import keras"
   ]
  },
  {
   "cell_type": "code",
   "execution_count": 8,
   "metadata": {
    "colab": {
     "base_uri": "https://localhost:8080/",
     "height": 1000
    },
    "colab_type": "code",
    "id": "IWaAEdwTalEw",
    "outputId": "5fbc0246-afe2-4682-f110-83a82a7e4aab"
   },
   "outputs": [
    {
     "name": "stdout",
     "output_type": "stream",
     "text": [
      "Train on 28709 samples, validate on 3589 samples\n",
      "Epoch 1/30\n",
      "28709/28709 [==============================] - 10s 345us/step - loss: 1.7214 - accuracy: 0.3146 - val_loss: 1.5387 - val_accuracy: 0.4054\n",
      "Epoch 2/30\n",
      "28709/28709 [==============================] - 9s 317us/step - loss: 1.4979 - accuracy: 0.4170 - val_loss: 1.4652 - val_accuracy: 0.4347\n",
      "Epoch 3/30\n",
      "28709/28709 [==============================] - 9s 317us/step - loss: 1.3641 - accuracy: 0.4709 - val_loss: 1.3025 - val_accuracy: 0.5063\n",
      "Epoch 4/30\n",
      "28709/28709 [==============================] - 9s 317us/step - loss: 1.2832 - accuracy: 0.5093 - val_loss: 1.2402 - val_accuracy: 0.5255\n",
      "Epoch 5/30\n",
      "28709/28709 [==============================] - 9s 317us/step - loss: 1.2233 - accuracy: 0.5329 - val_loss: 1.2302 - val_accuracy: 0.5269\n",
      "Epoch 6/30\n",
      "28709/28709 [==============================] - 9s 317us/step - loss: 1.1685 - accuracy: 0.5518 - val_loss: 1.1746 - val_accuracy: 0.5534\n",
      "Epoch 7/30\n",
      "28709/28709 [==============================] - 9s 317us/step - loss: 1.1288 - accuracy: 0.5698 - val_loss: 1.1428 - val_accuracy: 0.5662\n",
      "Epoch 8/30\n",
      "28709/28709 [==============================] - 9s 321us/step - loss: 1.0821 - accuracy: 0.5859 - val_loss: 1.1532 - val_accuracy: 0.5734\n",
      "Epoch 9/30\n",
      "28709/28709 [==============================] - 9s 322us/step - loss: 1.0486 - accuracy: 0.5976 - val_loss: 1.1362 - val_accuracy: 0.5706\n",
      "Epoch 10/30\n",
      "28709/28709 [==============================] - 9s 316us/step - loss: 1.0060 - accuracy: 0.6178 - val_loss: 1.1329 - val_accuracy: 0.5776\n",
      "Epoch 11/30\n",
      "28709/28709 [==============================] - 9s 317us/step - loss: 0.9659 - accuracy: 0.6344 - val_loss: 1.1199 - val_accuracy: 0.5882\n",
      "Epoch 12/30\n",
      "28709/28709 [==============================] - 9s 316us/step - loss: 0.9197 - accuracy: 0.6512 - val_loss: 1.1441 - val_accuracy: 0.5874\n",
      "Epoch 13/30\n",
      "28709/28709 [==============================] - 9s 315us/step - loss: 0.8851 - accuracy: 0.6642 - val_loss: 1.1406 - val_accuracy: 0.6038\n",
      "Epoch 14/30\n",
      "28709/28709 [==============================] - 9s 317us/step - loss: 0.8419 - accuracy: 0.6813 - val_loss: 1.1778 - val_accuracy: 0.5952\n",
      "Epoch 15/30\n",
      "28709/28709 [==============================] - 9s 319us/step - loss: 0.8041 - accuracy: 0.6960 - val_loss: 1.2000 - val_accuracy: 0.5999\n",
      "Epoch 16/30\n",
      "28709/28709 [==============================] - 9s 317us/step - loss: 0.7622 - accuracy: 0.7096 - val_loss: 1.1936 - val_accuracy: 0.5974\n",
      "Epoch 17/30\n",
      "28709/28709 [==============================] - 9s 317us/step - loss: 0.7193 - accuracy: 0.7313 - val_loss: 1.2342 - val_accuracy: 0.5904\n",
      "Epoch 18/30\n",
      "28709/28709 [==============================] - 9s 317us/step - loss: 0.6844 - accuracy: 0.7431 - val_loss: 1.2455 - val_accuracy: 0.5971\n",
      "Epoch 19/30\n",
      "28709/28709 [==============================] - 9s 315us/step - loss: 0.6498 - accuracy: 0.7561 - val_loss: 1.2779 - val_accuracy: 0.6038\n",
      "Epoch 20/30\n",
      "28709/28709 [==============================] - 9s 318us/step - loss: 0.6163 - accuracy: 0.7712 - val_loss: 1.2897 - val_accuracy: 0.5977\n",
      "Epoch 21/30\n",
      "28709/28709 [==============================] - 9s 317us/step - loss: 0.5790 - accuracy: 0.7871 - val_loss: 1.2832 - val_accuracy: 0.6135\n",
      "Epoch 22/30\n",
      "28709/28709 [==============================] - 9s 321us/step - loss: 0.5430 - accuracy: 0.7967 - val_loss: 1.3689 - val_accuracy: 0.5943\n",
      "Epoch 23/30\n",
      "28709/28709 [==============================] - 9s 318us/step - loss: 0.5252 - accuracy: 0.8062 - val_loss: 1.3894 - val_accuracy: 0.6002\n",
      "Epoch 24/30\n",
      "28709/28709 [==============================] - 9s 319us/step - loss: 0.4927 - accuracy: 0.8201 - val_loss: 1.3869 - val_accuracy: 0.6007\n",
      "Epoch 25/30\n",
      "28709/28709 [==============================] - 9s 315us/step - loss: 0.4813 - accuracy: 0.8224 - val_loss: 1.4276 - val_accuracy: 0.5899\n",
      "Epoch 26/30\n",
      "28709/28709 [==============================] - 9s 316us/step - loss: 0.4550 - accuracy: 0.8320 - val_loss: 1.5070 - val_accuracy: 0.5918\n",
      "Epoch 27/30\n",
      "28709/28709 [==============================] - 9s 316us/step - loss: 0.4229 - accuracy: 0.8436 - val_loss: 1.5776 - val_accuracy: 0.5871\n",
      "Epoch 28/30\n",
      "28709/28709 [==============================] - 9s 316us/step - loss: 0.4141 - accuracy: 0.8527 - val_loss: 1.5659 - val_accuracy: 0.5943\n",
      "Epoch 29/30\n",
      "28709/28709 [==============================] - 9s 316us/step - loss: 0.4008 - accuracy: 0.8544 - val_loss: 1.5613 - val_accuracy: 0.6030\n",
      "Epoch 30/30\n",
      "28709/28709 [==============================] - 9s 315us/step - loss: 0.3886 - accuracy: 0.8600 - val_loss: 1.5969 - val_accuracy: 0.5952\n"
     ]
    },
    {
     "data": {
      "text/plain": [
       "<keras.callbacks.callbacks.History at 0x7f44401f49e8>"
      ]
     },
     "execution_count": 8,
     "metadata": {
      "tags": []
     },
     "output_type": "execute_result"
    }
   ],
   "source": [
    "import sys, os\n",
    "import pandas as pd\n",
    "import numpy as np\n",
    "\n",
    "from keras.models import Sequential\n",
    "from keras.layers import Dense, Dropout, Activation, Flatten\n",
    "from keras.layers import Conv2D, MaxPooling2D, BatchNormalization,AveragePooling2D\n",
    "from keras.losses import categorical_crossentropy\n",
    "from keras.optimizers import Adam\n",
    "from keras.regularizers import l2\n",
    "from keras.utils import np_utils\n",
    "# pd.set_option('display.max_rows', 500)\n",
    "# pd.set_option('display.max_columns', 500)\n",
    "# pd.set_option('display.width', 1000)\n",
    "\n",
    "df=pd.read_csv('/gdrive/My Drive/Colab Notebooks/Face recognition data/fer2013.csv')\n",
    "\n",
    "# print(df.info())\n",
    "# print(df[\"Usage\"].value_counts())\n",
    "\n",
    "# print(df.head())\n",
    "X_train,train_y,X_test,test_y=[],[],[],[]\n",
    "\n",
    "for index, row in df.iterrows():\n",
    "    val=row['pixels'].split(\" \")\n",
    "    try:\n",
    "        if 'Training' in row['Usage']:\n",
    "           X_train.append(np.array(val,'float32'))\n",
    "           train_y.append(row['emotion'])\n",
    "        elif 'PublicTest' in row['Usage']:\n",
    "           X_test.append(np.array(val,'float32'))\n",
    "           test_y.append(row['emotion'])\n",
    "    except:\n",
    "        print(f\"error occured at index :{index} and row:{row}\")\n",
    "\n",
    "\n",
    "num_features = 64\n",
    "num_labels = 7\n",
    "batch_size = 64\n",
    "epochs = 30\n",
    "width, height = 48, 48\n",
    "\n",
    "\n",
    "X_train = np.array(X_train,'float32')\n",
    "train_y = np.array(train_y,'float32')\n",
    "X_test = np.array(X_test,'float32')\n",
    "test_y = np.array(test_y,'float32')\n",
    "\n",
    "train_y=np_utils.to_categorical(train_y, num_classes=num_labels)\n",
    "test_y=np_utils.to_categorical(test_y, num_classes=num_labels)\n",
    "\n",
    "#cannot produce\n",
    "#normalizing data between oand 1\n",
    "X_train -= np.mean(X_train, axis=0)\n",
    "X_train /= np.std(X_train, axis=0)\n",
    "\n",
    "X_test -= np.mean(X_test, axis=0)\n",
    "X_test /= np.std(X_test, axis=0)\n",
    "\n",
    "X_train = X_train.reshape(X_train.shape[0], 48, 48, 1)\n",
    "\n",
    "X_test = X_test.reshape(X_test.shape[0], 48, 48, 1)\n",
    "\n",
    "# print(f\"shape:{X_train.shape}\")\n",
    "##designing the cnn\n",
    "#1st convolution layer\n",
    "model = Sequential()\n",
    "\n",
    "model.add(Conv2D(64, kernel_size=(3, 3), activation='relu', input_shape=(X_train.shape[1:])))\n",
    "model.add(Conv2D(64,kernel_size= (3, 3), activation='relu'))\n",
    "model.add(BatchNormalization())\n",
    "model.add(MaxPooling2D(pool_size=(2,2), strides=(2, 2)))\n",
    "model.add(Dropout(0.5))\n",
    "\n",
    "#2nd convolution layer\n",
    "model.add(Conv2D(64, (3, 3), activation='relu'))\n",
    "model.add(Conv2D(64, (3, 3), activation='relu'))\n",
    "model.add(BatchNormalization())\n",
    "model.add(MaxPooling2D(pool_size=(2,2), strides=(2, 2)))\n",
    "model.add(Dropout(0.5))\n",
    "\n",
    "#3rd convolution layer\n",
    "model.add(Conv2D(128, (3, 3), activation='relu'))\n",
    "model.add(Conv2D(128, (3, 3), activation='relu'))\n",
    "model.add(BatchNormalization())\n",
    "model.add(MaxPooling2D(pool_size=(2,2), strides=(2, 2)))\n",
    "\n",
    "model.add(Flatten())\n",
    "\n",
    "#fully connected neural networks\n",
    "model.add(Dense(1024, activation='relu'))\n",
    "model.add(Dropout(0.2))\n",
    "model.add(Dense(1024, activation='relu'))\n",
    "model.add(Dropout(0.2))\n",
    "\n",
    "model.add(Dense(num_labels, activation='softmax'))\n",
    "\n",
    "# model.summary()\n",
    "\n",
    "#Compliling the model\n",
    "model.compile(loss=categorical_crossentropy,\n",
    "              optimizer=Adam(),\n",
    "              metrics=['accuracy'])\n",
    "\n",
    "#Training the model\n",
    "model.fit(X_train, train_y,\n",
    "          batch_size=batch_size,\n",
    "          epochs=epochs,\n",
    "          verbose=1,\n",
    "          validation_data=(X_test, test_y),\n",
    "          shuffle=True)\n"
   ]
  },
  {
   "cell_type": "code",
   "execution_count": 9,
   "metadata": {
    "colab": {},
    "colab_type": "code",
    "id": "-LgpNe-scmvY"
   },
   "outputs": [],
   "source": [
    "fer_json = model.to_json()\n",
    "with open(\"/gdrive/My Drive/Colab Notebooks/Face recognition data/face_emotion_recognition_with_batch_normalisation.json\", \"w\") as json_file:\n",
    "    json_file.write(fer_json)\n",
    "model.save_weights(\"/gdrive/My Drive/Colab Notebooks/Face recognition data/face_emotion_recognition_with_batch_normalisation.h5\")"
   ]
  },
  {
   "cell_type": "code",
   "execution_count": null,
   "metadata": {
    "colab": {},
    "colab_type": "code",
    "id": "i6WvpaO3Cb6e"
   },
   "outputs": [],
   "source": []
  }
 ],
 "metadata": {
  "accelerator": "GPU",
  "colab": {
   "collapsed_sections": [],
   "name": "Face recognition.ipynb",
   "provenance": [],
   "toc_visible": true
  },
  "kernelspec": {
   "display_name": "Python 3",
   "language": "python",
   "name": "python3"
  },
  "language_info": {
   "codemirror_mode": {
    "name": "ipython",
    "version": 3
   },
   "file_extension": ".py",
   "mimetype": "text/x-python",
   "name": "python",
   "nbconvert_exporter": "python",
   "pygments_lexer": "ipython3",
   "version": "3.6.7"
  }
 },
 "nbformat": 4,
 "nbformat_minor": 1
}
